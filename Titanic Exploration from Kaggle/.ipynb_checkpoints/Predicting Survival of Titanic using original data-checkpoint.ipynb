{
 "cells": [
  {
   "cell_type": "code",
   "execution_count": 1,
   "metadata": {
    "collapsed": true
   },
   "outputs": [],
   "source": [
    "import graphlab"
   ]
  },
  {
   "cell_type": "code",
   "execution_count": 2,
   "metadata": {
    "collapsed": false
   },
   "outputs": [
    {
     "name": "stdout",
     "output_type": "stream",
     "text": [
      "This non-commercial license of GraphLab Create is assigned to chenzheng17@yahoo.com and will expire on March 29, 2017. For commercial licensing options, visit https://dato.com/buy/.\n"
     ]
    },
    {
     "name": "stderr",
     "output_type": "stream",
     "text": [
      "2016-04-25 16:25:30,220 [INFO] graphlab.cython.cy_server, 176: GraphLab Create v1.8.5 started. Logging: C:\\Users\\bofg8\\AppData\\Local\\Temp\\graphlab_server_1461572727.log.0\n"
     ]
    },
    {
     "data": {
      "text/html": [
       "<pre>Finished parsing file C:\\Users\\bofg8\\Python Directory\\kaggle_titanic\\train.csv</pre>"
      ],
      "text/plain": [
       "Finished parsing file C:\\Users\\bofg8\\Python Directory\\kaggle_titanic\\train.csv"
      ]
     },
     "metadata": {},
     "output_type": "display_data"
    },
    {
     "data": {
      "text/html": [
       "<pre>Parsing completed. Parsed 100 lines in 0.018013 secs.</pre>"
      ],
      "text/plain": [
       "Parsing completed. Parsed 100 lines in 0.018013 secs."
      ]
     },
     "metadata": {},
     "output_type": "display_data"
    },
    {
     "name": "stdout",
     "output_type": "stream",
     "text": [
      "------------------------------------------------------\n",
      "Inferred types from first line of file as \n",
      "column_type_hints=[long,long,long,str,str,float,long,long,str,float,str,str]\n",
      "If parsing fails due to incorrect types, you can correct\n",
      "the inferred type list above and pass it to read_csv in\n",
      "the column_type_hints argument\n",
      "------------------------------------------------------\n"
     ]
    },
    {
     "data": {
      "text/html": [
       "<pre>Finished parsing file C:\\Users\\bofg8\\Python Directory\\kaggle_titanic\\train.csv</pre>"
      ],
      "text/plain": [
       "Finished parsing file C:\\Users\\bofg8\\Python Directory\\kaggle_titanic\\train.csv"
      ]
     },
     "metadata": {},
     "output_type": "display_data"
    },
    {
     "data": {
      "text/html": [
       "<pre>Parsing completed. Parsed 891 lines in 0.01501 secs.</pre>"
      ],
      "text/plain": [
       "Parsing completed. Parsed 891 lines in 0.01501 secs."
      ]
     },
     "metadata": {},
     "output_type": "display_data"
    }
   ],
   "source": [
    "train = graphlab.SFrame('train.csv')"
   ]
  },
  {
   "cell_type": "code",
   "execution_count": 4,
   "metadata": {
    "collapsed": false
   },
   "outputs": [
    {
     "data": {
      "text/html": [
       "<pre>Finished parsing file C:\\Users\\bofg8\\Python Directory\\kaggle_titanic\\test.csv</pre>"
      ],
      "text/plain": [
       "Finished parsing file C:\\Users\\bofg8\\Python Directory\\kaggle_titanic\\test.csv"
      ]
     },
     "metadata": {},
     "output_type": "display_data"
    },
    {
     "data": {
      "text/html": [
       "<pre>Parsing completed. Parsed 100 lines in 0.020001 secs.</pre>"
      ],
      "text/plain": [
       "Parsing completed. Parsed 100 lines in 0.020001 secs."
      ]
     },
     "metadata": {},
     "output_type": "display_data"
    },
    {
     "name": "stdout",
     "output_type": "stream",
     "text": [
      "------------------------------------------------------\n",
      "Inferred types from first line of file as \n",
      "column_type_hints=[long,long,str,str,float,long,long,str,float,str,str]\n",
      "If parsing fails due to incorrect types, you can correct\n",
      "the inferred type list above and pass it to read_csv in\n",
      "the column_type_hints argument\n",
      "------------------------------------------------------\n"
     ]
    },
    {
     "data": {
      "text/html": [
       "<pre>Finished parsing file C:\\Users\\bofg8\\Python Directory\\kaggle_titanic\\test.csv</pre>"
      ],
      "text/plain": [
       "Finished parsing file C:\\Users\\bofg8\\Python Directory\\kaggle_titanic\\test.csv"
      ]
     },
     "metadata": {},
     "output_type": "display_data"
    },
    {
     "data": {
      "text/html": [
       "<pre>Parsing completed. Parsed 418 lines in 0.018015 secs.</pre>"
      ],
      "text/plain": [
       "Parsing completed. Parsed 418 lines in 0.018015 secs."
      ]
     },
     "metadata": {},
     "output_type": "display_data"
    }
   ],
   "source": [
    "test = graphlab.SFrame('test.csv')"
   ]
  },
  {
   "cell_type": "code",
   "execution_count": 5,
   "metadata": {
    "collapsed": false
   },
   "outputs": [
    {
     "data": {
      "text/html": [
       "<div style=\"max-height:1000px;max-width:1500px;overflow:auto;\"><table frame=\"box\" rules=\"cols\">\n",
       "    <tr>\n",
       "        <th style=\"padding-left: 1em; padding-right: 1em; text-align: center\">PassengerId</th>\n",
       "        <th style=\"padding-left: 1em; padding-right: 1em; text-align: center\">Survived</th>\n",
       "        <th style=\"padding-left: 1em; padding-right: 1em; text-align: center\">Pclass</th>\n",
       "        <th style=\"padding-left: 1em; padding-right: 1em; text-align: center\">Name</th>\n",
       "        <th style=\"padding-left: 1em; padding-right: 1em; text-align: center\">Sex</th>\n",
       "        <th style=\"padding-left: 1em; padding-right: 1em; text-align: center\">Age</th>\n",
       "        <th style=\"padding-left: 1em; padding-right: 1em; text-align: center\">SibSp</th>\n",
       "        <th style=\"padding-left: 1em; padding-right: 1em; text-align: center\">Parch</th>\n",
       "        <th style=\"padding-left: 1em; padding-right: 1em; text-align: center\">Ticket</th>\n",
       "    </tr>\n",
       "    <tr>\n",
       "        <td style=\"padding-left: 1em; padding-right: 1em; text-align: center; vertical-align: top\">1</td>\n",
       "        <td style=\"padding-left: 1em; padding-right: 1em; text-align: center; vertical-align: top\">0</td>\n",
       "        <td style=\"padding-left: 1em; padding-right: 1em; text-align: center; vertical-align: top\">3</td>\n",
       "        <td style=\"padding-left: 1em; padding-right: 1em; text-align: center; vertical-align: top\">Braund, Mr. Owen Harris</td>\n",
       "        <td style=\"padding-left: 1em; padding-right: 1em; text-align: center; vertical-align: top\">male</td>\n",
       "        <td style=\"padding-left: 1em; padding-right: 1em; text-align: center; vertical-align: top\">22.0</td>\n",
       "        <td style=\"padding-left: 1em; padding-right: 1em; text-align: center; vertical-align: top\">1</td>\n",
       "        <td style=\"padding-left: 1em; padding-right: 1em; text-align: center; vertical-align: top\">0</td>\n",
       "        <td style=\"padding-left: 1em; padding-right: 1em; text-align: center; vertical-align: top\">A/5 21171</td>\n",
       "    </tr>\n",
       "    <tr>\n",
       "        <td style=\"padding-left: 1em; padding-right: 1em; text-align: center; vertical-align: top\">2</td>\n",
       "        <td style=\"padding-left: 1em; padding-right: 1em; text-align: center; vertical-align: top\">1</td>\n",
       "        <td style=\"padding-left: 1em; padding-right: 1em; text-align: center; vertical-align: top\">1</td>\n",
       "        <td style=\"padding-left: 1em; padding-right: 1em; text-align: center; vertical-align: top\">Cumings, Mrs. John<br>Bradley (Florence Briggs ...</td>\n",
       "        <td style=\"padding-left: 1em; padding-right: 1em; text-align: center; vertical-align: top\">female</td>\n",
       "        <td style=\"padding-left: 1em; padding-right: 1em; text-align: center; vertical-align: top\">38.0</td>\n",
       "        <td style=\"padding-left: 1em; padding-right: 1em; text-align: center; vertical-align: top\">1</td>\n",
       "        <td style=\"padding-left: 1em; padding-right: 1em; text-align: center; vertical-align: top\">0</td>\n",
       "        <td style=\"padding-left: 1em; padding-right: 1em; text-align: center; vertical-align: top\">PC 17599</td>\n",
       "    </tr>\n",
       "    <tr>\n",
       "        <td style=\"padding-left: 1em; padding-right: 1em; text-align: center; vertical-align: top\">3</td>\n",
       "        <td style=\"padding-left: 1em; padding-right: 1em; text-align: center; vertical-align: top\">1</td>\n",
       "        <td style=\"padding-left: 1em; padding-right: 1em; text-align: center; vertical-align: top\">3</td>\n",
       "        <td style=\"padding-left: 1em; padding-right: 1em; text-align: center; vertical-align: top\">Heikkinen, Miss. Laina</td>\n",
       "        <td style=\"padding-left: 1em; padding-right: 1em; text-align: center; vertical-align: top\">female</td>\n",
       "        <td style=\"padding-left: 1em; padding-right: 1em; text-align: center; vertical-align: top\">26.0</td>\n",
       "        <td style=\"padding-left: 1em; padding-right: 1em; text-align: center; vertical-align: top\">0</td>\n",
       "        <td style=\"padding-left: 1em; padding-right: 1em; text-align: center; vertical-align: top\">0</td>\n",
       "        <td style=\"padding-left: 1em; padding-right: 1em; text-align: center; vertical-align: top\">STON/O2. 3101282</td>\n",
       "    </tr>\n",
       "    <tr>\n",
       "        <td style=\"padding-left: 1em; padding-right: 1em; text-align: center; vertical-align: top\">4</td>\n",
       "        <td style=\"padding-left: 1em; padding-right: 1em; text-align: center; vertical-align: top\">1</td>\n",
       "        <td style=\"padding-left: 1em; padding-right: 1em; text-align: center; vertical-align: top\">1</td>\n",
       "        <td style=\"padding-left: 1em; padding-right: 1em; text-align: center; vertical-align: top\">Futrelle, Mrs. Jacques<br>Heath (Lily May Peel) ...</td>\n",
       "        <td style=\"padding-left: 1em; padding-right: 1em; text-align: center; vertical-align: top\">female</td>\n",
       "        <td style=\"padding-left: 1em; padding-right: 1em; text-align: center; vertical-align: top\">35.0</td>\n",
       "        <td style=\"padding-left: 1em; padding-right: 1em; text-align: center; vertical-align: top\">1</td>\n",
       "        <td style=\"padding-left: 1em; padding-right: 1em; text-align: center; vertical-align: top\">0</td>\n",
       "        <td style=\"padding-left: 1em; padding-right: 1em; text-align: center; vertical-align: top\">113803</td>\n",
       "    </tr>\n",
       "    <tr>\n",
       "        <td style=\"padding-left: 1em; padding-right: 1em; text-align: center; vertical-align: top\">5</td>\n",
       "        <td style=\"padding-left: 1em; padding-right: 1em; text-align: center; vertical-align: top\">0</td>\n",
       "        <td style=\"padding-left: 1em; padding-right: 1em; text-align: center; vertical-align: top\">3</td>\n",
       "        <td style=\"padding-left: 1em; padding-right: 1em; text-align: center; vertical-align: top\">Allen, Mr. William Henry</td>\n",
       "        <td style=\"padding-left: 1em; padding-right: 1em; text-align: center; vertical-align: top\">male</td>\n",
       "        <td style=\"padding-left: 1em; padding-right: 1em; text-align: center; vertical-align: top\">35.0</td>\n",
       "        <td style=\"padding-left: 1em; padding-right: 1em; text-align: center; vertical-align: top\">0</td>\n",
       "        <td style=\"padding-left: 1em; padding-right: 1em; text-align: center; vertical-align: top\">0</td>\n",
       "        <td style=\"padding-left: 1em; padding-right: 1em; text-align: center; vertical-align: top\">373450</td>\n",
       "    </tr>\n",
       "    <tr>\n",
       "        <td style=\"padding-left: 1em; padding-right: 1em; text-align: center; vertical-align: top\">6</td>\n",
       "        <td style=\"padding-left: 1em; padding-right: 1em; text-align: center; vertical-align: top\">0</td>\n",
       "        <td style=\"padding-left: 1em; padding-right: 1em; text-align: center; vertical-align: top\">3</td>\n",
       "        <td style=\"padding-left: 1em; padding-right: 1em; text-align: center; vertical-align: top\">Moran, Mr. James</td>\n",
       "        <td style=\"padding-left: 1em; padding-right: 1em; text-align: center; vertical-align: top\">male</td>\n",
       "        <td style=\"padding-left: 1em; padding-right: 1em; text-align: center; vertical-align: top\">None</td>\n",
       "        <td style=\"padding-left: 1em; padding-right: 1em; text-align: center; vertical-align: top\">0</td>\n",
       "        <td style=\"padding-left: 1em; padding-right: 1em; text-align: center; vertical-align: top\">0</td>\n",
       "        <td style=\"padding-left: 1em; padding-right: 1em; text-align: center; vertical-align: top\">330877</td>\n",
       "    </tr>\n",
       "    <tr>\n",
       "        <td style=\"padding-left: 1em; padding-right: 1em; text-align: center; vertical-align: top\">7</td>\n",
       "        <td style=\"padding-left: 1em; padding-right: 1em; text-align: center; vertical-align: top\">0</td>\n",
       "        <td style=\"padding-left: 1em; padding-right: 1em; text-align: center; vertical-align: top\">1</td>\n",
       "        <td style=\"padding-left: 1em; padding-right: 1em; text-align: center; vertical-align: top\">McCarthy, Mr. Timothy J</td>\n",
       "        <td style=\"padding-left: 1em; padding-right: 1em; text-align: center; vertical-align: top\">male</td>\n",
       "        <td style=\"padding-left: 1em; padding-right: 1em; text-align: center; vertical-align: top\">54.0</td>\n",
       "        <td style=\"padding-left: 1em; padding-right: 1em; text-align: center; vertical-align: top\">0</td>\n",
       "        <td style=\"padding-left: 1em; padding-right: 1em; text-align: center; vertical-align: top\">0</td>\n",
       "        <td style=\"padding-left: 1em; padding-right: 1em; text-align: center; vertical-align: top\">17463</td>\n",
       "    </tr>\n",
       "    <tr>\n",
       "        <td style=\"padding-left: 1em; padding-right: 1em; text-align: center; vertical-align: top\">8</td>\n",
       "        <td style=\"padding-left: 1em; padding-right: 1em; text-align: center; vertical-align: top\">0</td>\n",
       "        <td style=\"padding-left: 1em; padding-right: 1em; text-align: center; vertical-align: top\">3</td>\n",
       "        <td style=\"padding-left: 1em; padding-right: 1em; text-align: center; vertical-align: top\">Palsson, Master. Gosta<br>Leonard ...</td>\n",
       "        <td style=\"padding-left: 1em; padding-right: 1em; text-align: center; vertical-align: top\">male</td>\n",
       "        <td style=\"padding-left: 1em; padding-right: 1em; text-align: center; vertical-align: top\">2.0</td>\n",
       "        <td style=\"padding-left: 1em; padding-right: 1em; text-align: center; vertical-align: top\">3</td>\n",
       "        <td style=\"padding-left: 1em; padding-right: 1em; text-align: center; vertical-align: top\">1</td>\n",
       "        <td style=\"padding-left: 1em; padding-right: 1em; text-align: center; vertical-align: top\">349909</td>\n",
       "    </tr>\n",
       "    <tr>\n",
       "        <td style=\"padding-left: 1em; padding-right: 1em; text-align: center; vertical-align: top\">9</td>\n",
       "        <td style=\"padding-left: 1em; padding-right: 1em; text-align: center; vertical-align: top\">1</td>\n",
       "        <td style=\"padding-left: 1em; padding-right: 1em; text-align: center; vertical-align: top\">3</td>\n",
       "        <td style=\"padding-left: 1em; padding-right: 1em; text-align: center; vertical-align: top\">Johnson, Mrs. Oscar W<br>(Elisabeth Vilhelmina ...</td>\n",
       "        <td style=\"padding-left: 1em; padding-right: 1em; text-align: center; vertical-align: top\">female</td>\n",
       "        <td style=\"padding-left: 1em; padding-right: 1em; text-align: center; vertical-align: top\">27.0</td>\n",
       "        <td style=\"padding-left: 1em; padding-right: 1em; text-align: center; vertical-align: top\">0</td>\n",
       "        <td style=\"padding-left: 1em; padding-right: 1em; text-align: center; vertical-align: top\">2</td>\n",
       "        <td style=\"padding-left: 1em; padding-right: 1em; text-align: center; vertical-align: top\">347742</td>\n",
       "    </tr>\n",
       "    <tr>\n",
       "        <td style=\"padding-left: 1em; padding-right: 1em; text-align: center; vertical-align: top\">10</td>\n",
       "        <td style=\"padding-left: 1em; padding-right: 1em; text-align: center; vertical-align: top\">1</td>\n",
       "        <td style=\"padding-left: 1em; padding-right: 1em; text-align: center; vertical-align: top\">2</td>\n",
       "        <td style=\"padding-left: 1em; padding-right: 1em; text-align: center; vertical-align: top\">Nasser, Mrs. Nicholas<br>(Adele Achem) ...</td>\n",
       "        <td style=\"padding-left: 1em; padding-right: 1em; text-align: center; vertical-align: top\">female</td>\n",
       "        <td style=\"padding-left: 1em; padding-right: 1em; text-align: center; vertical-align: top\">14.0</td>\n",
       "        <td style=\"padding-left: 1em; padding-right: 1em; text-align: center; vertical-align: top\">1</td>\n",
       "        <td style=\"padding-left: 1em; padding-right: 1em; text-align: center; vertical-align: top\">0</td>\n",
       "        <td style=\"padding-left: 1em; padding-right: 1em; text-align: center; vertical-align: top\">237736</td>\n",
       "    </tr>\n",
       "</table>\n",
       "<table frame=\"box\" rules=\"cols\">\n",
       "    <tr>\n",
       "        <th style=\"padding-left: 1em; padding-right: 1em; text-align: center\">Fare</th>\n",
       "        <th style=\"padding-left: 1em; padding-right: 1em; text-align: center\">Cabin</th>\n",
       "        <th style=\"padding-left: 1em; padding-right: 1em; text-align: center\">Embarked</th>\n",
       "    </tr>\n",
       "    <tr>\n",
       "        <td style=\"padding-left: 1em; padding-right: 1em; text-align: center; vertical-align: top\">7.25</td>\n",
       "        <td style=\"padding-left: 1em; padding-right: 1em; text-align: center; vertical-align: top\"></td>\n",
       "        <td style=\"padding-left: 1em; padding-right: 1em; text-align: center; vertical-align: top\">S</td>\n",
       "    </tr>\n",
       "    <tr>\n",
       "        <td style=\"padding-left: 1em; padding-right: 1em; text-align: center; vertical-align: top\">71.2833</td>\n",
       "        <td style=\"padding-left: 1em; padding-right: 1em; text-align: center; vertical-align: top\">C85</td>\n",
       "        <td style=\"padding-left: 1em; padding-right: 1em; text-align: center; vertical-align: top\">C</td>\n",
       "    </tr>\n",
       "    <tr>\n",
       "        <td style=\"padding-left: 1em; padding-right: 1em; text-align: center; vertical-align: top\">7.925</td>\n",
       "        <td style=\"padding-left: 1em; padding-right: 1em; text-align: center; vertical-align: top\"></td>\n",
       "        <td style=\"padding-left: 1em; padding-right: 1em; text-align: center; vertical-align: top\">S</td>\n",
       "    </tr>\n",
       "    <tr>\n",
       "        <td style=\"padding-left: 1em; padding-right: 1em; text-align: center; vertical-align: top\">53.1</td>\n",
       "        <td style=\"padding-left: 1em; padding-right: 1em; text-align: center; vertical-align: top\">C123</td>\n",
       "        <td style=\"padding-left: 1em; padding-right: 1em; text-align: center; vertical-align: top\">S</td>\n",
       "    </tr>\n",
       "    <tr>\n",
       "        <td style=\"padding-left: 1em; padding-right: 1em; text-align: center; vertical-align: top\">8.05</td>\n",
       "        <td style=\"padding-left: 1em; padding-right: 1em; text-align: center; vertical-align: top\"></td>\n",
       "        <td style=\"padding-left: 1em; padding-right: 1em; text-align: center; vertical-align: top\">S</td>\n",
       "    </tr>\n",
       "    <tr>\n",
       "        <td style=\"padding-left: 1em; padding-right: 1em; text-align: center; vertical-align: top\">8.4583</td>\n",
       "        <td style=\"padding-left: 1em; padding-right: 1em; text-align: center; vertical-align: top\"></td>\n",
       "        <td style=\"padding-left: 1em; padding-right: 1em; text-align: center; vertical-align: top\">Q</td>\n",
       "    </tr>\n",
       "    <tr>\n",
       "        <td style=\"padding-left: 1em; padding-right: 1em; text-align: center; vertical-align: top\">51.8625</td>\n",
       "        <td style=\"padding-left: 1em; padding-right: 1em; text-align: center; vertical-align: top\">E46</td>\n",
       "        <td style=\"padding-left: 1em; padding-right: 1em; text-align: center; vertical-align: top\">S</td>\n",
       "    </tr>\n",
       "    <tr>\n",
       "        <td style=\"padding-left: 1em; padding-right: 1em; text-align: center; vertical-align: top\">21.075</td>\n",
       "        <td style=\"padding-left: 1em; padding-right: 1em; text-align: center; vertical-align: top\"></td>\n",
       "        <td style=\"padding-left: 1em; padding-right: 1em; text-align: center; vertical-align: top\">S</td>\n",
       "    </tr>\n",
       "    <tr>\n",
       "        <td style=\"padding-left: 1em; padding-right: 1em; text-align: center; vertical-align: top\">11.1333</td>\n",
       "        <td style=\"padding-left: 1em; padding-right: 1em; text-align: center; vertical-align: top\"></td>\n",
       "        <td style=\"padding-left: 1em; padding-right: 1em; text-align: center; vertical-align: top\">S</td>\n",
       "    </tr>\n",
       "    <tr>\n",
       "        <td style=\"padding-left: 1em; padding-right: 1em; text-align: center; vertical-align: top\">30.0708</td>\n",
       "        <td style=\"padding-left: 1em; padding-right: 1em; text-align: center; vertical-align: top\"></td>\n",
       "        <td style=\"padding-left: 1em; padding-right: 1em; text-align: center; vertical-align: top\">C</td>\n",
       "    </tr>\n",
       "</table>\n",
       "[891 rows x 12 columns]<br/>Note: Only the head of the SFrame is printed.<br/>You can use print_rows(num_rows=m, num_columns=n) to print more rows and columns.\n",
       "</div>"
      ],
      "text/plain": [
       "Columns:\n",
       "\tPassengerId\tint\n",
       "\tSurvived\tint\n",
       "\tPclass\tint\n",
       "\tName\tstr\n",
       "\tSex\tstr\n",
       "\tAge\tfloat\n",
       "\tSibSp\tint\n",
       "\tParch\tint\n",
       "\tTicket\tstr\n",
       "\tFare\tfloat\n",
       "\tCabin\tstr\n",
       "\tEmbarked\tstr\n",
       "\n",
       "Rows: 891\n",
       "\n",
       "Data:\n",
       "+-------------+----------+--------+--------------------------------+--------+\n",
       "| PassengerId | Survived | Pclass |              Name              |  Sex   |\n",
       "+-------------+----------+--------+--------------------------------+--------+\n",
       "|      1      |    0     |   3    |    Braund, Mr. Owen Harris     |  male  |\n",
       "|      2      |    1     |   1    | Cumings, Mrs. John Bradley...  | female |\n",
       "|      3      |    1     |   3    |     Heikkinen, Miss. Laina     | female |\n",
       "|      4      |    1     |   1    | Futrelle, Mrs. Jacques Hea...  | female |\n",
       "|      5      |    0     |   3    |    Allen, Mr. William Henry    |  male  |\n",
       "|      6      |    0     |   3    |        Moran, Mr. James        |  male  |\n",
       "|      7      |    0     |   1    |    McCarthy, Mr. Timothy J     |  male  |\n",
       "|      8      |    0     |   3    | Palsson, Master. Gosta Leonard |  male  |\n",
       "|      9      |    1     |   3    | Johnson, Mrs. Oscar W (Eli...  | female |\n",
       "|      10     |    1     |   2    | Nasser, Mrs. Nicholas (Ade...  | female |\n",
       "+-------------+----------+--------+--------------------------------+--------+\n",
       "+------+-------+-------+------------------+---------+-------+----------+\n",
       "| Age  | SibSp | Parch |      Ticket      |   Fare  | Cabin | Embarked |\n",
       "+------+-------+-------+------------------+---------+-------+----------+\n",
       "| 22.0 |   1   |   0   |    A/5 21171     |   7.25  |       |    S     |\n",
       "| 38.0 |   1   |   0   |     PC 17599     | 71.2833 |  C85  |    C     |\n",
       "| 26.0 |   0   |   0   | STON/O2. 3101282 |  7.925  |       |    S     |\n",
       "| 35.0 |   1   |   0   |      113803      |   53.1  |  C123 |    S     |\n",
       "| 35.0 |   0   |   0   |      373450      |   8.05  |       |    S     |\n",
       "| None |   0   |   0   |      330877      |  8.4583 |       |    Q     |\n",
       "| 54.0 |   0   |   0   |      17463       | 51.8625 |  E46  |    S     |\n",
       "| 2.0  |   3   |   1   |      349909      |  21.075 |       |    S     |\n",
       "| 27.0 |   0   |   2   |      347742      | 11.1333 |       |    S     |\n",
       "| 14.0 |   1   |   0   |      237736      | 30.0708 |       |    C     |\n",
       "+------+-------+-------+------------------+---------+-------+----------+\n",
       "[891 rows x 12 columns]\n",
       "Note: Only the head of the SFrame is printed.\n",
       "You can use print_rows(num_rows=m, num_columns=n) to print more rows and columns."
      ]
     },
     "execution_count": 5,
     "metadata": {},
     "output_type": "execute_result"
    }
   ],
   "source": [
    "train"
   ]
  },
  {
   "cell_type": "code",
   "execution_count": 6,
   "metadata": {
    "collapsed": false
   },
   "outputs": [
    {
     "data": {
      "text/html": [
       "<div style=\"max-height:1000px;max-width:1500px;overflow:auto;\"><table frame=\"box\" rules=\"cols\">\n",
       "    <tr>\n",
       "        <th style=\"padding-left: 1em; padding-right: 1em; text-align: center\">PassengerId</th>\n",
       "        <th style=\"padding-left: 1em; padding-right: 1em; text-align: center\">Pclass</th>\n",
       "        <th style=\"padding-left: 1em; padding-right: 1em; text-align: center\">Name</th>\n",
       "        <th style=\"padding-left: 1em; padding-right: 1em; text-align: center\">Sex</th>\n",
       "        <th style=\"padding-left: 1em; padding-right: 1em; text-align: center\">Age</th>\n",
       "        <th style=\"padding-left: 1em; padding-right: 1em; text-align: center\">SibSp</th>\n",
       "        <th style=\"padding-left: 1em; padding-right: 1em; text-align: center\">Parch</th>\n",
       "        <th style=\"padding-left: 1em; padding-right: 1em; text-align: center\">Ticket</th>\n",
       "        <th style=\"padding-left: 1em; padding-right: 1em; text-align: center\">Fare</th>\n",
       "        <th style=\"padding-left: 1em; padding-right: 1em; text-align: center\">Cabin</th>\n",
       "        <th style=\"padding-left: 1em; padding-right: 1em; text-align: center\">Embarked</th>\n",
       "    </tr>\n",
       "    <tr>\n",
       "        <td style=\"padding-left: 1em; padding-right: 1em; text-align: center; vertical-align: top\">892</td>\n",
       "        <td style=\"padding-left: 1em; padding-right: 1em; text-align: center; vertical-align: top\">3</td>\n",
       "        <td style=\"padding-left: 1em; padding-right: 1em; text-align: center; vertical-align: top\">Kelly, Mr. James</td>\n",
       "        <td style=\"padding-left: 1em; padding-right: 1em; text-align: center; vertical-align: top\">male</td>\n",
       "        <td style=\"padding-left: 1em; padding-right: 1em; text-align: center; vertical-align: top\">34.5</td>\n",
       "        <td style=\"padding-left: 1em; padding-right: 1em; text-align: center; vertical-align: top\">0</td>\n",
       "        <td style=\"padding-left: 1em; padding-right: 1em; text-align: center; vertical-align: top\">0</td>\n",
       "        <td style=\"padding-left: 1em; padding-right: 1em; text-align: center; vertical-align: top\">330911</td>\n",
       "        <td style=\"padding-left: 1em; padding-right: 1em; text-align: center; vertical-align: top\">7.8292</td>\n",
       "        <td style=\"padding-left: 1em; padding-right: 1em; text-align: center; vertical-align: top\"></td>\n",
       "        <td style=\"padding-left: 1em; padding-right: 1em; text-align: center; vertical-align: top\">Q</td>\n",
       "    </tr>\n",
       "    <tr>\n",
       "        <td style=\"padding-left: 1em; padding-right: 1em; text-align: center; vertical-align: top\">893</td>\n",
       "        <td style=\"padding-left: 1em; padding-right: 1em; text-align: center; vertical-align: top\">3</td>\n",
       "        <td style=\"padding-left: 1em; padding-right: 1em; text-align: center; vertical-align: top\">Wilkes, Mrs. James (Ellen<br>Needs) ...</td>\n",
       "        <td style=\"padding-left: 1em; padding-right: 1em; text-align: center; vertical-align: top\">female</td>\n",
       "        <td style=\"padding-left: 1em; padding-right: 1em; text-align: center; vertical-align: top\">47.0</td>\n",
       "        <td style=\"padding-left: 1em; padding-right: 1em; text-align: center; vertical-align: top\">1</td>\n",
       "        <td style=\"padding-left: 1em; padding-right: 1em; text-align: center; vertical-align: top\">0</td>\n",
       "        <td style=\"padding-left: 1em; padding-right: 1em; text-align: center; vertical-align: top\">363272</td>\n",
       "        <td style=\"padding-left: 1em; padding-right: 1em; text-align: center; vertical-align: top\">7.0</td>\n",
       "        <td style=\"padding-left: 1em; padding-right: 1em; text-align: center; vertical-align: top\"></td>\n",
       "        <td style=\"padding-left: 1em; padding-right: 1em; text-align: center; vertical-align: top\">S</td>\n",
       "    </tr>\n",
       "    <tr>\n",
       "        <td style=\"padding-left: 1em; padding-right: 1em; text-align: center; vertical-align: top\">894</td>\n",
       "        <td style=\"padding-left: 1em; padding-right: 1em; text-align: center; vertical-align: top\">2</td>\n",
       "        <td style=\"padding-left: 1em; padding-right: 1em; text-align: center; vertical-align: top\">Myles, Mr. Thomas Francis</td>\n",
       "        <td style=\"padding-left: 1em; padding-right: 1em; text-align: center; vertical-align: top\">male</td>\n",
       "        <td style=\"padding-left: 1em; padding-right: 1em; text-align: center; vertical-align: top\">62.0</td>\n",
       "        <td style=\"padding-left: 1em; padding-right: 1em; text-align: center; vertical-align: top\">0</td>\n",
       "        <td style=\"padding-left: 1em; padding-right: 1em; text-align: center; vertical-align: top\">0</td>\n",
       "        <td style=\"padding-left: 1em; padding-right: 1em; text-align: center; vertical-align: top\">240276</td>\n",
       "        <td style=\"padding-left: 1em; padding-right: 1em; text-align: center; vertical-align: top\">9.6875</td>\n",
       "        <td style=\"padding-left: 1em; padding-right: 1em; text-align: center; vertical-align: top\"></td>\n",
       "        <td style=\"padding-left: 1em; padding-right: 1em; text-align: center; vertical-align: top\">Q</td>\n",
       "    </tr>\n",
       "    <tr>\n",
       "        <td style=\"padding-left: 1em; padding-right: 1em; text-align: center; vertical-align: top\">895</td>\n",
       "        <td style=\"padding-left: 1em; padding-right: 1em; text-align: center; vertical-align: top\">3</td>\n",
       "        <td style=\"padding-left: 1em; padding-right: 1em; text-align: center; vertical-align: top\">Wirz, Mr. Albert</td>\n",
       "        <td style=\"padding-left: 1em; padding-right: 1em; text-align: center; vertical-align: top\">male</td>\n",
       "        <td style=\"padding-left: 1em; padding-right: 1em; text-align: center; vertical-align: top\">27.0</td>\n",
       "        <td style=\"padding-left: 1em; padding-right: 1em; text-align: center; vertical-align: top\">0</td>\n",
       "        <td style=\"padding-left: 1em; padding-right: 1em; text-align: center; vertical-align: top\">0</td>\n",
       "        <td style=\"padding-left: 1em; padding-right: 1em; text-align: center; vertical-align: top\">315154</td>\n",
       "        <td style=\"padding-left: 1em; padding-right: 1em; text-align: center; vertical-align: top\">8.6625</td>\n",
       "        <td style=\"padding-left: 1em; padding-right: 1em; text-align: center; vertical-align: top\"></td>\n",
       "        <td style=\"padding-left: 1em; padding-right: 1em; text-align: center; vertical-align: top\">S</td>\n",
       "    </tr>\n",
       "    <tr>\n",
       "        <td style=\"padding-left: 1em; padding-right: 1em; text-align: center; vertical-align: top\">896</td>\n",
       "        <td style=\"padding-left: 1em; padding-right: 1em; text-align: center; vertical-align: top\">3</td>\n",
       "        <td style=\"padding-left: 1em; padding-right: 1em; text-align: center; vertical-align: top\">Hirvonen, Mrs. Alexander<br>(Helga E Lindqvist) ...</td>\n",
       "        <td style=\"padding-left: 1em; padding-right: 1em; text-align: center; vertical-align: top\">female</td>\n",
       "        <td style=\"padding-left: 1em; padding-right: 1em; text-align: center; vertical-align: top\">22.0</td>\n",
       "        <td style=\"padding-left: 1em; padding-right: 1em; text-align: center; vertical-align: top\">1</td>\n",
       "        <td style=\"padding-left: 1em; padding-right: 1em; text-align: center; vertical-align: top\">1</td>\n",
       "        <td style=\"padding-left: 1em; padding-right: 1em; text-align: center; vertical-align: top\">3101298</td>\n",
       "        <td style=\"padding-left: 1em; padding-right: 1em; text-align: center; vertical-align: top\">12.2875</td>\n",
       "        <td style=\"padding-left: 1em; padding-right: 1em; text-align: center; vertical-align: top\"></td>\n",
       "        <td style=\"padding-left: 1em; padding-right: 1em; text-align: center; vertical-align: top\">S</td>\n",
       "    </tr>\n",
       "    <tr>\n",
       "        <td style=\"padding-left: 1em; padding-right: 1em; text-align: center; vertical-align: top\">897</td>\n",
       "        <td style=\"padding-left: 1em; padding-right: 1em; text-align: center; vertical-align: top\">3</td>\n",
       "        <td style=\"padding-left: 1em; padding-right: 1em; text-align: center; vertical-align: top\">Svensson, Mr. Johan<br>Cervin ...</td>\n",
       "        <td style=\"padding-left: 1em; padding-right: 1em; text-align: center; vertical-align: top\">male</td>\n",
       "        <td style=\"padding-left: 1em; padding-right: 1em; text-align: center; vertical-align: top\">14.0</td>\n",
       "        <td style=\"padding-left: 1em; padding-right: 1em; text-align: center; vertical-align: top\">0</td>\n",
       "        <td style=\"padding-left: 1em; padding-right: 1em; text-align: center; vertical-align: top\">0</td>\n",
       "        <td style=\"padding-left: 1em; padding-right: 1em; text-align: center; vertical-align: top\">7538</td>\n",
       "        <td style=\"padding-left: 1em; padding-right: 1em; text-align: center; vertical-align: top\">9.225</td>\n",
       "        <td style=\"padding-left: 1em; padding-right: 1em; text-align: center; vertical-align: top\"></td>\n",
       "        <td style=\"padding-left: 1em; padding-right: 1em; text-align: center; vertical-align: top\">S</td>\n",
       "    </tr>\n",
       "    <tr>\n",
       "        <td style=\"padding-left: 1em; padding-right: 1em; text-align: center; vertical-align: top\">898</td>\n",
       "        <td style=\"padding-left: 1em; padding-right: 1em; text-align: center; vertical-align: top\">3</td>\n",
       "        <td style=\"padding-left: 1em; padding-right: 1em; text-align: center; vertical-align: top\">Connolly, Miss. Kate</td>\n",
       "        <td style=\"padding-left: 1em; padding-right: 1em; text-align: center; vertical-align: top\">female</td>\n",
       "        <td style=\"padding-left: 1em; padding-right: 1em; text-align: center; vertical-align: top\">30.0</td>\n",
       "        <td style=\"padding-left: 1em; padding-right: 1em; text-align: center; vertical-align: top\">0</td>\n",
       "        <td style=\"padding-left: 1em; padding-right: 1em; text-align: center; vertical-align: top\">0</td>\n",
       "        <td style=\"padding-left: 1em; padding-right: 1em; text-align: center; vertical-align: top\">330972</td>\n",
       "        <td style=\"padding-left: 1em; padding-right: 1em; text-align: center; vertical-align: top\">7.6292</td>\n",
       "        <td style=\"padding-left: 1em; padding-right: 1em; text-align: center; vertical-align: top\"></td>\n",
       "        <td style=\"padding-left: 1em; padding-right: 1em; text-align: center; vertical-align: top\">Q</td>\n",
       "    </tr>\n",
       "    <tr>\n",
       "        <td style=\"padding-left: 1em; padding-right: 1em; text-align: center; vertical-align: top\">899</td>\n",
       "        <td style=\"padding-left: 1em; padding-right: 1em; text-align: center; vertical-align: top\">2</td>\n",
       "        <td style=\"padding-left: 1em; padding-right: 1em; text-align: center; vertical-align: top\">Caldwell, Mr. Albert<br>Francis ...</td>\n",
       "        <td style=\"padding-left: 1em; padding-right: 1em; text-align: center; vertical-align: top\">male</td>\n",
       "        <td style=\"padding-left: 1em; padding-right: 1em; text-align: center; vertical-align: top\">26.0</td>\n",
       "        <td style=\"padding-left: 1em; padding-right: 1em; text-align: center; vertical-align: top\">1</td>\n",
       "        <td style=\"padding-left: 1em; padding-right: 1em; text-align: center; vertical-align: top\">1</td>\n",
       "        <td style=\"padding-left: 1em; padding-right: 1em; text-align: center; vertical-align: top\">248738</td>\n",
       "        <td style=\"padding-left: 1em; padding-right: 1em; text-align: center; vertical-align: top\">29.0</td>\n",
       "        <td style=\"padding-left: 1em; padding-right: 1em; text-align: center; vertical-align: top\"></td>\n",
       "        <td style=\"padding-left: 1em; padding-right: 1em; text-align: center; vertical-align: top\">S</td>\n",
       "    </tr>\n",
       "    <tr>\n",
       "        <td style=\"padding-left: 1em; padding-right: 1em; text-align: center; vertical-align: top\">900</td>\n",
       "        <td style=\"padding-left: 1em; padding-right: 1em; text-align: center; vertical-align: top\">3</td>\n",
       "        <td style=\"padding-left: 1em; padding-right: 1em; text-align: center; vertical-align: top\">Abrahim, Mrs. Joseph<br>(Sophie Halaut Easu) ...</td>\n",
       "        <td style=\"padding-left: 1em; padding-right: 1em; text-align: center; vertical-align: top\">female</td>\n",
       "        <td style=\"padding-left: 1em; padding-right: 1em; text-align: center; vertical-align: top\">18.0</td>\n",
       "        <td style=\"padding-left: 1em; padding-right: 1em; text-align: center; vertical-align: top\">0</td>\n",
       "        <td style=\"padding-left: 1em; padding-right: 1em; text-align: center; vertical-align: top\">0</td>\n",
       "        <td style=\"padding-left: 1em; padding-right: 1em; text-align: center; vertical-align: top\">2657</td>\n",
       "        <td style=\"padding-left: 1em; padding-right: 1em; text-align: center; vertical-align: top\">7.2292</td>\n",
       "        <td style=\"padding-left: 1em; padding-right: 1em; text-align: center; vertical-align: top\"></td>\n",
       "        <td style=\"padding-left: 1em; padding-right: 1em; text-align: center; vertical-align: top\">C</td>\n",
       "    </tr>\n",
       "    <tr>\n",
       "        <td style=\"padding-left: 1em; padding-right: 1em; text-align: center; vertical-align: top\">901</td>\n",
       "        <td style=\"padding-left: 1em; padding-right: 1em; text-align: center; vertical-align: top\">3</td>\n",
       "        <td style=\"padding-left: 1em; padding-right: 1em; text-align: center; vertical-align: top\">Davies, Mr. John Samuel</td>\n",
       "        <td style=\"padding-left: 1em; padding-right: 1em; text-align: center; vertical-align: top\">male</td>\n",
       "        <td style=\"padding-left: 1em; padding-right: 1em; text-align: center; vertical-align: top\">21.0</td>\n",
       "        <td style=\"padding-left: 1em; padding-right: 1em; text-align: center; vertical-align: top\">2</td>\n",
       "        <td style=\"padding-left: 1em; padding-right: 1em; text-align: center; vertical-align: top\">0</td>\n",
       "        <td style=\"padding-left: 1em; padding-right: 1em; text-align: center; vertical-align: top\">A/4 48871</td>\n",
       "        <td style=\"padding-left: 1em; padding-right: 1em; text-align: center; vertical-align: top\">24.15</td>\n",
       "        <td style=\"padding-left: 1em; padding-right: 1em; text-align: center; vertical-align: top\"></td>\n",
       "        <td style=\"padding-left: 1em; padding-right: 1em; text-align: center; vertical-align: top\">S</td>\n",
       "    </tr>\n",
       "</table>\n",
       "[418 rows x 11 columns]<br/>Note: Only the head of the SFrame is printed.<br/>You can use print_rows(num_rows=m, num_columns=n) to print more rows and columns.\n",
       "</div>"
      ],
      "text/plain": [
       "Columns:\n",
       "\tPassengerId\tint\n",
       "\tPclass\tint\n",
       "\tName\tstr\n",
       "\tSex\tstr\n",
       "\tAge\tfloat\n",
       "\tSibSp\tint\n",
       "\tParch\tint\n",
       "\tTicket\tstr\n",
       "\tFare\tfloat\n",
       "\tCabin\tstr\n",
       "\tEmbarked\tstr\n",
       "\n",
       "Rows: 418\n",
       "\n",
       "Data:\n",
       "+-------------+--------+-------------------------------+--------+------+-------+\n",
       "| PassengerId | Pclass |              Name             |  Sex   | Age  | SibSp |\n",
       "+-------------+--------+-------------------------------+--------+------+-------+\n",
       "|     892     |   3    |        Kelly, Mr. James       |  male  | 34.5 |   0   |\n",
       "|     893     |   3    | Wilkes, Mrs. James (Ellen ... | female | 47.0 |   1   |\n",
       "|     894     |   2    |   Myles, Mr. Thomas Francis   |  male  | 62.0 |   0   |\n",
       "|     895     |   3    |        Wirz, Mr. Albert       |  male  | 27.0 |   0   |\n",
       "|     896     |   3    | Hirvonen, Mrs. Alexander (... | female | 22.0 |   1   |\n",
       "|     897     |   3    |   Svensson, Mr. Johan Cervin  |  male  | 14.0 |   0   |\n",
       "|     898     |   3    |      Connolly, Miss. Kate     | female | 30.0 |   0   |\n",
       "|     899     |   2    |  Caldwell, Mr. Albert Francis |  male  | 26.0 |   1   |\n",
       "|     900     |   3    | Abrahim, Mrs. Joseph (Soph... | female | 18.0 |   0   |\n",
       "|     901     |   3    |    Davies, Mr. John Samuel    |  male  | 21.0 |   2   |\n",
       "+-------------+--------+-------------------------------+--------+------+-------+\n",
       "+-------+-----------+---------+-------+----------+\n",
       "| Parch |   Ticket  |   Fare  | Cabin | Embarked |\n",
       "+-------+-----------+---------+-------+----------+\n",
       "|   0   |   330911  |  7.8292 |       |    Q     |\n",
       "|   0   |   363272  |   7.0   |       |    S     |\n",
       "|   0   |   240276  |  9.6875 |       |    Q     |\n",
       "|   0   |   315154  |  8.6625 |       |    S     |\n",
       "|   1   |  3101298  | 12.2875 |       |    S     |\n",
       "|   0   |    7538   |  9.225  |       |    S     |\n",
       "|   0   |   330972  |  7.6292 |       |    Q     |\n",
       "|   1   |   248738  |   29.0  |       |    S     |\n",
       "|   0   |    2657   |  7.2292 |       |    C     |\n",
       "|   0   | A/4 48871 |  24.15  |       |    S     |\n",
       "+-------+-----------+---------+-------+----------+\n",
       "[418 rows x 11 columns]\n",
       "Note: Only the head of the SFrame is printed.\n",
       "You can use print_rows(num_rows=m, num_columns=n) to print more rows and columns."
      ]
     },
     "execution_count": 6,
     "metadata": {},
     "output_type": "execute_result"
    }
   ],
   "source": [
    "test"
   ]
  },
  {
   "cell_type": "code",
   "execution_count": 65,
   "metadata": {
    "collapsed": false
   },
   "outputs": [],
   "source": [
    "features = ['Pclass', 'Sex', 'Age', 'SibSp']"
   ]
  },
  {
   "cell_type": "markdown",
   "metadata": {},
   "source": [
    "# Create a decision tree model"
   ]
  },
  {
   "cell_type": "code",
   "execution_count": 66,
   "metadata": {
    "collapsed": false
   },
   "outputs": [
    {
     "name": "stdout",
     "output_type": "stream",
     "text": [
      "PROGRESS: Creating a validation set from 5 percent of training data. This may take a while.\n",
      "          You can set ``validation_set=None`` to disable validation tracking.\n",
      "\n"
     ]
    },
    {
     "data": {
      "text/html": [
       "<pre>Decision tree classifier:</pre>"
      ],
      "text/plain": [
       "Decision tree classifier:"
      ]
     },
     "metadata": {},
     "output_type": "display_data"
    },
    {
     "data": {
      "text/html": [
       "<pre>--------------------------------------------------------</pre>"
      ],
      "text/plain": [
       "--------------------------------------------------------"
      ]
     },
     "metadata": {},
     "output_type": "display_data"
    },
    {
     "data": {
      "text/html": [
       "<pre>Number of examples          : 854</pre>"
      ],
      "text/plain": [
       "Number of examples          : 854"
      ]
     },
     "metadata": {},
     "output_type": "display_data"
    },
    {
     "data": {
      "text/html": [
       "<pre>Number of classes           : 2</pre>"
      ],
      "text/plain": [
       "Number of classes           : 2"
      ]
     },
     "metadata": {},
     "output_type": "display_data"
    },
    {
     "data": {
      "text/html": [
       "<pre>Number of feature columns   : 4</pre>"
      ],
      "text/plain": [
       "Number of feature columns   : 4"
      ]
     },
     "metadata": {},
     "output_type": "display_data"
    },
    {
     "data": {
      "text/html": [
       "<pre>Number of unpacked features : 4</pre>"
      ],
      "text/plain": [
       "Number of unpacked features : 4"
      ]
     },
     "metadata": {},
     "output_type": "display_data"
    },
    {
     "data": {
      "text/html": [
       "<pre>+-----------+--------------+-------------------+-------------------+---------------------+---------------------+</pre>"
      ],
      "text/plain": [
       "+-----------+--------------+-------------------+-------------------+---------------------+---------------------+"
      ]
     },
     "metadata": {},
     "output_type": "display_data"
    },
    {
     "data": {
      "text/html": [
       "<pre>| Iteration | Elapsed Time | Training-accuracy | Training-log_loss | Validation-accuracy | Validation-log_loss |</pre>"
      ],
      "text/plain": [
       "| Iteration | Elapsed Time | Training-accuracy | Training-log_loss | Validation-accuracy | Validation-log_loss |"
      ]
     },
     "metadata": {},
     "output_type": "display_data"
    },
    {
     "data": {
      "text/html": [
       "<pre>+-----------+--------------+-------------------+-------------------+---------------------+---------------------+</pre>"
      ],
      "text/plain": [
       "+-----------+--------------+-------------------+-------------------+---------------------+---------------------+"
      ]
     },
     "metadata": {},
     "output_type": "display_data"
    },
    {
     "data": {
      "text/html": [
       "<pre>| 1         | 0.003002     | 0.853630          | 0.557210          | 0.756757            | 0.573313            |</pre>"
      ],
      "text/plain": [
       "| 1         | 0.003002     | 0.853630          | 0.557210          | 0.756757            | 0.573313            |"
      ]
     },
     "metadata": {},
     "output_type": "display_data"
    },
    {
     "data": {
      "text/html": [
       "<pre>+-----------+--------------+-------------------+-------------------+---------------------+---------------------+</pre>"
      ],
      "text/plain": [
       "+-----------+--------------+-------------------+-------------------+---------------------+---------------------+"
      ]
     },
     "metadata": {},
     "output_type": "display_data"
    }
   ],
   "source": [
    "Decision_Tree = graphlab.classifier.decision_tree_classifier.create(train, target = 'Survived', features=features)"
   ]
  },
  {
   "cell_type": "markdown",
   "metadata": {},
   "source": [
    "## Evaluate the model by ROC curve"
   ]
  },
  {
   "cell_type": "code",
   "execution_count": 34,
   "metadata": {
    "collapsed": false
   },
   "outputs": [
    {
     "data": {
      "text/plain": [
       "{'roc_curve': Columns:\n",
       " \tthreshold\tfloat\n",
       " \tfpr\tfloat\n",
       " \ttpr\tfloat\n",
       " \tp\tint\n",
       " \tn\tint\n",
       " \n",
       " Rows: 100001\n",
       " \n",
       " Data:\n",
       " +-----------+-----+-----+-----+-----+\n",
       " | threshold | fpr | tpr |  p  |  n  |\n",
       " +-----------+-----+-----+-----+-----+\n",
       " |    0.0    | 1.0 | 1.0 | 342 | 549 |\n",
       " |   1e-05   | 1.0 | 1.0 | 342 | 549 |\n",
       " |   2e-05   | 1.0 | 1.0 | 342 | 549 |\n",
       " |   3e-05   | 1.0 | 1.0 | 342 | 549 |\n",
       " |   4e-05   | 1.0 | 1.0 | 342 | 549 |\n",
       " |   5e-05   | 1.0 | 1.0 | 342 | 549 |\n",
       " |   6e-05   | 1.0 | 1.0 | 342 | 549 |\n",
       " |   7e-05   | 1.0 | 1.0 | 342 | 549 |\n",
       " |   8e-05   | 1.0 | 1.0 | 342 | 549 |\n",
       " |   9e-05   | 1.0 | 1.0 | 342 | 549 |\n",
       " +-----------+-----+-----+-----+-----+\n",
       " [100001 rows x 5 columns]\n",
       " Note: Only the head of the SFrame is printed.\n",
       " You can use print_rows(num_rows=m, num_columns=n) to print more rows and columns.}"
      ]
     },
     "execution_count": 34,
     "metadata": {},
     "output_type": "execute_result"
    }
   ],
   "source": [
    "Decision_Tree.evaluate(train, metric = 'roc_curve')"
   ]
  },
  {
   "cell_type": "code",
   "execution_count": 14,
   "metadata": {
    "collapsed": true
   },
   "outputs": [],
   "source": [
    "graphlab.canvas.set_target('ipynb')"
   ]
  },
  {
   "cell_type": "code",
   "execution_count": 35,
   "metadata": {
    "collapsed": false
   },
   "outputs": [
    {
     "data": {
      "application/javascript": [
       "$(\"head\").append($(\"<link/>\").attr({\n",
       "  rel:  \"stylesheet\",\n",
       "  type: \"text/css\",\n",
       "  href: \"//cdnjs.cloudflare.com/ajax/libs/font-awesome/4.1.0/css/font-awesome.min.css\"\n",
       "}));\n",
       "$(\"head\").append($(\"<link/>\").attr({\n",
       "  rel:  \"stylesheet\",\n",
       "  type: \"text/css\",\n",
       "  href: \"//dato.com/files/canvas/1.8.5/css/canvas.css\"\n",
       "}));\n",
       "\n",
       "            (function(){\n",
       "\n",
       "                var e = null;\n",
       "                if (typeof element == 'undefined') {\n",
       "                    var scripts = document.getElementsByTagName('script');\n",
       "                    var thisScriptTag = scripts[scripts.length-1];\n",
       "                    var parentDiv = thisScriptTag.parentNode;\n",
       "                    e = document.createElement('div');\n",
       "                    parentDiv.appendChild(e);\n",
       "                } else {\n",
       "                    e = element[0];\n",
       "                }\n",
       "\n",
       "                if (typeof requirejs !== 'undefined') {\n",
       "                    // disable load timeout; ipython_app.js is large and can take a while to load.\n",
       "                    requirejs.config({waitSeconds: 0});\n",
       "                }\n",
       "\n",
       "                require(['//dato.com/files/canvas/1.8.5/js/ipython_app.js'], function(IPythonApp){\n",
       "                    var app = new IPythonApp();\n",
       "                    app.attachView('model','Evaluation', {\"comparison\": null, \"selected_variable\": {\"comparison\": null, \"name\": [\"Decision_Tree\"], \"view_file\": \"model\", \"view_component\": \"Evaluation\", \"view_params\": {\"model_type\": \"regression\", \"view\": \"Evaluation\"}, \"view_components\": [\"Summary\", \"Evaluation\", \"Comparison\"], \"model_type\": \"regression\", \"attributes\": {\"section_titles\": [\"Schema\", \"Settings\"], \"sections\": [[[\"Number of examples\", 848], [\"Number of feature columns\", 6], [\"Number of unpacked features\", 6], [\"Number of classes\", 2]], [[\"Number of trees\", 1], [\"Max tree depth\", 6], [\"Training time (sec)\", 0.003], [\"Training accuracy\", 0.8656], [\"Validation accuracy\", 0.8372], [\"Training log_loss\", 0.5535], [\"Validation log_loss\", 0.5705]]]}, \"evaluations\": [[\"train\", {\"roc_curve\": [{\"threshold\": 0.0, \"p\": 342, \"fpr\": 1.0, \"tpr\": 1.0, \"n\": 549}, {\"threshold\": 0.001, \"p\": 342, \"fpr\": 1.0, \"tpr\": 1.0, \"n\": 549}, {\"threshold\": 0.002, \"p\": 342, \"fpr\": 1.0, \"tpr\": 1.0, \"n\": 549}, {\"threshold\": 0.003, \"p\": 342, \"fpr\": 1.0, \"tpr\": 1.0, \"n\": 549}, {\"threshold\": 0.004, \"p\": 342, \"fpr\": 1.0, \"tpr\": 1.0, \"n\": 549}, {\"threshold\": 0.005, \"p\": 342, \"fpr\": 1.0, \"tpr\": 1.0, \"n\": 549}, {\"threshold\": 0.006, \"p\": 342, \"fpr\": 1.0, \"tpr\": 1.0, \"n\": 549}, {\"threshold\": 0.007, \"p\": 342, \"fpr\": 1.0, \"tpr\": 1.0, \"n\": 549}, {\"threshold\": 0.008, \"p\": 342, \"fpr\": 1.0, \"tpr\": 1.0, \"n\": 549}, {\"threshold\": 0.009, \"p\": 342, \"fpr\": 1.0, \"tpr\": 1.0, \"n\": 549}, {\"threshold\": 0.01, \"p\": 342, \"fpr\": 1.0, \"tpr\": 1.0, \"n\": 549}, {\"threshold\": 0.011, \"p\": 342, \"fpr\": 1.0, \"tpr\": 1.0, \"n\": 549}, {\"threshold\": 0.012, \"p\": 342, \"fpr\": 1.0, \"tpr\": 1.0, \"n\": 549}, {\"threshold\": 0.013, \"p\": 342, \"fpr\": 1.0, \"tpr\": 1.0, \"n\": 549}, {\"threshold\": 0.014, \"p\": 342, \"fpr\": 1.0, \"tpr\": 1.0, \"n\": 549}, {\"threshold\": 0.015, \"p\": 342, \"fpr\": 1.0, \"tpr\": 1.0, \"n\": 549}, {\"threshold\": 0.016, \"p\": 342, \"fpr\": 1.0, \"tpr\": 1.0, \"n\": 549}, {\"threshold\": 0.017, \"p\": 342, \"fpr\": 1.0, \"tpr\": 1.0, \"n\": 549}, {\"threshold\": 0.018, \"p\": 342, \"fpr\": 1.0, \"tpr\": 1.0, \"n\": 549}, {\"threshold\": 0.019, \"p\": 342, \"fpr\": 1.0, \"tpr\": 1.0, \"n\": 549}, {\"threshold\": 0.02, \"p\": 342, \"fpr\": 1.0, \"tpr\": 1.0, \"n\": 549}, {\"threshold\": 0.021, \"p\": 342, \"fpr\": 1.0, \"tpr\": 1.0, \"n\": 549}, {\"threshold\": 0.022, \"p\": 342, \"fpr\": 1.0, \"tpr\": 1.0, \"n\": 549}, {\"threshold\": 0.023, \"p\": 342, \"fpr\": 1.0, \"tpr\": 1.0, \"n\": 549}, {\"threshold\": 0.024, \"p\": 342, \"fpr\": 1.0, \"tpr\": 1.0, \"n\": 549}, {\"threshold\": 0.025, \"p\": 342, \"fpr\": 1.0, \"tpr\": 1.0, \"n\": 549}, {\"threshold\": 0.026, \"p\": 342, \"fpr\": 1.0, \"tpr\": 1.0, \"n\": 549}, {\"threshold\": 0.027, \"p\": 342, \"fpr\": 1.0, \"tpr\": 1.0, \"n\": 549}, {\"threshold\": 0.028, \"p\": 342, \"fpr\": 1.0, \"tpr\": 1.0, \"n\": 549}, {\"threshold\": 0.029, \"p\": 342, \"fpr\": 1.0, \"tpr\": 1.0, \"n\": 549}, {\"threshold\": 0.03, \"p\": 342, \"fpr\": 1.0, \"tpr\": 1.0, \"n\": 549}, {\"threshold\": 0.031, \"p\": 342, \"fpr\": 1.0, \"tpr\": 1.0, \"n\": 549}, {\"threshold\": 0.032, \"p\": 342, \"fpr\": 1.0, \"tpr\": 1.0, \"n\": 549}, {\"threshold\": 0.033, \"p\": 342, \"fpr\": 1.0, \"tpr\": 1.0, \"n\": 549}, {\"threshold\": 0.034, \"p\": 342, \"fpr\": 1.0, \"tpr\": 1.0, \"n\": 549}, {\"threshold\": 0.035, \"p\": 342, \"fpr\": 1.0, \"tpr\": 1.0, \"n\": 549}, {\"threshold\": 0.036, \"p\": 342, \"fpr\": 1.0, \"tpr\": 1.0, \"n\": 549}, {\"threshold\": 0.037, \"p\": 342, \"fpr\": 1.0, \"tpr\": 1.0, \"n\": 549}, {\"threshold\": 0.038, \"p\": 342, \"fpr\": 1.0, \"tpr\": 1.0, \"n\": 549}, {\"threshold\": 0.039, \"p\": 342, \"fpr\": 1.0, \"tpr\": 1.0, \"n\": 549}, {\"threshold\": 0.04, \"p\": 342, \"fpr\": 1.0, \"tpr\": 1.0, \"n\": 549}, {\"threshold\": 0.041, \"p\": 342, \"fpr\": 1.0, \"tpr\": 1.0, \"n\": 549}, {\"threshold\": 0.042, \"p\": 342, \"fpr\": 1.0, \"tpr\": 1.0, \"n\": 549}, {\"threshold\": 0.043, \"p\": 342, \"fpr\": 1.0, \"tpr\": 1.0, \"n\": 549}, {\"threshold\": 0.044, \"p\": 342, \"fpr\": 1.0, \"tpr\": 1.0, \"n\": 549}, {\"threshold\": 0.045, \"p\": 342, \"fpr\": 1.0, \"tpr\": 1.0, \"n\": 549}, {\"threshold\": 0.046, \"p\": 342, \"fpr\": 1.0, \"tpr\": 1.0, \"n\": 549}, {\"threshold\": 0.047, \"p\": 342, \"fpr\": 1.0, \"tpr\": 1.0, \"n\": 549}, {\"threshold\": 0.048, \"p\": 342, \"fpr\": 1.0, \"tpr\": 1.0, \"n\": 549}, {\"threshold\": 0.049, \"p\": 342, \"fpr\": 1.0, \"tpr\": 1.0, \"n\": 549}, {\"threshold\": 0.05, \"p\": 342, \"fpr\": 1.0, \"tpr\": 1.0, \"n\": 549}, {\"threshold\": 0.051, \"p\": 342, \"fpr\": 1.0, \"tpr\": 1.0, \"n\": 549}, {\"threshold\": 0.052, \"p\": 342, \"fpr\": 1.0, \"tpr\": 1.0, \"n\": 549}, {\"threshold\": 0.053, \"p\": 342, \"fpr\": 1.0, \"tpr\": 1.0, \"n\": 549}, {\"threshold\": 0.054, \"p\": 342, \"fpr\": 1.0, \"tpr\": 1.0, \"n\": 549}, {\"threshold\": 0.055, \"p\": 342, \"fpr\": 1.0, \"tpr\": 1.0, \"n\": 549}, {\"threshold\": 0.056, \"p\": 342, \"fpr\": 1.0, \"tpr\": 1.0, \"n\": 549}, {\"threshold\": 0.057, \"p\": 342, \"fpr\": 1.0, \"tpr\": 1.0, \"n\": 549}, {\"threshold\": 0.058, \"p\": 342, \"fpr\": 1.0, \"tpr\": 1.0, \"n\": 549}, {\"threshold\": 0.059, \"p\": 342, \"fpr\": 1.0, \"tpr\": 1.0, \"n\": 549}, {\"threshold\": 0.06, \"p\": 342, \"fpr\": 1.0, \"tpr\": 1.0, \"n\": 549}, {\"threshold\": 0.061, \"p\": 342, \"fpr\": 1.0, \"tpr\": 1.0, \"n\": 549}, {\"threshold\": 0.062, \"p\": 342, \"fpr\": 1.0, \"tpr\": 1.0, \"n\": 549}, {\"threshold\": 0.063, \"p\": 342, \"fpr\": 1.0, \"tpr\": 1.0, \"n\": 549}, {\"threshold\": 0.064, \"p\": 342, \"fpr\": 1.0, \"tpr\": 1.0, \"n\": 549}, {\"threshold\": 0.065, \"p\": 342, \"fpr\": 1.0, \"tpr\": 1.0, \"n\": 549}, {\"threshold\": 0.066, \"p\": 342, \"fpr\": 1.0, \"tpr\": 1.0, \"n\": 549}, {\"threshold\": 0.067, \"p\": 342, \"fpr\": 1.0, \"tpr\": 1.0, \"n\": 549}, {\"threshold\": 0.068, \"p\": 342, \"fpr\": 1.0, \"tpr\": 1.0, \"n\": 549}, {\"threshold\": 0.069, \"p\": 342, \"fpr\": 1.0, \"tpr\": 1.0, \"n\": 549}, {\"threshold\": 0.07, \"p\": 342, \"fpr\": 1.0, \"tpr\": 1.0, \"n\": 549}, {\"threshold\": 0.071, \"p\": 342, \"fpr\": 1.0, \"tpr\": 1.0, \"n\": 549}, {\"threshold\": 0.072, \"p\": 342, \"fpr\": 1.0, \"tpr\": 1.0, \"n\": 549}, {\"threshold\": 0.073, \"p\": 342, \"fpr\": 1.0, \"tpr\": 1.0, \"n\": 549}, {\"threshold\": 0.074, \"p\": 342, \"fpr\": 1.0, \"tpr\": 1.0, \"n\": 549}, {\"threshold\": 0.075, \"p\": 342, \"fpr\": 1.0, \"tpr\": 1.0, \"n\": 549}, {\"threshold\": 0.076, \"p\": 342, \"fpr\": 1.0, \"tpr\": 1.0, \"n\": 549}, {\"threshold\": 0.077, \"p\": 342, \"fpr\": 1.0, \"tpr\": 1.0, \"n\": 549}, {\"threshold\": 0.078, \"p\": 342, \"fpr\": 1.0, \"tpr\": 1.0, \"n\": 549}, {\"threshold\": 0.079, \"p\": 342, \"fpr\": 1.0, \"tpr\": 1.0, \"n\": 549}, {\"threshold\": 0.08, \"p\": 342, \"fpr\": 1.0, \"tpr\": 1.0, \"n\": 549}, {\"threshold\": 0.081, \"p\": 342, \"fpr\": 1.0, \"tpr\": 1.0, \"n\": 549}, {\"threshold\": 0.082, \"p\": 342, \"fpr\": 1.0, \"tpr\": 1.0, \"n\": 549}, {\"threshold\": 0.083, \"p\": 342, \"fpr\": 1.0, \"tpr\": 1.0, \"n\": 549}, {\"threshold\": 0.084, \"p\": 342, \"fpr\": 1.0, \"tpr\": 1.0, \"n\": 549}, {\"threshold\": 0.085, \"p\": 342, \"fpr\": 1.0, \"tpr\": 1.0, \"n\": 549}, {\"threshold\": 0.086, \"p\": 342, \"fpr\": 1.0, \"tpr\": 1.0, \"n\": 549}, {\"threshold\": 0.087, \"p\": 342, \"fpr\": 1.0, \"tpr\": 1.0, \"n\": 549}, {\"threshold\": 0.088, \"p\": 342, \"fpr\": 1.0, \"tpr\": 1.0, \"n\": 549}, {\"threshold\": 0.089, \"p\": 342, \"fpr\": 1.0, \"tpr\": 1.0, \"n\": 549}, {\"threshold\": 0.09, \"p\": 342, \"fpr\": 1.0, \"tpr\": 1.0, \"n\": 549}, {\"threshold\": 0.091, \"p\": 342, \"fpr\": 1.0, \"tpr\": 1.0, \"n\": 549}, {\"threshold\": 0.092, \"p\": 342, \"fpr\": 1.0, \"tpr\": 1.0, \"n\": 549}, {\"threshold\": 0.093, \"p\": 342, \"fpr\": 1.0, \"tpr\": 1.0, \"n\": 549}, {\"threshold\": 0.094, \"p\": 342, \"fpr\": 1.0, \"tpr\": 1.0, \"n\": 549}, {\"threshold\": 0.095, \"p\": 342, \"fpr\": 1.0, \"tpr\": 1.0, \"n\": 549}, {\"threshold\": 0.096, \"p\": 342, \"fpr\": 1.0, \"tpr\": 1.0, \"n\": 549}, {\"threshold\": 0.097, \"p\": 342, \"fpr\": 1.0, \"tpr\": 1.0, \"n\": 549}, {\"threshold\": 0.098, \"p\": 342, \"fpr\": 1.0, \"tpr\": 1.0, \"n\": 549}, {\"threshold\": 0.099, \"p\": 342, \"fpr\": 1.0, \"tpr\": 1.0, \"n\": 549}, {\"threshold\": 0.1, \"p\": 342, \"fpr\": 1.0, \"tpr\": 1.0, \"n\": 549}, {\"threshold\": 0.101, \"p\": 342, \"fpr\": 1.0, \"tpr\": 1.0, \"n\": 549}, {\"threshold\": 0.102, \"p\": 342, \"fpr\": 1.0, \"tpr\": 1.0, \"n\": 549}, {\"threshold\": 0.103, \"p\": 342, \"fpr\": 1.0, \"tpr\": 1.0, \"n\": 549}, {\"threshold\": 0.104, \"p\": 342, \"fpr\": 1.0, \"tpr\": 1.0, \"n\": 549}, {\"threshold\": 0.105, \"p\": 342, \"fpr\": 1.0, \"tpr\": 1.0, \"n\": 549}, {\"threshold\": 0.106, \"p\": 342, \"fpr\": 1.0, \"tpr\": 1.0, \"n\": 549}, {\"threshold\": 0.107, \"p\": 342, \"fpr\": 1.0, \"tpr\": 1.0, \"n\": 549}, {\"threshold\": 0.108, \"p\": 342, \"fpr\": 1.0, \"tpr\": 1.0, \"n\": 549}, {\"threshold\": 0.109, \"p\": 342, \"fpr\": 1.0, \"tpr\": 1.0, \"n\": 549}, {\"threshold\": 0.11, \"p\": 342, \"fpr\": 1.0, \"tpr\": 1.0, \"n\": 549}, {\"threshold\": 0.111, \"p\": 342, \"fpr\": 1.0, \"tpr\": 1.0, \"n\": 549}, {\"threshold\": 0.112, \"p\": 342, \"fpr\": 1.0, \"tpr\": 1.0, \"n\": 549}, {\"threshold\": 0.113, \"p\": 342, \"fpr\": 1.0, \"tpr\": 1.0, \"n\": 549}, {\"threshold\": 0.114, \"p\": 342, \"fpr\": 1.0, \"tpr\": 1.0, \"n\": 549}, {\"threshold\": 0.115, \"p\": 342, \"fpr\": 1.0, \"tpr\": 1.0, \"n\": 549}, {\"threshold\": 0.116, \"p\": 342, \"fpr\": 1.0, \"tpr\": 1.0, \"n\": 549}, {\"threshold\": 0.117, \"p\": 342, \"fpr\": 1.0, \"tpr\": 1.0, \"n\": 549}, {\"threshold\": 0.118, \"p\": 342, \"fpr\": 1.0, \"tpr\": 1.0, \"n\": 549}, {\"threshold\": 0.119, \"p\": 342, \"fpr\": 1.0, \"tpr\": 1.0, \"n\": 549}, {\"threshold\": 0.12, \"p\": 342, \"fpr\": 1.0, \"tpr\": 1.0, \"n\": 549}, {\"threshold\": 0.121, \"p\": 342, \"fpr\": 1.0, \"tpr\": 1.0, \"n\": 549}, {\"threshold\": 0.122, \"p\": 342, \"fpr\": 1.0, \"tpr\": 1.0, \"n\": 549}, {\"threshold\": 0.123, \"p\": 342, \"fpr\": 1.0, \"tpr\": 1.0, \"n\": 549}, {\"threshold\": 0.124, \"p\": 342, \"fpr\": 1.0, \"tpr\": 1.0, \"n\": 549}, {\"threshold\": 0.125, \"p\": 342, \"fpr\": 1.0, \"tpr\": 1.0, \"n\": 549}, {\"threshold\": 0.126, \"p\": 342, \"fpr\": 1.0, \"tpr\": 1.0, \"n\": 549}, {\"threshold\": 0.127, \"p\": 342, \"fpr\": 1.0, \"tpr\": 1.0, \"n\": 549}, {\"threshold\": 0.128, \"p\": 342, \"fpr\": 1.0, \"tpr\": 1.0, \"n\": 549}, {\"threshold\": 0.129, \"p\": 342, \"fpr\": 1.0, \"tpr\": 1.0, \"n\": 549}, {\"threshold\": 0.13, \"p\": 342, \"fpr\": 1.0, \"tpr\": 1.0, \"n\": 549}, {\"threshold\": 0.131, \"p\": 342, \"fpr\": 1.0, \"tpr\": 1.0, \"n\": 549}, {\"threshold\": 0.132, \"p\": 342, \"fpr\": 1.0, \"tpr\": 1.0, \"n\": 549}, {\"threshold\": 0.133, \"p\": 342, \"fpr\": 1.0, \"tpr\": 1.0, \"n\": 549}, {\"threshold\": 0.134, \"p\": 342, \"fpr\": 1.0, \"tpr\": 1.0, \"n\": 549}, {\"threshold\": 0.135, \"p\": 342, \"fpr\": 1.0, \"tpr\": 1.0, \"n\": 549}, {\"threshold\": 0.136, \"p\": 342, \"fpr\": 1.0, \"tpr\": 1.0, \"n\": 549}, {\"threshold\": 0.137, \"p\": 342, \"fpr\": 1.0, \"tpr\": 1.0, \"n\": 549}, {\"threshold\": 0.138, \"p\": 342, \"fpr\": 1.0, \"tpr\": 1.0, \"n\": 549}, {\"threshold\": 0.139, \"p\": 342, \"fpr\": 1.0, \"tpr\": 1.0, \"n\": 549}, {\"threshold\": 0.14, \"p\": 342, \"fpr\": 1.0, \"tpr\": 1.0, \"n\": 549}, {\"threshold\": 0.141, \"p\": 342, \"fpr\": 1.0, \"tpr\": 1.0, \"n\": 549}, {\"threshold\": 0.142, \"p\": 342, \"fpr\": 1.0, \"tpr\": 1.0, \"n\": 549}, {\"threshold\": 0.143, \"p\": 342, \"fpr\": 1.0, \"tpr\": 1.0, \"n\": 549}, {\"threshold\": 0.144, \"p\": 342, \"fpr\": 1.0, \"tpr\": 1.0, \"n\": 549}, {\"threshold\": 0.145, \"p\": 342, \"fpr\": 1.0, \"tpr\": 1.0, \"n\": 549}, {\"threshold\": 0.146, \"p\": 342, \"fpr\": 1.0, \"tpr\": 1.0, \"n\": 549}, {\"threshold\": 0.147, \"p\": 342, \"fpr\": 1.0, \"tpr\": 1.0, \"n\": 549}, {\"threshold\": 0.148, \"p\": 342, \"fpr\": 1.0, \"tpr\": 1.0, \"n\": 549}, {\"threshold\": 0.149, \"p\": 342, \"fpr\": 1.0, \"tpr\": 1.0, \"n\": 549}, {\"threshold\": 0.15, \"p\": 342, \"fpr\": 1.0, \"tpr\": 1.0, \"n\": 549}, {\"threshold\": 0.151, \"p\": 342, \"fpr\": 1.0, \"tpr\": 1.0, \"n\": 549}, {\"threshold\": 0.152, \"p\": 342, \"fpr\": 1.0, \"tpr\": 1.0, \"n\": 549}, {\"threshold\": 0.153, \"p\": 342, \"fpr\": 1.0, \"tpr\": 1.0, \"n\": 549}, {\"threshold\": 0.154, \"p\": 342, \"fpr\": 1.0, \"tpr\": 1.0, \"n\": 549}, {\"threshold\": 0.155, \"p\": 342, \"fpr\": 1.0, \"tpr\": 1.0, \"n\": 549}, {\"threshold\": 0.156, \"p\": 342, \"fpr\": 1.0, \"tpr\": 1.0, \"n\": 549}, {\"threshold\": 0.157, \"p\": 342, \"fpr\": 1.0, \"tpr\": 1.0, \"n\": 549}, {\"threshold\": 0.158, \"p\": 342, \"fpr\": 1.0, \"tpr\": 1.0, \"n\": 549}, {\"threshold\": 0.159, \"p\": 342, \"fpr\": 1.0, \"tpr\": 1.0, \"n\": 549}, {\"threshold\": 0.16, \"p\": 342, \"fpr\": 1.0, \"tpr\": 1.0, \"n\": 549}, {\"threshold\": 0.161, \"p\": 342, \"fpr\": 1.0, \"tpr\": 1.0, \"n\": 549}, {\"threshold\": 0.162, \"p\": 342, \"fpr\": 1.0, \"tpr\": 1.0, \"n\": 549}, {\"threshold\": 0.163, \"p\": 342, \"fpr\": 1.0, \"tpr\": 1.0, \"n\": 549}, {\"threshold\": 0.164, \"p\": 342, \"fpr\": 1.0, \"tpr\": 1.0, \"n\": 549}, {\"threshold\": 0.165, \"p\": 342, \"fpr\": 1.0, \"tpr\": 1.0, \"n\": 549}, {\"threshold\": 0.166, \"p\": 342, \"fpr\": 1.0, \"tpr\": 1.0, \"n\": 549}, {\"threshold\": 0.167, \"p\": 342, \"fpr\": 1.0, \"tpr\": 1.0, \"n\": 549}, {\"threshold\": 0.168, \"p\": 342, \"fpr\": 1.0, \"tpr\": 1.0, \"n\": 549}, {\"threshold\": 0.169, \"p\": 342, \"fpr\": 1.0, \"tpr\": 1.0, \"n\": 549}, {\"threshold\": 0.17, \"p\": 342, \"fpr\": 1.0, \"tpr\": 1.0, \"n\": 549}, {\"threshold\": 0.171, \"p\": 342, \"fpr\": 1.0, \"tpr\": 1.0, \"n\": 549}, {\"threshold\": 0.172, \"p\": 342, \"fpr\": 1.0, \"tpr\": 1.0, \"n\": 549}, {\"threshold\": 0.173, \"p\": 342, \"fpr\": 1.0, \"tpr\": 1.0, \"n\": 549}, {\"threshold\": 0.174, \"p\": 342, \"fpr\": 1.0, \"tpr\": 1.0, \"n\": 549}, {\"threshold\": 0.175, \"p\": 342, \"fpr\": 1.0, \"tpr\": 1.0, \"n\": 549}, {\"threshold\": 0.176, \"p\": 342, \"fpr\": 1.0, \"tpr\": 1.0, \"n\": 549}, {\"threshold\": 0.177, \"p\": 342, \"fpr\": 1.0, \"tpr\": 1.0, \"n\": 549}, {\"threshold\": 0.178, \"p\": 342, \"fpr\": 1.0, \"tpr\": 1.0, \"n\": 549}, {\"threshold\": 0.179, \"p\": 342, \"fpr\": 1.0, \"tpr\": 1.0, \"n\": 549}, {\"threshold\": 0.18, \"p\": 342, \"fpr\": 1.0, \"tpr\": 1.0, \"n\": 549}, {\"threshold\": 0.181, \"p\": 342, \"fpr\": 1.0, \"tpr\": 1.0, \"n\": 549}, {\"threshold\": 0.182, \"p\": 342, \"fpr\": 1.0, \"tpr\": 1.0, \"n\": 549}, {\"threshold\": 0.183, \"p\": 342, \"fpr\": 1.0, \"tpr\": 1.0, \"n\": 549}, {\"threshold\": 0.184, \"p\": 342, \"fpr\": 1.0, \"tpr\": 1.0, \"n\": 549}, {\"threshold\": 0.185, \"p\": 342, \"fpr\": 1.0, \"tpr\": 1.0, \"n\": 549}, {\"threshold\": 0.186, \"p\": 342, \"fpr\": 1.0, \"tpr\": 1.0, \"n\": 549}, {\"threshold\": 0.187, \"p\": 342, \"fpr\": 1.0, \"tpr\": 1.0, \"n\": 549}, {\"threshold\": 0.188, \"p\": 342, \"fpr\": 1.0, \"tpr\": 1.0, \"n\": 549}, {\"threshold\": 0.189, \"p\": 342, \"fpr\": 1.0, \"tpr\": 1.0, \"n\": 549}, {\"threshold\": 0.19, \"p\": 342, \"fpr\": 1.0, \"tpr\": 1.0, \"n\": 549}, {\"threshold\": 0.191, \"p\": 342, \"fpr\": 1.0, \"tpr\": 1.0, \"n\": 549}, {\"threshold\": 0.192, \"p\": 342, \"fpr\": 1.0, \"tpr\": 1.0, \"n\": 549}, {\"threshold\": 0.193, \"p\": 342, \"fpr\": 1.0, \"tpr\": 1.0, \"n\": 549}, {\"threshold\": 0.194, \"p\": 342, \"fpr\": 1.0, \"tpr\": 1.0, \"n\": 549}, {\"threshold\": 0.195, \"p\": 342, \"fpr\": 1.0, \"tpr\": 1.0, \"n\": 549}, {\"threshold\": 0.196, \"p\": 342, \"fpr\": 1.0, \"tpr\": 1.0, \"n\": 549}, {\"threshold\": 0.197, \"p\": 342, \"fpr\": 1.0, \"tpr\": 1.0, \"n\": 549}, {\"threshold\": 0.198, \"p\": 342, \"fpr\": 1.0, \"tpr\": 1.0, \"n\": 549}, {\"threshold\": 0.199, \"p\": 342, \"fpr\": 1.0, \"tpr\": 1.0, \"n\": 549}, {\"threshold\": 0.2, \"p\": 342, \"fpr\": 1.0, \"tpr\": 1.0, \"n\": 549}, {\"threshold\": 0.201, \"p\": 342, \"fpr\": 1.0, \"tpr\": 1.0, \"n\": 549}, {\"threshold\": 0.202, \"p\": 342, \"fpr\": 1.0, \"tpr\": 1.0, \"n\": 549}, {\"threshold\": 0.203, \"p\": 342, \"fpr\": 1.0, \"tpr\": 1.0, \"n\": 549}, {\"threshold\": 0.204, \"p\": 342, \"fpr\": 1.0, \"tpr\": 1.0, \"n\": 549}, {\"threshold\": 0.205, \"p\": 342, \"fpr\": 1.0, \"tpr\": 1.0, \"n\": 549}, {\"threshold\": 0.206, \"p\": 342, \"fpr\": 1.0, \"tpr\": 1.0, \"n\": 549}, {\"threshold\": 0.207, \"p\": 342, \"fpr\": 1.0, \"tpr\": 1.0, \"n\": 549}, {\"threshold\": 0.208, \"p\": 342, \"fpr\": 1.0, \"tpr\": 1.0, \"n\": 549}, {\"threshold\": 0.209, \"p\": 342, \"fpr\": 1.0, \"tpr\": 1.0, \"n\": 549}, {\"threshold\": 0.21, \"p\": 342, \"fpr\": 1.0, \"tpr\": 1.0, \"n\": 549}, {\"threshold\": 0.211, \"p\": 342, \"fpr\": 1.0, \"tpr\": 1.0, \"n\": 549}, {\"threshold\": 0.212, \"p\": 342, \"fpr\": 1.0, \"tpr\": 1.0, \"n\": 549}, {\"threshold\": 0.213, \"p\": 342, \"fpr\": 1.0, \"tpr\": 1.0, \"n\": 549}, {\"threshold\": 0.214, \"p\": 342, \"fpr\": 1.0, \"tpr\": 1.0, \"n\": 549}, {\"threshold\": 0.215, \"p\": 342, \"fpr\": 1.0, \"tpr\": 1.0, \"n\": 549}, {\"threshold\": 0.216, \"p\": 342, \"fpr\": 1.0, \"tpr\": 1.0, \"n\": 549}, {\"threshold\": 0.217, \"p\": 342, \"fpr\": 1.0, \"tpr\": 1.0, \"n\": 549}, {\"threshold\": 0.218, \"p\": 342, \"fpr\": 1.0, \"tpr\": 1.0, \"n\": 549}, {\"threshold\": 0.219, \"p\": 342, \"fpr\": 1.0, \"tpr\": 1.0, \"n\": 549}, {\"threshold\": 0.22, \"p\": 342, \"fpr\": 1.0, \"tpr\": 1.0, \"n\": 549}, {\"threshold\": 0.221, \"p\": 342, \"fpr\": 1.0, \"tpr\": 1.0, \"n\": 549}, {\"threshold\": 0.222, \"p\": 342, \"fpr\": 1.0, \"tpr\": 1.0, \"n\": 549}, {\"threshold\": 0.223, \"p\": 342, \"fpr\": 1.0, \"tpr\": 1.0, \"n\": 549}, {\"threshold\": 0.224, \"p\": 342, \"fpr\": 1.0, \"tpr\": 1.0, \"n\": 549}, {\"threshold\": 0.225, \"p\": 342, \"fpr\": 1.0, \"tpr\": 1.0, \"n\": 549}, {\"threshold\": 0.226, \"p\": 342, \"fpr\": 1.0, \"tpr\": 1.0, \"n\": 549}, {\"threshold\": 0.227, \"p\": 342, \"fpr\": 1.0, \"tpr\": 1.0, \"n\": 549}, {\"threshold\": 0.228, \"p\": 342, \"fpr\": 1.0, \"tpr\": 1.0, \"n\": 549}, {\"threshold\": 0.229, \"p\": 342, \"fpr\": 1.0, \"tpr\": 1.0, \"n\": 549}, {\"threshold\": 0.23, \"p\": 342, \"fpr\": 1.0, \"tpr\": 1.0, \"n\": 549}, {\"threshold\": 0.231, \"p\": 342, \"fpr\": 1.0, \"tpr\": 1.0, \"n\": 549}, {\"threshold\": 0.232, \"p\": 342, \"fpr\": 1.0, \"tpr\": 1.0, \"n\": 549}, {\"threshold\": 0.233, \"p\": 342, \"fpr\": 1.0, \"tpr\": 1.0, \"n\": 549}, {\"threshold\": 0.234, \"p\": 342, \"fpr\": 1.0, \"tpr\": 1.0, \"n\": 549}, {\"threshold\": 0.235, \"p\": 342, \"fpr\": 1.0, \"tpr\": 1.0, \"n\": 549}, {\"threshold\": 0.236, \"p\": 342, \"fpr\": 1.0, \"tpr\": 1.0, \"n\": 549}, {\"threshold\": 0.237, \"p\": 342, \"fpr\": 1.0, \"tpr\": 1.0, \"n\": 549}, {\"threshold\": 0.238, \"p\": 342, \"fpr\": 1.0, \"tpr\": 1.0, \"n\": 549}, {\"threshold\": 0.239, \"p\": 342, \"fpr\": 1.0, \"tpr\": 1.0, \"n\": 549}, {\"threshold\": 0.24, \"p\": 342, \"fpr\": 1.0, \"tpr\": 1.0, \"n\": 549}, {\"threshold\": 0.241, \"p\": 342, \"fpr\": 1.0, \"tpr\": 1.0, \"n\": 549}, {\"threshold\": 0.242, \"p\": 342, \"fpr\": 1.0, \"tpr\": 1.0, \"n\": 549}, {\"threshold\": 0.243, \"p\": 342, \"fpr\": 1.0, \"tpr\": 1.0, \"n\": 549}, {\"threshold\": 0.244, \"p\": 342, \"fpr\": 1.0, \"tpr\": 1.0, \"n\": 549}, {\"threshold\": 0.245, \"p\": 342, \"fpr\": 1.0, \"tpr\": 1.0, \"n\": 549}, {\"threshold\": 0.246, \"p\": 342, \"fpr\": 1.0, \"tpr\": 1.0, \"n\": 549}, {\"threshold\": 0.247, \"p\": 342, \"fpr\": 1.0, \"tpr\": 1.0, \"n\": 549}, {\"threshold\": 0.248, \"p\": 342, \"fpr\": 1.0, \"tpr\": 1.0, \"n\": 549}, {\"threshold\": 0.249, \"p\": 342, \"fpr\": 1.0, \"tpr\": 1.0, \"n\": 549}, {\"threshold\": 0.25, \"p\": 342, \"fpr\": 1.0, \"tpr\": 1.0, \"n\": 549}, {\"threshold\": 0.251, \"p\": 342, \"fpr\": 1.0, \"tpr\": 1.0, \"n\": 549}, {\"threshold\": 0.252, \"p\": 342, \"fpr\": 1.0, \"tpr\": 1.0, \"n\": 549}, {\"threshold\": 0.253, \"p\": 342, \"fpr\": 1.0, \"tpr\": 1.0, \"n\": 549}, {\"threshold\": 0.254, \"p\": 342, \"fpr\": 1.0, \"tpr\": 1.0, \"n\": 549}, {\"threshold\": 0.255, \"p\": 342, \"fpr\": 1.0, \"tpr\": 1.0, \"n\": 549}, {\"threshold\": 0.256, \"p\": 342, \"fpr\": 1.0, \"tpr\": 1.0, \"n\": 549}, {\"threshold\": 0.257, \"p\": 342, \"fpr\": 1.0, \"tpr\": 1.0, \"n\": 549}, {\"threshold\": 0.258, \"p\": 342, \"fpr\": 1.0, \"tpr\": 1.0, \"n\": 549}, {\"threshold\": 0.259, \"p\": 342, \"fpr\": 1.0, \"tpr\": 1.0, \"n\": 549}, {\"threshold\": 0.26, \"p\": 342, \"fpr\": 1.0, \"tpr\": 1.0, \"n\": 549}, {\"threshold\": 0.261, \"p\": 342, \"fpr\": 1.0, \"tpr\": 1.0, \"n\": 549}, {\"threshold\": 0.262, \"p\": 342, \"fpr\": 1.0, \"tpr\": 1.0, \"n\": 549}, {\"threshold\": 0.263, \"p\": 342, \"fpr\": 1.0, \"tpr\": 1.0, \"n\": 549}, {\"threshold\": 0.264, \"p\": 342, \"fpr\": 1.0, \"tpr\": 1.0, \"n\": 549}, {\"threshold\": 0.265, \"p\": 342, \"fpr\": 1.0, \"tpr\": 1.0, \"n\": 549}, {\"threshold\": 0.266, \"p\": 342, \"fpr\": 1.0, \"tpr\": 1.0, \"n\": 549}, {\"threshold\": 0.267, \"p\": 342, \"fpr\": 1.0, \"tpr\": 1.0, \"n\": 549}, {\"threshold\": 0.268, \"p\": 342, \"fpr\": 1.0, \"tpr\": 1.0, \"n\": 549}, {\"threshold\": 0.269, \"p\": 342, \"fpr\": 1.0, \"tpr\": 1.0, \"n\": 549}, {\"threshold\": 0.27, \"p\": 342, \"fpr\": 1.0, \"tpr\": 1.0, \"n\": 549}, {\"threshold\": 0.271, \"p\": 342, \"fpr\": 1.0, \"tpr\": 1.0, \"n\": 549}, {\"threshold\": 0.272, \"p\": 342, \"fpr\": 1.0, \"tpr\": 1.0, \"n\": 549}, {\"threshold\": 0.273, \"p\": 342, \"fpr\": 1.0, \"tpr\": 1.0, \"n\": 549}, {\"threshold\": 0.274, \"p\": 342, \"fpr\": 1.0, \"tpr\": 1.0, \"n\": 549}, {\"threshold\": 0.275, \"p\": 342, \"fpr\": 1.0, \"tpr\": 1.0, \"n\": 549}, {\"threshold\": 0.276, \"p\": 342, \"fpr\": 1.0, \"tpr\": 1.0, \"n\": 549}, {\"threshold\": 0.277, \"p\": 342, \"fpr\": 1.0, \"tpr\": 1.0, \"n\": 549}, {\"threshold\": 0.278, \"p\": 342, \"fpr\": 1.0, \"tpr\": 1.0, \"n\": 549}, {\"threshold\": 0.279, \"p\": 342, \"fpr\": 1.0, \"tpr\": 1.0, \"n\": 549}, {\"threshold\": 0.28, \"p\": 342, \"fpr\": 1.0, \"tpr\": 1.0, \"n\": 549}, {\"threshold\": 0.281, \"p\": 342, \"fpr\": 1.0, \"tpr\": 1.0, \"n\": 549}, {\"threshold\": 0.282, \"p\": 342, \"fpr\": 1.0, \"tpr\": 1.0, \"n\": 549}, {\"threshold\": 0.283, \"p\": 342, \"fpr\": 1.0, \"tpr\": 1.0, \"n\": 549}, {\"threshold\": 0.284, \"p\": 342, \"fpr\": 1.0, \"tpr\": 1.0, \"n\": 549}, {\"threshold\": 0.285, \"p\": 342, \"fpr\": 1.0, \"tpr\": 1.0, \"n\": 549}, {\"threshold\": 0.286, \"p\": 342, \"fpr\": 1.0, \"tpr\": 1.0, \"n\": 549}, {\"threshold\": 0.287, \"p\": 342, \"fpr\": 1.0, \"tpr\": 1.0, \"n\": 549}, {\"threshold\": 0.288, \"p\": 342, \"fpr\": 1.0, \"tpr\": 1.0, \"n\": 549}, {\"threshold\": 0.289, \"p\": 342, \"fpr\": 1.0, \"tpr\": 1.0, \"n\": 549}, {\"threshold\": 0.29, \"p\": 342, \"fpr\": 1.0, \"tpr\": 1.0, \"n\": 549}, {\"threshold\": 0.291, \"p\": 342, \"fpr\": 1.0, \"tpr\": 1.0, \"n\": 549}, {\"threshold\": 0.292, \"p\": 342, \"fpr\": 1.0, \"tpr\": 1.0, \"n\": 549}, {\"threshold\": 0.293, \"p\": 342, \"fpr\": 1.0, \"tpr\": 1.0, \"n\": 549}, {\"threshold\": 0.294, \"p\": 342, \"fpr\": 1.0, \"tpr\": 1.0, \"n\": 549}, {\"threshold\": 0.295, \"p\": 342, \"fpr\": 1.0, \"tpr\": 1.0, \"n\": 549}, {\"threshold\": 0.296, \"p\": 342, \"fpr\": 1.0, \"tpr\": 1.0, \"n\": 549}, {\"threshold\": 0.297, \"p\": 342, \"fpr\": 1.0, \"tpr\": 1.0, \"n\": 549}, {\"threshold\": 0.298, \"p\": 342, \"fpr\": 1.0, \"tpr\": 1.0, \"n\": 549}, {\"threshold\": 0.299, \"p\": 342, \"fpr\": 1.0, \"tpr\": 1.0, \"n\": 549}, {\"threshold\": 0.3, \"p\": 342, \"fpr\": 1.0, \"tpr\": 1.0, \"n\": 549}, {\"threshold\": 0.301, \"p\": 342, \"fpr\": 1.0, \"tpr\": 1.0, \"n\": 549}, {\"threshold\": 0.302, \"p\": 342, \"fpr\": 1.0, \"tpr\": 1.0, \"n\": 549}, {\"threshold\": 0.303, \"p\": 342, \"fpr\": 1.0, \"tpr\": 1.0, \"n\": 549}, {\"threshold\": 0.304, \"p\": 342, \"fpr\": 1.0, \"tpr\": 1.0, \"n\": 549}, {\"threshold\": 0.305, \"p\": 342, \"fpr\": 1.0, \"tpr\": 1.0, \"n\": 549}, {\"threshold\": 0.306, \"p\": 342, \"fpr\": 1.0, \"tpr\": 1.0, \"n\": 549}, {\"threshold\": 0.307, \"p\": 342, \"fpr\": 1.0, \"tpr\": 1.0, \"n\": 549}, {\"threshold\": 0.308, \"p\": 342, \"fpr\": 1.0, \"tpr\": 1.0, \"n\": 549}, {\"threshold\": 0.309, \"p\": 342, \"fpr\": 1.0, \"tpr\": 1.0, \"n\": 549}, {\"threshold\": 0.31, \"p\": 342, \"fpr\": 1.0, \"tpr\": 1.0, \"n\": 549}, {\"threshold\": 0.311, \"p\": 342, \"fpr\": 1.0, \"tpr\": 1.0, \"n\": 549}, {\"threshold\": 0.312, \"p\": 342, \"fpr\": 1.0, \"tpr\": 1.0, \"n\": 549}, {\"threshold\": 0.313, \"p\": 342, \"fpr\": 1.0, \"tpr\": 1.0, \"n\": 549}, {\"threshold\": 0.314, \"p\": 342, \"fpr\": 1.0, \"tpr\": 1.0, \"n\": 549}, {\"threshold\": 0.315, \"p\": 342, \"fpr\": 1.0, \"tpr\": 1.0, \"n\": 549}, {\"threshold\": 0.316, \"p\": 342, \"fpr\": 1.0, \"tpr\": 1.0, \"n\": 549}, {\"threshold\": 0.317, \"p\": 342, \"fpr\": 1.0, \"tpr\": 1.0, \"n\": 549}, {\"threshold\": 0.318, \"p\": 342, \"fpr\": 1.0, \"tpr\": 1.0, \"n\": 549}, {\"threshold\": 0.319, \"p\": 342, \"fpr\": 1.0, \"tpr\": 1.0, \"n\": 549}, {\"threshold\": 0.32, \"p\": 342, \"fpr\": 1.0, \"tpr\": 1.0, \"n\": 549}, {\"threshold\": 0.321, \"p\": 342, \"fpr\": 1.0, \"tpr\": 1.0, \"n\": 549}, {\"threshold\": 0.322, \"p\": 342, \"fpr\": 1.0, \"tpr\": 1.0, \"n\": 549}, {\"threshold\": 0.323, \"p\": 342, \"fpr\": 1.0, \"tpr\": 1.0, \"n\": 549}, {\"threshold\": 0.324, \"p\": 342, \"fpr\": 1.0, \"tpr\": 1.0, \"n\": 549}, {\"threshold\": 0.325, \"p\": 342, \"fpr\": 1.0, \"tpr\": 1.0, \"n\": 549}, {\"threshold\": 0.326, \"p\": 342, \"fpr\": 1.0, \"tpr\": 1.0, \"n\": 549}, {\"threshold\": 0.327, \"p\": 342, \"fpr\": 1.0, \"tpr\": 1.0, \"n\": 549}, {\"threshold\": 0.328, \"p\": 342, \"fpr\": 1.0, \"tpr\": 1.0, \"n\": 549}, {\"threshold\": 0.329, \"p\": 342, \"fpr\": 1.0, \"tpr\": 1.0, \"n\": 549}, {\"threshold\": 0.33, \"p\": 342, \"fpr\": 1.0, \"tpr\": 1.0, \"n\": 549}, {\"threshold\": 0.331, \"p\": 342, \"fpr\": 1.0, \"tpr\": 1.0, \"n\": 549}, {\"threshold\": 0.332, \"p\": 342, \"fpr\": 1.0, \"tpr\": 1.0, \"n\": 549}, {\"threshold\": 0.333, \"p\": 342, \"fpr\": 1.0, \"tpr\": 1.0, \"n\": 549}, {\"threshold\": 0.334, \"p\": 342, \"fpr\": 1.0, \"tpr\": 1.0, \"n\": 549}, {\"threshold\": 0.335, \"p\": 342, \"fpr\": 1.0, \"tpr\": 1.0, \"n\": 549}, {\"threshold\": 0.336, \"p\": 342, \"fpr\": 1.0, \"tpr\": 1.0, \"n\": 549}, {\"threshold\": 0.337, \"p\": 342, \"fpr\": 1.0, \"tpr\": 1.0, \"n\": 549}, {\"threshold\": 0.338, \"p\": 342, \"fpr\": 1.0, \"tpr\": 1.0, \"n\": 549}, {\"threshold\": 0.339, \"p\": 342, \"fpr\": 1.0, \"tpr\": 1.0, \"n\": 549}, {\"threshold\": 0.34, \"p\": 342, \"fpr\": 1.0, \"tpr\": 1.0, \"n\": 549}, {\"threshold\": 0.341, \"p\": 342, \"fpr\": 1.0, \"tpr\": 1.0, \"n\": 549}, {\"threshold\": 0.342, \"p\": 342, \"fpr\": 1.0, \"tpr\": 1.0, \"n\": 549}, {\"threshold\": 0.343, \"p\": 342, \"fpr\": 1.0, \"tpr\": 1.0, \"n\": 549}, {\"threshold\": 0.344, \"p\": 342, \"fpr\": 1.0, \"tpr\": 1.0, \"n\": 549}, {\"threshold\": 0.345, \"p\": 342, \"fpr\": 1.0, \"tpr\": 1.0, \"n\": 549}, {\"threshold\": 0.346, \"p\": 342, \"fpr\": 1.0, \"tpr\": 1.0, \"n\": 549}, {\"threshold\": 0.347, \"p\": 342, \"fpr\": 1.0, \"tpr\": 1.0, \"n\": 549}, {\"threshold\": 0.348, \"p\": 342, \"fpr\": 1.0, \"tpr\": 1.0, \"n\": 549}, {\"threshold\": 0.349, \"p\": 342, \"fpr\": 1.0, \"tpr\": 1.0, \"n\": 549}, {\"threshold\": 0.35, \"p\": 342, \"fpr\": 1.0, \"tpr\": 1.0, \"n\": 549}, {\"threshold\": 0.351, \"p\": 342, \"fpr\": 1.0, \"tpr\": 1.0, \"n\": 549}, {\"threshold\": 0.352, \"p\": 342, \"fpr\": 1.0, \"tpr\": 1.0, \"n\": 549}, {\"threshold\": 0.353, \"p\": 342, \"fpr\": 1.0, \"tpr\": 1.0, \"n\": 549}, {\"threshold\": 0.354, \"p\": 342, \"fpr\": 1.0, \"tpr\": 1.0, \"n\": 549}, {\"threshold\": 0.355, \"p\": 342, \"fpr\": 1.0, \"tpr\": 1.0, \"n\": 549}, {\"threshold\": 0.356, \"p\": 342, \"fpr\": 1.0, \"tpr\": 1.0, \"n\": 549}, {\"threshold\": 0.357, \"p\": 342, \"fpr\": 1.0, \"tpr\": 1.0, \"n\": 549}, {\"threshold\": 0.358, \"p\": 342, \"fpr\": 1.0, \"tpr\": 1.0, \"n\": 549}, {\"threshold\": 0.359, \"p\": 342, \"fpr\": 1.0, \"tpr\": 1.0, \"n\": 549}, {\"threshold\": 0.36, \"p\": 342, \"fpr\": 1.0, \"tpr\": 1.0, \"n\": 549}, {\"threshold\": 0.361, \"p\": 342, \"fpr\": 1.0, \"tpr\": 1.0, \"n\": 549}, {\"threshold\": 0.362, \"p\": 342, \"fpr\": 1.0, \"tpr\": 1.0, \"n\": 549}, {\"threshold\": 0.363, \"p\": 342, \"fpr\": 1.0, \"tpr\": 1.0, \"n\": 549}, {\"threshold\": 0.364, \"p\": 342, \"fpr\": 1.0, \"tpr\": 1.0, \"n\": 549}, {\"threshold\": 0.365, \"p\": 342, \"fpr\": 1.0, \"tpr\": 1.0, \"n\": 549}, {\"threshold\": 0.366, \"p\": 342, \"fpr\": 1.0, \"tpr\": 1.0, \"n\": 549}, {\"threshold\": 0.367, \"p\": 342, \"fpr\": 1.0, \"tpr\": 1.0, \"n\": 549}, {\"threshold\": 0.368, \"p\": 342, \"fpr\": 1.0, \"tpr\": 1.0, \"n\": 549}, {\"threshold\": 0.369, \"p\": 342, \"fpr\": 1.0, \"tpr\": 1.0, \"n\": 549}, {\"threshold\": 0.37, \"p\": 342, \"fpr\": 1.0, \"tpr\": 1.0, \"n\": 549}, {\"threshold\": 0.371, \"p\": 342, \"fpr\": 1.0, \"tpr\": 1.0, \"n\": 549}, {\"threshold\": 0.372, \"p\": 342, \"fpr\": 1.0, \"tpr\": 1.0, \"n\": 549}, {\"threshold\": 0.373, \"p\": 342, \"fpr\": 1.0, \"tpr\": 1.0, \"n\": 549}, {\"threshold\": 0.374, \"p\": 342, \"fpr\": 1.0, \"tpr\": 1.0, \"n\": 549}, {\"threshold\": 0.375, \"p\": 342, \"fpr\": 1.0, \"tpr\": 1.0, \"n\": 549}, {\"threshold\": 0.376, \"p\": 342, \"fpr\": 1.0, \"tpr\": 1.0, \"n\": 549}, {\"threshold\": 0.377, \"p\": 342, \"fpr\": 1.0, \"tpr\": 1.0, \"n\": 549}, {\"threshold\": 0.378, \"p\": 342, \"fpr\": 1.0, \"tpr\": 1.0, \"n\": 549}, {\"threshold\": 0.379, \"p\": 342, \"fpr\": 1.0, \"tpr\": 1.0, \"n\": 549}, {\"threshold\": 0.38, \"p\": 342, \"fpr\": 1.0, \"tpr\": 1.0, \"n\": 549}, {\"threshold\": 0.381, \"p\": 342, \"fpr\": 1.0, \"tpr\": 1.0, \"n\": 549}, {\"threshold\": 0.382, \"p\": 342, \"fpr\": 1.0, \"tpr\": 1.0, \"n\": 549}, {\"threshold\": 0.383, \"p\": 342, \"fpr\": 1.0, \"tpr\": 1.0, \"n\": 549}, {\"threshold\": 0.384, \"p\": 342, \"fpr\": 0.9726775956284153, \"tpr\": 0.9970760233918129, \"n\": 549}, {\"threshold\": 0.385, \"p\": 342, \"fpr\": 0.31876138433515483, \"tpr\": 0.8771929824561403, \"n\": 549}, {\"threshold\": 0.386, \"p\": 342, \"fpr\": 0.2786885245901639, \"tpr\": 0.8742690058479532, \"n\": 549}, {\"threshold\": 0.387, \"p\": 342, \"fpr\": 0.2786885245901639, \"tpr\": 0.8742690058479532, \"n\": 549}, {\"threshold\": 0.388, \"p\": 342, \"fpr\": 0.2786885245901639, \"tpr\": 0.8742690058479532, \"n\": 549}, {\"threshold\": 0.389, \"p\": 342, \"fpr\": 0.2786885245901639, \"tpr\": 0.8742690058479532, \"n\": 549}, {\"threshold\": 0.39, \"p\": 342, \"fpr\": 0.2786885245901639, \"tpr\": 0.8742690058479532, \"n\": 549}, {\"threshold\": 0.391, \"p\": 342, \"fpr\": 0.2786885245901639, \"tpr\": 0.8742690058479532, \"n\": 549}, {\"threshold\": 0.392, \"p\": 342, \"fpr\": 0.2786885245901639, \"tpr\": 0.8742690058479532, \"n\": 549}, {\"threshold\": 0.393, \"p\": 342, \"fpr\": 0.2786885245901639, \"tpr\": 0.8742690058479532, \"n\": 549}, {\"threshold\": 0.394, \"p\": 342, \"fpr\": 0.2786885245901639, \"tpr\": 0.8742690058479532, \"n\": 549}, {\"threshold\": 0.395, \"p\": 342, \"fpr\": 0.2786885245901639, \"tpr\": 0.8742690058479532, \"n\": 549}, {\"threshold\": 0.396, \"p\": 342, \"fpr\": 0.2786885245901639, \"tpr\": 0.8742690058479532, \"n\": 549}, {\"threshold\": 0.397, \"p\": 342, \"fpr\": 0.2786885245901639, \"tpr\": 0.8742690058479532, \"n\": 549}, {\"threshold\": 0.398, \"p\": 342, \"fpr\": 0.2786885245901639, \"tpr\": 0.8742690058479532, \"n\": 549}, {\"threshold\": 0.399, \"p\": 342, \"fpr\": 0.2786885245901639, \"tpr\": 0.8742690058479532, \"n\": 549}, {\"threshold\": 0.4, \"p\": 342, \"fpr\": 0.2786885245901639, \"tpr\": 0.8742690058479532, \"n\": 549}, {\"threshold\": 0.401, \"p\": 342, \"fpr\": 0.2786885245901639, \"tpr\": 0.8742690058479532, \"n\": 549}, {\"threshold\": 0.402, \"p\": 342, \"fpr\": 0.2786885245901639, \"tpr\": 0.8742690058479532, \"n\": 549}, {\"threshold\": 0.403, \"p\": 342, \"fpr\": 0.2786885245901639, \"tpr\": 0.8742690058479532, \"n\": 549}, {\"threshold\": 0.404, \"p\": 342, \"fpr\": 0.2786885245901639, \"tpr\": 0.8742690058479532, \"n\": 549}, {\"threshold\": 0.405, \"p\": 342, \"fpr\": 0.2786885245901639, \"tpr\": 0.8742690058479532, \"n\": 549}, {\"threshold\": 0.406, \"p\": 342, \"fpr\": 0.2786885245901639, \"tpr\": 0.8742690058479532, \"n\": 549}, {\"threshold\": 0.407, \"p\": 342, \"fpr\": 0.22404371584699453, \"tpr\": 0.8596491228070176, \"n\": 549}, {\"threshold\": 0.408, \"p\": 342, \"fpr\": 0.22404371584699453, \"tpr\": 0.8596491228070176, \"n\": 549}, {\"threshold\": 0.409, \"p\": 342, \"fpr\": 0.22404371584699453, \"tpr\": 0.8596491228070176, \"n\": 549}, {\"threshold\": 0.41, \"p\": 342, \"fpr\": 0.22404371584699453, \"tpr\": 0.8596491228070176, \"n\": 549}, {\"threshold\": 0.411, \"p\": 342, \"fpr\": 0.21311475409836064, \"tpr\": 0.8596491228070176, \"n\": 549}, {\"threshold\": 0.412, \"p\": 342, \"fpr\": 0.21311475409836064, \"tpr\": 0.8596491228070176, \"n\": 549}, {\"threshold\": 0.413, \"p\": 342, \"fpr\": 0.21311475409836064, \"tpr\": 0.8596491228070176, \"n\": 549}, {\"threshold\": 0.414, \"p\": 342, \"fpr\": 0.21311475409836064, \"tpr\": 0.8596491228070176, \"n\": 549}, {\"threshold\": 0.415, \"p\": 342, \"fpr\": 0.21311475409836064, \"tpr\": 0.8596491228070176, \"n\": 549}, {\"threshold\": 0.416, \"p\": 342, \"fpr\": 0.21311475409836064, \"tpr\": 0.8596491228070176, \"n\": 549}, {\"threshold\": 0.417, \"p\": 342, \"fpr\": 0.21311475409836064, \"tpr\": 0.8596491228070176, \"n\": 549}, {\"threshold\": 0.418, \"p\": 342, \"fpr\": 0.21311475409836064, \"tpr\": 0.8596491228070176, \"n\": 549}, {\"threshold\": 0.419, \"p\": 342, \"fpr\": 0.21311475409836064, \"tpr\": 0.8596491228070176, \"n\": 549}, {\"threshold\": 0.42, \"p\": 342, \"fpr\": 0.21311475409836064, \"tpr\": 0.8596491228070176, \"n\": 549}, {\"threshold\": 0.421, \"p\": 342, \"fpr\": 0.21311475409836064, \"tpr\": 0.8596491228070176, \"n\": 549}, {\"threshold\": 0.422, \"p\": 342, \"fpr\": 0.21311475409836064, \"tpr\": 0.8596491228070176, \"n\": 549}, {\"threshold\": 0.423, \"p\": 342, \"fpr\": 0.21311475409836064, \"tpr\": 0.8596491228070176, \"n\": 549}, {\"threshold\": 0.424, \"p\": 342, \"fpr\": 0.21311475409836064, \"tpr\": 0.8596491228070176, \"n\": 549}, {\"threshold\": 0.425, \"p\": 342, \"fpr\": 0.21311475409836064, \"tpr\": 0.8596491228070176, \"n\": 549}, {\"threshold\": 0.426, \"p\": 342, \"fpr\": 0.2040072859744991, \"tpr\": 0.8596491228070176, \"n\": 549}, {\"threshold\": 0.427, \"p\": 342, \"fpr\": 0.2040072859744991, \"tpr\": 0.8596491228070176, \"n\": 549}, {\"threshold\": 0.428, \"p\": 342, \"fpr\": 0.2040072859744991, \"tpr\": 0.8596491228070176, \"n\": 549}, {\"threshold\": 0.429, \"p\": 342, \"fpr\": 0.2040072859744991, \"tpr\": 0.8596491228070176, \"n\": 549}, {\"threshold\": 0.43, \"p\": 342, \"fpr\": 0.2040072859744991, \"tpr\": 0.8596491228070176, \"n\": 549}, {\"threshold\": 0.431, \"p\": 342, \"fpr\": 0.2040072859744991, \"tpr\": 0.8596491228070176, \"n\": 549}, {\"threshold\": 0.432, \"p\": 342, \"fpr\": 0.2040072859744991, \"tpr\": 0.8596491228070176, \"n\": 549}, {\"threshold\": 0.433, \"p\": 342, \"fpr\": 0.2040072859744991, \"tpr\": 0.8596491228070176, \"n\": 549}, {\"threshold\": 0.434, \"p\": 342, \"fpr\": 0.2040072859744991, \"tpr\": 0.8596491228070176, \"n\": 549}, {\"threshold\": 0.435, \"p\": 342, \"fpr\": 0.2040072859744991, \"tpr\": 0.8596491228070176, \"n\": 549}, {\"threshold\": 0.436, \"p\": 342, \"fpr\": 0.2040072859744991, \"tpr\": 0.8596491228070176, \"n\": 549}, {\"threshold\": 0.437, \"p\": 342, \"fpr\": 0.2040072859744991, \"tpr\": 0.8596491228070176, \"n\": 549}, {\"threshold\": 0.438, \"p\": 342, \"fpr\": 0.2040072859744991, \"tpr\": 0.8596491228070176, \"n\": 549}, {\"threshold\": 0.439, \"p\": 342, \"fpr\": 0.2040072859744991, \"tpr\": 0.8596491228070176, \"n\": 549}, {\"threshold\": 0.44, \"p\": 342, \"fpr\": 0.2040072859744991, \"tpr\": 0.8596491228070176, \"n\": 549}, {\"threshold\": 0.441, \"p\": 342, \"fpr\": 0.2040072859744991, \"tpr\": 0.8596491228070176, \"n\": 549}, {\"threshold\": 0.442, \"p\": 342, \"fpr\": 0.2040072859744991, \"tpr\": 0.8596491228070176, \"n\": 549}, {\"threshold\": 0.443, \"p\": 342, \"fpr\": 0.2040072859744991, \"tpr\": 0.8596491228070176, \"n\": 549}, {\"threshold\": 0.444, \"p\": 342, \"fpr\": 0.2040072859744991, \"tpr\": 0.8596491228070176, \"n\": 549}, {\"threshold\": 0.445, \"p\": 342, \"fpr\": 0.2040072859744991, \"tpr\": 0.8596491228070176, \"n\": 549}, {\"threshold\": 0.446, \"p\": 342, \"fpr\": 0.2040072859744991, \"tpr\": 0.8596491228070176, \"n\": 549}, {\"threshold\": 0.447, \"p\": 342, \"fpr\": 0.2040072859744991, \"tpr\": 0.8596491228070176, \"n\": 549}, {\"threshold\": 0.448, \"p\": 342, \"fpr\": 0.2040072859744991, \"tpr\": 0.8596491228070176, \"n\": 549}, {\"threshold\": 0.449, \"p\": 342, \"fpr\": 0.2040072859744991, \"tpr\": 0.8596491228070176, \"n\": 549}, {\"threshold\": 0.45, \"p\": 342, \"fpr\": 0.2040072859744991, \"tpr\": 0.8596491228070176, \"n\": 549}, {\"threshold\": 0.451, \"p\": 342, \"fpr\": 0.20036429872495445, \"tpr\": 0.8596491228070176, \"n\": 549}, {\"threshold\": 0.452, \"p\": 342, \"fpr\": 0.20036429872495445, \"tpr\": 0.8596491228070176, \"n\": 549}, {\"threshold\": 0.453, \"p\": 342, \"fpr\": 0.09836065573770492, \"tpr\": 0.7748538011695907, \"n\": 549}, {\"threshold\": 0.454, \"p\": 342, \"fpr\": 0.09836065573770492, \"tpr\": 0.7748538011695907, \"n\": 549}, {\"threshold\": 0.455, \"p\": 342, \"fpr\": 0.09836065573770492, \"tpr\": 0.7748538011695907, \"n\": 549}, {\"threshold\": 0.456, \"p\": 342, \"fpr\": 0.09836065573770492, \"tpr\": 0.7748538011695907, \"n\": 549}, {\"threshold\": 0.457, \"p\": 342, \"fpr\": 0.09836065573770492, \"tpr\": 0.7748538011695907, \"n\": 549}, {\"threshold\": 0.458, \"p\": 342, \"fpr\": 0.09836065573770492, \"tpr\": 0.7748538011695907, \"n\": 549}, {\"threshold\": 0.459, \"p\": 342, \"fpr\": 0.09836065573770492, \"tpr\": 0.7748538011695907, \"n\": 549}, {\"threshold\": 0.46, \"p\": 342, \"fpr\": 0.09836065573770492, \"tpr\": 0.7748538011695907, \"n\": 549}, {\"threshold\": 0.461, \"p\": 342, \"fpr\": 0.09836065573770492, \"tpr\": 0.7748538011695907, \"n\": 549}, {\"threshold\": 0.462, \"p\": 342, \"fpr\": 0.09836065573770492, \"tpr\": 0.7748538011695907, \"n\": 549}, {\"threshold\": 0.463, \"p\": 342, \"fpr\": 0.09836065573770492, \"tpr\": 0.7748538011695907, \"n\": 549}, {\"threshold\": 0.464, \"p\": 342, \"fpr\": 0.09836065573770492, \"tpr\": 0.7748538011695907, \"n\": 549}, {\"threshold\": 0.465, \"p\": 342, \"fpr\": 0.09836065573770492, \"tpr\": 0.7748538011695907, \"n\": 549}, {\"threshold\": 0.466, \"p\": 342, \"fpr\": 0.09836065573770492, \"tpr\": 0.7748538011695907, \"n\": 549}, {\"threshold\": 0.467, \"p\": 342, \"fpr\": 0.09836065573770492, \"tpr\": 0.7748538011695907, \"n\": 549}, {\"threshold\": 0.468, \"p\": 342, \"fpr\": 0.09836065573770492, \"tpr\": 0.7748538011695907, \"n\": 549}, {\"threshold\": 0.469, \"p\": 342, \"fpr\": 0.09836065573770492, \"tpr\": 0.7748538011695907, \"n\": 549}, {\"threshold\": 0.47, \"p\": 342, \"fpr\": 0.09836065573770492, \"tpr\": 0.7748538011695907, \"n\": 549}, {\"threshold\": 0.471, \"p\": 342, \"fpr\": 0.0947176684881603, \"tpr\": 0.7748538011695907, \"n\": 549}, {\"threshold\": 0.472, \"p\": 342, \"fpr\": 0.0947176684881603, \"tpr\": 0.7748538011695907, \"n\": 549}, {\"threshold\": 0.473, \"p\": 342, \"fpr\": 0.0947176684881603, \"tpr\": 0.7748538011695907, \"n\": 549}, {\"threshold\": 0.474, \"p\": 342, \"fpr\": 0.0947176684881603, \"tpr\": 0.7748538011695907, \"n\": 549}, {\"threshold\": 0.475, \"p\": 342, \"fpr\": 0.0947176684881603, \"tpr\": 0.7748538011695907, \"n\": 549}, {\"threshold\": 0.476, \"p\": 342, \"fpr\": 0.058287795992714025, \"tpr\": 0.7368421052631579, \"n\": 549}, {\"threshold\": 0.477, \"p\": 342, \"fpr\": 0.058287795992714025, \"tpr\": 0.7368421052631579, \"n\": 549}, {\"threshold\": 0.478, \"p\": 342, \"fpr\": 0.058287795992714025, \"tpr\": 0.7368421052631579, \"n\": 549}, {\"threshold\": 0.479, \"p\": 342, \"fpr\": 0.0546448087431694, \"tpr\": 0.7339181286549707, \"n\": 549}, {\"threshold\": 0.48, \"p\": 342, \"fpr\": 0.0546448087431694, \"tpr\": 0.7339181286549707, \"n\": 549}, {\"threshold\": 0.481, \"p\": 342, \"fpr\": 0.0546448087431694, \"tpr\": 0.7339181286549707, \"n\": 549}, {\"threshold\": 0.482, \"p\": 342, \"fpr\": 0.0546448087431694, \"tpr\": 0.7339181286549707, \"n\": 549}, {\"threshold\": 0.483, \"p\": 342, \"fpr\": 0.0546448087431694, \"tpr\": 0.7339181286549707, \"n\": 549}, {\"threshold\": 0.484, \"p\": 342, \"fpr\": 0.0546448087431694, \"tpr\": 0.7339181286549707, \"n\": 549}, {\"threshold\": 0.485, \"p\": 342, \"fpr\": 0.0546448087431694, \"tpr\": 0.7339181286549707, \"n\": 549}, {\"threshold\": 0.486, \"p\": 342, \"fpr\": 0.0546448087431694, \"tpr\": 0.7339181286549707, \"n\": 549}, {\"threshold\": 0.487, \"p\": 342, \"fpr\": 0.0546448087431694, \"tpr\": 0.7339181286549707, \"n\": 549}, {\"threshold\": 0.488, \"p\": 342, \"fpr\": 0.0546448087431694, \"tpr\": 0.7339181286549707, \"n\": 549}, {\"threshold\": 0.489, \"p\": 342, \"fpr\": 0.0546448087431694, \"tpr\": 0.7339181286549707, \"n\": 549}, {\"threshold\": 0.49, \"p\": 342, \"fpr\": 0.0546448087431694, \"tpr\": 0.7339181286549707, \"n\": 549}, {\"threshold\": 0.491, \"p\": 342, \"fpr\": 0.0546448087431694, \"tpr\": 0.7339181286549707, \"n\": 549}, {\"threshold\": 0.492, \"p\": 342, \"fpr\": 0.0546448087431694, \"tpr\": 0.7339181286549707, \"n\": 549}, {\"threshold\": 0.493, \"p\": 342, \"fpr\": 0.0546448087431694, \"tpr\": 0.7339181286549707, \"n\": 549}, {\"threshold\": 0.494, \"p\": 342, \"fpr\": 0.0546448087431694, \"tpr\": 0.7339181286549707, \"n\": 549}, {\"threshold\": 0.495, \"p\": 342, \"fpr\": 0.0546448087431694, \"tpr\": 0.7339181286549707, \"n\": 549}, {\"threshold\": 0.496, \"p\": 342, \"fpr\": 0.0546448087431694, \"tpr\": 0.7339181286549707, \"n\": 549}, {\"threshold\": 0.497, \"p\": 342, \"fpr\": 0.0546448087431694, \"tpr\": 0.7339181286549707, \"n\": 549}, {\"threshold\": 0.498, \"p\": 342, \"fpr\": 0.0546448087431694, \"tpr\": 0.7339181286549707, \"n\": 549}, {\"threshold\": 0.499, \"p\": 342, \"fpr\": 0.0546448087431694, \"tpr\": 0.7339181286549707, \"n\": 549}, {\"threshold\": 0.5, \"p\": 342, \"fpr\": 0.0546448087431694, \"tpr\": 0.7339181286549707, \"n\": 549}, {\"threshold\": 0.501, \"p\": 342, \"fpr\": 0.052823315118397086, \"tpr\": 0.7309941520467836, \"n\": 549}, {\"threshold\": 0.502, \"p\": 342, \"fpr\": 0.052823315118397086, \"tpr\": 0.7309941520467836, \"n\": 549}, {\"threshold\": 0.503, \"p\": 342, \"fpr\": 0.052823315118397086, \"tpr\": 0.7309941520467836, \"n\": 549}, {\"threshold\": 0.504, \"p\": 342, \"fpr\": 0.052823315118397086, \"tpr\": 0.7309941520467836, \"n\": 549}, {\"threshold\": 0.505, \"p\": 342, \"fpr\": 0.052823315118397086, \"tpr\": 0.7309941520467836, \"n\": 549}, {\"threshold\": 0.506, \"p\": 342, \"fpr\": 0.052823315118397086, \"tpr\": 0.7309941520467836, \"n\": 549}, {\"threshold\": 0.507, \"p\": 342, \"fpr\": 0.052823315118397086, \"tpr\": 0.7309941520467836, \"n\": 549}, {\"threshold\": 0.508, \"p\": 342, \"fpr\": 0.052823315118397086, \"tpr\": 0.7309941520467836, \"n\": 549}, {\"threshold\": 0.509, \"p\": 342, \"fpr\": 0.052823315118397086, \"tpr\": 0.7309941520467836, \"n\": 549}, {\"threshold\": 0.51, \"p\": 342, \"fpr\": 0.052823315118397086, \"tpr\": 0.7309941520467836, \"n\": 549}, {\"threshold\": 0.511, \"p\": 342, \"fpr\": 0.052823315118397086, \"tpr\": 0.7309941520467836, \"n\": 549}, {\"threshold\": 0.512, \"p\": 342, \"fpr\": 0.052823315118397086, \"tpr\": 0.7309941520467836, \"n\": 549}, {\"threshold\": 0.513, \"p\": 342, \"fpr\": 0.052823315118397086, \"tpr\": 0.7309941520467836, \"n\": 549}, {\"threshold\": 0.514, \"p\": 342, \"fpr\": 0.052823315118397086, \"tpr\": 0.7309941520467836, \"n\": 549}, {\"threshold\": 0.515, \"p\": 342, \"fpr\": 0.052823315118397086, \"tpr\": 0.7309941520467836, \"n\": 549}, {\"threshold\": 0.516, \"p\": 342, \"fpr\": 0.052823315118397086, \"tpr\": 0.7309941520467836, \"n\": 549}, {\"threshold\": 0.517, \"p\": 342, \"fpr\": 0.052823315118397086, \"tpr\": 0.7309941520467836, \"n\": 549}, {\"threshold\": 0.518, \"p\": 342, \"fpr\": 0.052823315118397086, \"tpr\": 0.7309941520467836, \"n\": 549}, {\"threshold\": 0.519, \"p\": 342, \"fpr\": 0.052823315118397086, \"tpr\": 0.7309941520467836, \"n\": 549}, {\"threshold\": 0.52, \"p\": 342, \"fpr\": 0.052823315118397086, \"tpr\": 0.7309941520467836, \"n\": 549}, {\"threshold\": 0.521, \"p\": 342, \"fpr\": 0.052823315118397086, \"tpr\": 0.7309941520467836, \"n\": 549}, {\"threshold\": 0.522, \"p\": 342, \"fpr\": 0.052823315118397086, \"tpr\": 0.7309941520467836, \"n\": 549}, {\"threshold\": 0.523, \"p\": 342, \"fpr\": 0.052823315118397086, \"tpr\": 0.7309941520467836, \"n\": 549}, {\"threshold\": 0.524, \"p\": 342, \"fpr\": 0.052823315118397086, \"tpr\": 0.7309941520467836, \"n\": 549}, {\"threshold\": 0.525, \"p\": 342, \"fpr\": 0.052823315118397086, \"tpr\": 0.7309941520467836, \"n\": 549}, {\"threshold\": 0.526, \"p\": 342, \"fpr\": 0.052823315118397086, \"tpr\": 0.7309941520467836, \"n\": 549}, {\"threshold\": 0.527, \"p\": 342, \"fpr\": 0.052823315118397086, \"tpr\": 0.7309941520467836, \"n\": 549}, {\"threshold\": 0.528, \"p\": 342, \"fpr\": 0.052823315118397086, \"tpr\": 0.7309941520467836, \"n\": 549}, {\"threshold\": 0.529, \"p\": 342, \"fpr\": 0.052823315118397086, \"tpr\": 0.7309941520467836, \"n\": 549}, {\"threshold\": 0.53, \"p\": 342, \"fpr\": 0.052823315118397086, \"tpr\": 0.716374269005848, \"n\": 549}, {\"threshold\": 0.531, \"p\": 342, \"fpr\": 0.052823315118397086, \"tpr\": 0.716374269005848, \"n\": 549}, {\"threshold\": 0.532, \"p\": 342, \"fpr\": 0.052823315118397086, \"tpr\": 0.716374269005848, \"n\": 549}, {\"threshold\": 0.533, \"p\": 342, \"fpr\": 0.052823315118397086, \"tpr\": 0.716374269005848, \"n\": 549}, {\"threshold\": 0.534, \"p\": 342, \"fpr\": 0.052823315118397086, \"tpr\": 0.716374269005848, \"n\": 549}, {\"threshold\": 0.535, \"p\": 342, \"fpr\": 0.052823315118397086, \"tpr\": 0.716374269005848, \"n\": 549}, {\"threshold\": 0.536, \"p\": 342, \"fpr\": 0.052823315118397086, \"tpr\": 0.716374269005848, \"n\": 549}, {\"threshold\": 0.537, \"p\": 342, \"fpr\": 0.052823315118397086, \"tpr\": 0.716374269005848, \"n\": 549}, {\"threshold\": 0.538, \"p\": 342, \"fpr\": 0.052823315118397086, \"tpr\": 0.716374269005848, \"n\": 549}, {\"threshold\": 0.539, \"p\": 342, \"fpr\": 0.052823315118397086, \"tpr\": 0.716374269005848, \"n\": 549}, {\"threshold\": 0.54, \"p\": 342, \"fpr\": 0.052823315118397086, \"tpr\": 0.716374269005848, \"n\": 549}, {\"threshold\": 0.541, \"p\": 342, \"fpr\": 0.052823315118397086, \"tpr\": 0.716374269005848, \"n\": 549}, {\"threshold\": 0.542, \"p\": 342, \"fpr\": 0.052823315118397086, \"tpr\": 0.716374269005848, \"n\": 549}, {\"threshold\": 0.543, \"p\": 342, \"fpr\": 0.052823315118397086, \"tpr\": 0.716374269005848, \"n\": 549}, {\"threshold\": 0.544, \"p\": 342, \"fpr\": 0.052823315118397086, \"tpr\": 0.716374269005848, \"n\": 549}, {\"threshold\": 0.545, \"p\": 342, \"fpr\": 0.052823315118397086, \"tpr\": 0.716374269005848, \"n\": 549}, {\"threshold\": 0.546, \"p\": 342, \"fpr\": 0.052823315118397086, \"tpr\": 0.716374269005848, \"n\": 549}, {\"threshold\": 0.547, \"p\": 342, \"fpr\": 0.052823315118397086, \"tpr\": 0.716374269005848, \"n\": 549}, {\"threshold\": 0.548, \"p\": 342, \"fpr\": 0.052823315118397086, \"tpr\": 0.716374269005848, \"n\": 549}, {\"threshold\": 0.549, \"p\": 342, \"fpr\": 0.052823315118397086, \"tpr\": 0.716374269005848, \"n\": 549}, {\"threshold\": 0.55, \"p\": 342, \"fpr\": 0.0273224043715847, \"tpr\": 0.6111111111111112, \"n\": 549}, {\"threshold\": 0.551, \"p\": 342, \"fpr\": 0.0273224043715847, \"tpr\": 0.6111111111111112, \"n\": 549}, {\"threshold\": 0.552, \"p\": 342, \"fpr\": 0.0273224043715847, \"tpr\": 0.6111111111111112, \"n\": 549}, {\"threshold\": 0.553, \"p\": 342, \"fpr\": 0.0273224043715847, \"tpr\": 0.6111111111111112, \"n\": 549}, {\"threshold\": 0.554, \"p\": 342, \"fpr\": 0.0273224043715847, \"tpr\": 0.6111111111111112, \"n\": 549}, {\"threshold\": 0.555, \"p\": 342, \"fpr\": 0.0273224043715847, \"tpr\": 0.6111111111111112, \"n\": 549}, {\"threshold\": 0.556, \"p\": 342, \"fpr\": 0.0273224043715847, \"tpr\": 0.6111111111111112, \"n\": 549}, {\"threshold\": 0.557, \"p\": 342, \"fpr\": 0.0273224043715847, \"tpr\": 0.6111111111111112, \"n\": 549}, {\"threshold\": 0.558, \"p\": 342, \"fpr\": 0.0273224043715847, \"tpr\": 0.6111111111111112, \"n\": 549}, {\"threshold\": 0.559, \"p\": 342, \"fpr\": 0.0273224043715847, \"tpr\": 0.6111111111111112, \"n\": 549}, {\"threshold\": 0.56, \"p\": 342, \"fpr\": 0.0273224043715847, \"tpr\": 0.6111111111111112, \"n\": 549}, {\"threshold\": 0.561, \"p\": 342, \"fpr\": 0.0273224043715847, \"tpr\": 0.6111111111111112, \"n\": 549}, {\"threshold\": 0.562, \"p\": 342, \"fpr\": 0.0273224043715847, \"tpr\": 0.6111111111111112, \"n\": 549}, {\"threshold\": 0.563, \"p\": 342, \"fpr\": 0.0273224043715847, \"tpr\": 0.6111111111111112, \"n\": 549}, {\"threshold\": 0.564, \"p\": 342, \"fpr\": 0.0273224043715847, \"tpr\": 0.6111111111111112, \"n\": 549}, {\"threshold\": 0.565, \"p\": 342, \"fpr\": 0.0273224043715847, \"tpr\": 0.6111111111111112, \"n\": 549}, {\"threshold\": 0.566, \"p\": 342, \"fpr\": 0.0273224043715847, \"tpr\": 0.6111111111111112, \"n\": 549}, {\"threshold\": 0.567, \"p\": 342, \"fpr\": 0.0273224043715847, \"tpr\": 0.6111111111111112, \"n\": 549}, {\"threshold\": 0.568, \"p\": 342, \"fpr\": 0.0273224043715847, \"tpr\": 0.6111111111111112, \"n\": 549}, {\"threshold\": 0.569, \"p\": 342, \"fpr\": 0.0273224043715847, \"tpr\": 0.6111111111111112, \"n\": 549}, {\"threshold\": 0.57, \"p\": 342, \"fpr\": 0.0273224043715847, \"tpr\": 0.6111111111111112, \"n\": 549}, {\"threshold\": 0.571, \"p\": 342, \"fpr\": 0.0273224043715847, \"tpr\": 0.6111111111111112, \"n\": 549}, {\"threshold\": 0.572, \"p\": 342, \"fpr\": 0.0273224043715847, \"tpr\": 0.6111111111111112, \"n\": 549}, {\"threshold\": 0.573, \"p\": 342, \"fpr\": 0.0273224043715847, \"tpr\": 0.6111111111111112, \"n\": 549}, {\"threshold\": 0.574, \"p\": 342, \"fpr\": 0.0273224043715847, \"tpr\": 0.6111111111111112, \"n\": 549}, {\"threshold\": 0.575, \"p\": 342, \"fpr\": 0.0273224043715847, \"tpr\": 0.6111111111111112, \"n\": 549}, {\"threshold\": 0.576, \"p\": 342, \"fpr\": 0.0273224043715847, \"tpr\": 0.6111111111111112, \"n\": 549}, {\"threshold\": 0.577, \"p\": 342, \"fpr\": 0.0273224043715847, \"tpr\": 0.6111111111111112, \"n\": 549}, {\"threshold\": 0.578, \"p\": 342, \"fpr\": 0.0273224043715847, \"tpr\": 0.6111111111111112, \"n\": 549}, {\"threshold\": 0.579, \"p\": 342, \"fpr\": 0.0273224043715847, \"tpr\": 0.6111111111111112, \"n\": 549}, {\"threshold\": 0.58, \"p\": 342, \"fpr\": 0.0273224043715847, \"tpr\": 0.6111111111111112, \"n\": 549}, {\"threshold\": 0.581, \"p\": 342, \"fpr\": 0.0273224043715847, \"tpr\": 0.6111111111111112, \"n\": 549}, {\"threshold\": 0.582, \"p\": 342, \"fpr\": 0.0273224043715847, \"tpr\": 0.6111111111111112, \"n\": 549}, {\"threshold\": 0.583, \"p\": 342, \"fpr\": 0.0273224043715847, \"tpr\": 0.6111111111111112, \"n\": 549}, {\"threshold\": 0.584, \"p\": 342, \"fpr\": 0.0273224043715847, \"tpr\": 0.6111111111111112, \"n\": 549}, {\"threshold\": 0.585, \"p\": 342, \"fpr\": 0.0273224043715847, \"tpr\": 0.6111111111111112, \"n\": 549}, {\"threshold\": 0.586, \"p\": 342, \"fpr\": 0.0273224043715847, \"tpr\": 0.6111111111111112, \"n\": 549}, {\"threshold\": 0.587, \"p\": 342, \"fpr\": 0.0273224043715847, \"tpr\": 0.6111111111111112, \"n\": 549}, {\"threshold\": 0.588, \"p\": 342, \"fpr\": 0.0273224043715847, \"tpr\": 0.6111111111111112, \"n\": 549}, {\"threshold\": 0.589, \"p\": 342, \"fpr\": 0.0273224043715847, \"tpr\": 0.6111111111111112, \"n\": 549}, {\"threshold\": 0.59, \"p\": 342, \"fpr\": 0.025500910746812388, \"tpr\": 0.5818713450292398, \"n\": 549}, {\"threshold\": 0.591, \"p\": 342, \"fpr\": 0.025500910746812388, \"tpr\": 0.5818713450292398, \"n\": 549}, {\"threshold\": 0.592, \"p\": 342, \"fpr\": 0.014571948998178506, \"tpr\": 0.5233918128654971, \"n\": 549}, {\"threshold\": 0.593, \"p\": 342, \"fpr\": 0.014571948998178506, \"tpr\": 0.5233918128654971, \"n\": 549}, {\"threshold\": 0.594, \"p\": 342, \"fpr\": 0.014571948998178506, \"tpr\": 0.5233918128654971, \"n\": 549}, {\"threshold\": 0.595, \"p\": 342, \"fpr\": 0.014571948998178506, \"tpr\": 0.5233918128654971, \"n\": 549}, {\"threshold\": 0.596, \"p\": 342, \"fpr\": 0.014571948998178506, \"tpr\": 0.5233918128654971, \"n\": 549}, {\"threshold\": 0.597, \"p\": 342, \"fpr\": 0.014571948998178506, \"tpr\": 0.5233918128654971, \"n\": 549}, {\"threshold\": 0.598, \"p\": 342, \"fpr\": 0.014571948998178506, \"tpr\": 0.5233918128654971, \"n\": 549}, {\"threshold\": 0.599, \"p\": 342, \"fpr\": 0.014571948998178506, \"tpr\": 0.5233918128654971, \"n\": 549}, {\"threshold\": 0.6, \"p\": 342, \"fpr\": 0.014571948998178506, \"tpr\": 0.5233918128654971, \"n\": 549}, {\"threshold\": 0.601, \"p\": 342, \"fpr\": 0.014571948998178506, \"tpr\": 0.5233918128654971, \"n\": 549}, {\"threshold\": 0.602, \"p\": 342, \"fpr\": 0.014571948998178506, \"tpr\": 0.5233918128654971, \"n\": 549}, {\"threshold\": 0.603, \"p\": 342, \"fpr\": 0.014571948998178506, \"tpr\": 0.5233918128654971, \"n\": 549}, {\"threshold\": 0.604, \"p\": 342, \"fpr\": 0.014571948998178506, \"tpr\": 0.5233918128654971, \"n\": 549}, {\"threshold\": 0.605, \"p\": 342, \"fpr\": 0.014571948998178506, \"tpr\": 0.5233918128654971, \"n\": 549}, {\"threshold\": 0.606, \"p\": 342, \"fpr\": 0.014571948998178506, \"tpr\": 0.5233918128654971, \"n\": 549}, {\"threshold\": 0.607, \"p\": 342, \"fpr\": 0.014571948998178506, \"tpr\": 0.5233918128654971, \"n\": 549}, {\"threshold\": 0.608, \"p\": 342, \"fpr\": 0.014571948998178506, \"tpr\": 0.5233918128654971, \"n\": 549}, {\"threshold\": 0.609, \"p\": 342, \"fpr\": 0.014571948998178506, \"tpr\": 0.5233918128654971, \"n\": 549}, {\"threshold\": 0.61, \"p\": 342, \"fpr\": 0.014571948998178506, \"tpr\": 0.5233918128654971, \"n\": 549}, {\"threshold\": 0.611, \"p\": 342, \"fpr\": 0.014571948998178506, \"tpr\": 0.5233918128654971, \"n\": 549}, {\"threshold\": 0.612, \"p\": 342, \"fpr\": 0.014571948998178506, \"tpr\": 0.5233918128654971, \"n\": 549}, {\"threshold\": 0.613, \"p\": 342, \"fpr\": 0.014571948998178506, \"tpr\": 0.5233918128654971, \"n\": 549}, {\"threshold\": 0.614, \"p\": 342, \"fpr\": 0.014571948998178506, \"tpr\": 0.5233918128654971, \"n\": 549}, {\"threshold\": 0.615, \"p\": 342, \"fpr\": 0.014571948998178506, \"tpr\": 0.5233918128654971, \"n\": 549}, {\"threshold\": 0.616, \"p\": 342, \"fpr\": 0.014571948998178506, \"tpr\": 0.5233918128654971, \"n\": 549}, {\"threshold\": 0.617, \"p\": 342, \"fpr\": 0.014571948998178506, \"tpr\": 0.5233918128654971, \"n\": 549}, {\"threshold\": 0.618, \"p\": 342, \"fpr\": 0.014571948998178506, \"tpr\": 0.5233918128654971, \"n\": 549}, {\"threshold\": 0.619, \"p\": 342, \"fpr\": 0.014571948998178506, \"tpr\": 0.5233918128654971, \"n\": 549}, {\"threshold\": 0.62, \"p\": 342, \"fpr\": 0.014571948998178506, \"tpr\": 0.5233918128654971, \"n\": 549}, {\"threshold\": 0.621, \"p\": 342, \"fpr\": 0.014571948998178506, \"tpr\": 0.5233918128654971, \"n\": 549}, {\"threshold\": 0.622, \"p\": 342, \"fpr\": 0.014571948998178506, \"tpr\": 0.4678362573099415, \"n\": 549}, {\"threshold\": 0.623, \"p\": 342, \"fpr\": 0.014571948998178506, \"tpr\": 0.4678362573099415, \"n\": 549}, {\"threshold\": 0.624, \"p\": 342, \"fpr\": 0.014571948998178506, \"tpr\": 0.4678362573099415, \"n\": 549}, {\"threshold\": 0.625, \"p\": 342, \"fpr\": 0.014571948998178506, \"tpr\": 0.4678362573099415, \"n\": 549}, {\"threshold\": 0.626, \"p\": 342, \"fpr\": 0.014571948998178506, \"tpr\": 0.4678362573099415, \"n\": 549}, {\"threshold\": 0.627, \"p\": 342, \"fpr\": 0.014571948998178506, \"tpr\": 0.4678362573099415, \"n\": 549}, {\"threshold\": 0.628, \"p\": 342, \"fpr\": 0.014571948998178506, \"tpr\": 0.4678362573099415, \"n\": 549}, {\"threshold\": 0.629, \"p\": 342, \"fpr\": 0.0, \"tpr\": 0.0, \"n\": 549}, {\"threshold\": 0.63, \"p\": 342, \"fpr\": 0.0, \"tpr\": 0.0, \"n\": 549}, {\"threshold\": 0.631, \"p\": 342, \"fpr\": 0.0, \"tpr\": 0.0, \"n\": 549}, {\"threshold\": 0.632, \"p\": 342, \"fpr\": 0.0, \"tpr\": 0.0, \"n\": 549}, {\"threshold\": 0.633, \"p\": 342, \"fpr\": 0.0, \"tpr\": 0.0, \"n\": 549}, {\"threshold\": 0.634, \"p\": 342, \"fpr\": 0.0, \"tpr\": 0.0, \"n\": 549}, {\"threshold\": 0.635, \"p\": 342, \"fpr\": 0.0, \"tpr\": 0.0, \"n\": 549}, {\"threshold\": 0.636, \"p\": 342, \"fpr\": 0.0, \"tpr\": 0.0, \"n\": 549}, {\"threshold\": 0.637, \"p\": 342, \"fpr\": 0.0, \"tpr\": 0.0, \"n\": 549}, {\"threshold\": 0.638, \"p\": 342, \"fpr\": 0.0, \"tpr\": 0.0, \"n\": 549}, {\"threshold\": 0.639, \"p\": 342, \"fpr\": 0.0, \"tpr\": 0.0, \"n\": 549}, {\"threshold\": 0.64, \"p\": 342, \"fpr\": 0.0, \"tpr\": 0.0, \"n\": 549}, {\"threshold\": 0.641, \"p\": 342, \"fpr\": 0.0, \"tpr\": 0.0, \"n\": 549}, {\"threshold\": 0.642, \"p\": 342, \"fpr\": 0.0, \"tpr\": 0.0, \"n\": 549}, {\"threshold\": 0.643, \"p\": 342, \"fpr\": 0.0, \"tpr\": 0.0, \"n\": 549}, {\"threshold\": 0.644, \"p\": 342, \"fpr\": 0.0, \"tpr\": 0.0, \"n\": 549}, {\"threshold\": 0.645, \"p\": 342, \"fpr\": 0.0, \"tpr\": 0.0, \"n\": 549}, {\"threshold\": 0.646, \"p\": 342, \"fpr\": 0.0, \"tpr\": 0.0, \"n\": 549}, {\"threshold\": 0.647, \"p\": 342, \"fpr\": 0.0, \"tpr\": 0.0, \"n\": 549}, {\"threshold\": 0.648, \"p\": 342, \"fpr\": 0.0, \"tpr\": 0.0, \"n\": 549}, {\"threshold\": 0.649, \"p\": 342, \"fpr\": 0.0, \"tpr\": 0.0, \"n\": 549}, {\"threshold\": 0.65, \"p\": 342, \"fpr\": 0.0, \"tpr\": 0.0, \"n\": 549}, {\"threshold\": 0.651, \"p\": 342, \"fpr\": 0.0, \"tpr\": 0.0, \"n\": 549}, {\"threshold\": 0.652, \"p\": 342, \"fpr\": 0.0, \"tpr\": 0.0, \"n\": 549}, {\"threshold\": 0.653, \"p\": 342, \"fpr\": 0.0, \"tpr\": 0.0, \"n\": 549}, {\"threshold\": 0.654, \"p\": 342, \"fpr\": 0.0, \"tpr\": 0.0, \"n\": 549}, {\"threshold\": 0.655, \"p\": 342, \"fpr\": 0.0, \"tpr\": 0.0, \"n\": 549}, {\"threshold\": 0.656, \"p\": 342, \"fpr\": 0.0, \"tpr\": 0.0, \"n\": 549}, {\"threshold\": 0.657, \"p\": 342, \"fpr\": 0.0, \"tpr\": 0.0, \"n\": 549}, {\"threshold\": 0.658, \"p\": 342, \"fpr\": 0.0, \"tpr\": 0.0, \"n\": 549}, {\"threshold\": 0.659, \"p\": 342, \"fpr\": 0.0, \"tpr\": 0.0, \"n\": 549}, {\"threshold\": 0.66, \"p\": 342, \"fpr\": 0.0, \"tpr\": 0.0, \"n\": 549}, {\"threshold\": 0.661, \"p\": 342, \"fpr\": 0.0, \"tpr\": 0.0, \"n\": 549}, {\"threshold\": 0.662, \"p\": 342, \"fpr\": 0.0, \"tpr\": 0.0, \"n\": 549}, {\"threshold\": 0.663, \"p\": 342, \"fpr\": 0.0, \"tpr\": 0.0, \"n\": 549}, {\"threshold\": 0.664, \"p\": 342, \"fpr\": 0.0, \"tpr\": 0.0, \"n\": 549}, {\"threshold\": 0.665, \"p\": 342, \"fpr\": 0.0, \"tpr\": 0.0, \"n\": 549}, {\"threshold\": 0.666, \"p\": 342, \"fpr\": 0.0, \"tpr\": 0.0, \"n\": 549}, {\"threshold\": 0.667, \"p\": 342, \"fpr\": 0.0, \"tpr\": 0.0, \"n\": 549}, {\"threshold\": 0.668, \"p\": 342, \"fpr\": 0.0, \"tpr\": 0.0, \"n\": 549}, {\"threshold\": 0.669, \"p\": 342, \"fpr\": 0.0, \"tpr\": 0.0, \"n\": 549}, {\"threshold\": 0.67, \"p\": 342, \"fpr\": 0.0, \"tpr\": 0.0, \"n\": 549}, {\"threshold\": 0.671, \"p\": 342, \"fpr\": 0.0, \"tpr\": 0.0, \"n\": 549}, {\"threshold\": 0.672, \"p\": 342, \"fpr\": 0.0, \"tpr\": 0.0, \"n\": 549}, {\"threshold\": 0.673, \"p\": 342, \"fpr\": 0.0, \"tpr\": 0.0, \"n\": 549}, {\"threshold\": 0.674, \"p\": 342, \"fpr\": 0.0, \"tpr\": 0.0, \"n\": 549}, {\"threshold\": 0.675, \"p\": 342, \"fpr\": 0.0, \"tpr\": 0.0, \"n\": 549}, {\"threshold\": 0.676, \"p\": 342, \"fpr\": 0.0, \"tpr\": 0.0, \"n\": 549}, {\"threshold\": 0.677, \"p\": 342, \"fpr\": 0.0, \"tpr\": 0.0, \"n\": 549}, {\"threshold\": 0.678, \"p\": 342, \"fpr\": 0.0, \"tpr\": 0.0, \"n\": 549}, {\"threshold\": 0.679, \"p\": 342, \"fpr\": 0.0, \"tpr\": 0.0, \"n\": 549}, {\"threshold\": 0.68, \"p\": 342, \"fpr\": 0.0, \"tpr\": 0.0, \"n\": 549}, {\"threshold\": 0.681, \"p\": 342, \"fpr\": 0.0, \"tpr\": 0.0, \"n\": 549}, {\"threshold\": 0.682, \"p\": 342, \"fpr\": 0.0, \"tpr\": 0.0, \"n\": 549}, {\"threshold\": 0.683, \"p\": 342, \"fpr\": 0.0, \"tpr\": 0.0, \"n\": 549}, {\"threshold\": 0.684, \"p\": 342, \"fpr\": 0.0, \"tpr\": 0.0, \"n\": 549}, {\"threshold\": 0.685, \"p\": 342, \"fpr\": 0.0, \"tpr\": 0.0, \"n\": 549}, {\"threshold\": 0.686, \"p\": 342, \"fpr\": 0.0, \"tpr\": 0.0, \"n\": 549}, {\"threshold\": 0.687, \"p\": 342, \"fpr\": 0.0, \"tpr\": 0.0, \"n\": 549}, {\"threshold\": 0.688, \"p\": 342, \"fpr\": 0.0, \"tpr\": 0.0, \"n\": 549}, {\"threshold\": 0.689, \"p\": 342, \"fpr\": 0.0, \"tpr\": 0.0, \"n\": 549}, {\"threshold\": 0.69, \"p\": 342, \"fpr\": 0.0, \"tpr\": 0.0, \"n\": 549}, {\"threshold\": 0.691, \"p\": 342, \"fpr\": 0.0, \"tpr\": 0.0, \"n\": 549}, {\"threshold\": 0.692, \"p\": 342, \"fpr\": 0.0, \"tpr\": 0.0, \"n\": 549}, {\"threshold\": 0.693, \"p\": 342, \"fpr\": 0.0, \"tpr\": 0.0, \"n\": 549}, {\"threshold\": 0.694, \"p\": 342, \"fpr\": 0.0, \"tpr\": 0.0, \"n\": 549}, {\"threshold\": 0.695, \"p\": 342, \"fpr\": 0.0, \"tpr\": 0.0, \"n\": 549}, {\"threshold\": 0.696, \"p\": 342, \"fpr\": 0.0, \"tpr\": 0.0, \"n\": 549}, {\"threshold\": 0.697, \"p\": 342, \"fpr\": 0.0, \"tpr\": 0.0, \"n\": 549}, {\"threshold\": 0.698, \"p\": 342, \"fpr\": 0.0, \"tpr\": 0.0, \"n\": 549}, {\"threshold\": 0.699, \"p\": 342, \"fpr\": 0.0, \"tpr\": 0.0, \"n\": 549}, {\"threshold\": 0.7, \"p\": 342, \"fpr\": 0.0, \"tpr\": 0.0, \"n\": 549}, {\"threshold\": 0.701, \"p\": 342, \"fpr\": 0.0, \"tpr\": 0.0, \"n\": 549}, {\"threshold\": 0.702, \"p\": 342, \"fpr\": 0.0, \"tpr\": 0.0, \"n\": 549}, {\"threshold\": 0.703, \"p\": 342, \"fpr\": 0.0, \"tpr\": 0.0, \"n\": 549}, {\"threshold\": 0.704, \"p\": 342, \"fpr\": 0.0, \"tpr\": 0.0, \"n\": 549}, {\"threshold\": 0.705, \"p\": 342, \"fpr\": 0.0, \"tpr\": 0.0, \"n\": 549}, {\"threshold\": 0.706, \"p\": 342, \"fpr\": 0.0, \"tpr\": 0.0, \"n\": 549}, {\"threshold\": 0.707, \"p\": 342, \"fpr\": 0.0, \"tpr\": 0.0, \"n\": 549}, {\"threshold\": 0.708, \"p\": 342, \"fpr\": 0.0, \"tpr\": 0.0, \"n\": 549}, {\"threshold\": 0.709, \"p\": 342, \"fpr\": 0.0, \"tpr\": 0.0, \"n\": 549}, {\"threshold\": 0.71, \"p\": 342, \"fpr\": 0.0, \"tpr\": 0.0, \"n\": 549}, {\"threshold\": 0.711, \"p\": 342, \"fpr\": 0.0, \"tpr\": 0.0, \"n\": 549}, {\"threshold\": 0.712, \"p\": 342, \"fpr\": 0.0, \"tpr\": 0.0, \"n\": 549}, {\"threshold\": 0.713, \"p\": 342, \"fpr\": 0.0, \"tpr\": 0.0, \"n\": 549}, {\"threshold\": 0.714, \"p\": 342, \"fpr\": 0.0, \"tpr\": 0.0, \"n\": 549}, {\"threshold\": 0.715, \"p\": 342, \"fpr\": 0.0, \"tpr\": 0.0, \"n\": 549}, {\"threshold\": 0.716, \"p\": 342, \"fpr\": 0.0, \"tpr\": 0.0, \"n\": 549}, {\"threshold\": 0.717, \"p\": 342, \"fpr\": 0.0, \"tpr\": 0.0, \"n\": 549}, {\"threshold\": 0.718, \"p\": 342, \"fpr\": 0.0, \"tpr\": 0.0, \"n\": 549}, {\"threshold\": 0.719, \"p\": 342, \"fpr\": 0.0, \"tpr\": 0.0, \"n\": 549}, {\"threshold\": 0.72, \"p\": 342, \"fpr\": 0.0, \"tpr\": 0.0, \"n\": 549}, {\"threshold\": 0.721, \"p\": 342, \"fpr\": 0.0, \"tpr\": 0.0, \"n\": 549}, {\"threshold\": 0.722, \"p\": 342, \"fpr\": 0.0, \"tpr\": 0.0, \"n\": 549}, {\"threshold\": 0.723, \"p\": 342, \"fpr\": 0.0, \"tpr\": 0.0, \"n\": 549}, {\"threshold\": 0.724, \"p\": 342, \"fpr\": 0.0, \"tpr\": 0.0, \"n\": 549}, {\"threshold\": 0.725, \"p\": 342, \"fpr\": 0.0, \"tpr\": 0.0, \"n\": 549}, {\"threshold\": 0.726, \"p\": 342, \"fpr\": 0.0, \"tpr\": 0.0, \"n\": 549}, {\"threshold\": 0.727, \"p\": 342, \"fpr\": 0.0, \"tpr\": 0.0, \"n\": 549}, {\"threshold\": 0.728, \"p\": 342, \"fpr\": 0.0, \"tpr\": 0.0, \"n\": 549}, {\"threshold\": 0.729, \"p\": 342, \"fpr\": 0.0, \"tpr\": 0.0, \"n\": 549}, {\"threshold\": 0.73, \"p\": 342, \"fpr\": 0.0, \"tpr\": 0.0, \"n\": 549}, {\"threshold\": 0.731, \"p\": 342, \"fpr\": 0.0, \"tpr\": 0.0, \"n\": 549}, {\"threshold\": 0.732, \"p\": 342, \"fpr\": 0.0, \"tpr\": 0.0, \"n\": 549}, {\"threshold\": 0.733, \"p\": 342, \"fpr\": 0.0, \"tpr\": 0.0, \"n\": 549}, {\"threshold\": 0.734, \"p\": 342, \"fpr\": 0.0, \"tpr\": 0.0, \"n\": 549}, {\"threshold\": 0.735, \"p\": 342, \"fpr\": 0.0, \"tpr\": 0.0, \"n\": 549}, {\"threshold\": 0.736, \"p\": 342, \"fpr\": 0.0, \"tpr\": 0.0, \"n\": 549}, {\"threshold\": 0.737, \"p\": 342, \"fpr\": 0.0, \"tpr\": 0.0, \"n\": 549}, {\"threshold\": 0.738, \"p\": 342, \"fpr\": 0.0, \"tpr\": 0.0, \"n\": 549}, {\"threshold\": 0.739, \"p\": 342, \"fpr\": 0.0, \"tpr\": 0.0, \"n\": 549}, {\"threshold\": 0.74, \"p\": 342, \"fpr\": 0.0, \"tpr\": 0.0, \"n\": 549}, {\"threshold\": 0.741, \"p\": 342, \"fpr\": 0.0, \"tpr\": 0.0, \"n\": 549}, {\"threshold\": 0.742, \"p\": 342, \"fpr\": 0.0, \"tpr\": 0.0, \"n\": 549}, {\"threshold\": 0.743, \"p\": 342, \"fpr\": 0.0, \"tpr\": 0.0, \"n\": 549}, {\"threshold\": 0.744, \"p\": 342, \"fpr\": 0.0, \"tpr\": 0.0, \"n\": 549}, {\"threshold\": 0.745, \"p\": 342, \"fpr\": 0.0, \"tpr\": 0.0, \"n\": 549}, {\"threshold\": 0.746, \"p\": 342, \"fpr\": 0.0, \"tpr\": 0.0, \"n\": 549}, {\"threshold\": 0.747, \"p\": 342, \"fpr\": 0.0, \"tpr\": 0.0, \"n\": 549}, {\"threshold\": 0.748, \"p\": 342, \"fpr\": 0.0, \"tpr\": 0.0, \"n\": 549}, {\"threshold\": 0.749, \"p\": 342, \"fpr\": 0.0, \"tpr\": 0.0, \"n\": 549}, {\"threshold\": 0.75, \"p\": 342, \"fpr\": 0.0, \"tpr\": 0.0, \"n\": 549}, {\"threshold\": 0.751, \"p\": 342, \"fpr\": 0.0, \"tpr\": 0.0, \"n\": 549}, {\"threshold\": 0.752, \"p\": 342, \"fpr\": 0.0, \"tpr\": 0.0, \"n\": 549}, {\"threshold\": 0.753, \"p\": 342, \"fpr\": 0.0, \"tpr\": 0.0, \"n\": 549}, {\"threshold\": 0.754, \"p\": 342, \"fpr\": 0.0, \"tpr\": 0.0, \"n\": 549}, {\"threshold\": 0.755, \"p\": 342, \"fpr\": 0.0, \"tpr\": 0.0, \"n\": 549}, {\"threshold\": 0.756, \"p\": 342, \"fpr\": 0.0, \"tpr\": 0.0, \"n\": 549}, {\"threshold\": 0.757, \"p\": 342, \"fpr\": 0.0, \"tpr\": 0.0, \"n\": 549}, {\"threshold\": 0.758, \"p\": 342, \"fpr\": 0.0, \"tpr\": 0.0, \"n\": 549}, {\"threshold\": 0.759, \"p\": 342, \"fpr\": 0.0, \"tpr\": 0.0, \"n\": 549}, {\"threshold\": 0.76, \"p\": 342, \"fpr\": 0.0, \"tpr\": 0.0, \"n\": 549}, {\"threshold\": 0.761, \"p\": 342, \"fpr\": 0.0, \"tpr\": 0.0, \"n\": 549}, {\"threshold\": 0.762, \"p\": 342, \"fpr\": 0.0, \"tpr\": 0.0, \"n\": 549}, {\"threshold\": 0.763, \"p\": 342, \"fpr\": 0.0, \"tpr\": 0.0, \"n\": 549}, {\"threshold\": 0.764, \"p\": 342, \"fpr\": 0.0, \"tpr\": 0.0, \"n\": 549}, {\"threshold\": 0.765, \"p\": 342, \"fpr\": 0.0, \"tpr\": 0.0, \"n\": 549}, {\"threshold\": 0.766, \"p\": 342, \"fpr\": 0.0, \"tpr\": 0.0, \"n\": 549}, {\"threshold\": 0.767, \"p\": 342, \"fpr\": 0.0, \"tpr\": 0.0, \"n\": 549}, {\"threshold\": 0.768, \"p\": 342, \"fpr\": 0.0, \"tpr\": 0.0, \"n\": 549}, {\"threshold\": 0.769, \"p\": 342, \"fpr\": 0.0, \"tpr\": 0.0, \"n\": 549}, {\"threshold\": 0.77, \"p\": 342, \"fpr\": 0.0, \"tpr\": 0.0, \"n\": 549}, {\"threshold\": 0.771, \"p\": 342, \"fpr\": 0.0, \"tpr\": 0.0, \"n\": 549}, {\"threshold\": 0.772, \"p\": 342, \"fpr\": 0.0, \"tpr\": 0.0, \"n\": 549}, {\"threshold\": 0.773, \"p\": 342, \"fpr\": 0.0, \"tpr\": 0.0, \"n\": 549}, {\"threshold\": 0.774, \"p\": 342, \"fpr\": 0.0, \"tpr\": 0.0, \"n\": 549}, {\"threshold\": 0.775, \"p\": 342, \"fpr\": 0.0, \"tpr\": 0.0, \"n\": 549}, {\"threshold\": 0.776, \"p\": 342, \"fpr\": 0.0, \"tpr\": 0.0, \"n\": 549}, {\"threshold\": 0.777, \"p\": 342, \"fpr\": 0.0, \"tpr\": 0.0, \"n\": 549}, {\"threshold\": 0.778, \"p\": 342, \"fpr\": 0.0, \"tpr\": 0.0, \"n\": 549}, {\"threshold\": 0.779, \"p\": 342, \"fpr\": 0.0, \"tpr\": 0.0, \"n\": 549}, {\"threshold\": 0.78, \"p\": 342, \"fpr\": 0.0, \"tpr\": 0.0, \"n\": 549}, {\"threshold\": 0.781, \"p\": 342, \"fpr\": 0.0, \"tpr\": 0.0, \"n\": 549}, {\"threshold\": 0.782, \"p\": 342, \"fpr\": 0.0, \"tpr\": 0.0, \"n\": 549}, {\"threshold\": 0.783, \"p\": 342, \"fpr\": 0.0, \"tpr\": 0.0, \"n\": 549}, {\"threshold\": 0.784, \"p\": 342, \"fpr\": 0.0, \"tpr\": 0.0, \"n\": 549}, {\"threshold\": 0.785, \"p\": 342, \"fpr\": 0.0, \"tpr\": 0.0, \"n\": 549}, {\"threshold\": 0.786, \"p\": 342, \"fpr\": 0.0, \"tpr\": 0.0, \"n\": 549}, {\"threshold\": 0.787, \"p\": 342, \"fpr\": 0.0, \"tpr\": 0.0, \"n\": 549}, {\"threshold\": 0.788, \"p\": 342, \"fpr\": 0.0, \"tpr\": 0.0, \"n\": 549}, {\"threshold\": 0.789, \"p\": 342, \"fpr\": 0.0, \"tpr\": 0.0, \"n\": 549}, {\"threshold\": 0.79, \"p\": 342, \"fpr\": 0.0, \"tpr\": 0.0, \"n\": 549}, {\"threshold\": 0.791, \"p\": 342, \"fpr\": 0.0, \"tpr\": 0.0, \"n\": 549}, {\"threshold\": 0.792, \"p\": 342, \"fpr\": 0.0, \"tpr\": 0.0, \"n\": 549}, {\"threshold\": 0.793, \"p\": 342, \"fpr\": 0.0, \"tpr\": 0.0, \"n\": 549}, {\"threshold\": 0.794, \"p\": 342, \"fpr\": 0.0, \"tpr\": 0.0, \"n\": 549}, {\"threshold\": 0.795, \"p\": 342, \"fpr\": 0.0, \"tpr\": 0.0, \"n\": 549}, {\"threshold\": 0.796, \"p\": 342, \"fpr\": 0.0, \"tpr\": 0.0, \"n\": 549}, {\"threshold\": 0.797, \"p\": 342, \"fpr\": 0.0, \"tpr\": 0.0, \"n\": 549}, {\"threshold\": 0.798, \"p\": 342, \"fpr\": 0.0, \"tpr\": 0.0, \"n\": 549}, {\"threshold\": 0.799, \"p\": 342, \"fpr\": 0.0, \"tpr\": 0.0, \"n\": 549}, {\"threshold\": 0.8, \"p\": 342, \"fpr\": 0.0, \"tpr\": 0.0, \"n\": 549}, {\"threshold\": 0.801, \"p\": 342, \"fpr\": 0.0, \"tpr\": 0.0, \"n\": 549}, {\"threshold\": 0.802, \"p\": 342, \"fpr\": 0.0, \"tpr\": 0.0, \"n\": 549}, {\"threshold\": 0.803, \"p\": 342, \"fpr\": 0.0, \"tpr\": 0.0, \"n\": 549}, {\"threshold\": 0.804, \"p\": 342, \"fpr\": 0.0, \"tpr\": 0.0, \"n\": 549}, {\"threshold\": 0.805, \"p\": 342, \"fpr\": 0.0, \"tpr\": 0.0, \"n\": 549}, {\"threshold\": 0.806, \"p\": 342, \"fpr\": 0.0, \"tpr\": 0.0, \"n\": 549}, {\"threshold\": 0.807, \"p\": 342, \"fpr\": 0.0, \"tpr\": 0.0, \"n\": 549}, {\"threshold\": 0.808, \"p\": 342, \"fpr\": 0.0, \"tpr\": 0.0, \"n\": 549}, {\"threshold\": 0.809, \"p\": 342, \"fpr\": 0.0, \"tpr\": 0.0, \"n\": 549}, {\"threshold\": 0.81, \"p\": 342, \"fpr\": 0.0, \"tpr\": 0.0, \"n\": 549}, {\"threshold\": 0.811, \"p\": 342, \"fpr\": 0.0, \"tpr\": 0.0, \"n\": 549}, {\"threshold\": 0.812, \"p\": 342, \"fpr\": 0.0, \"tpr\": 0.0, \"n\": 549}, {\"threshold\": 0.813, \"p\": 342, \"fpr\": 0.0, \"tpr\": 0.0, \"n\": 549}, {\"threshold\": 0.814, \"p\": 342, \"fpr\": 0.0, \"tpr\": 0.0, \"n\": 549}, {\"threshold\": 0.815, \"p\": 342, \"fpr\": 0.0, \"tpr\": 0.0, \"n\": 549}, {\"threshold\": 0.816, \"p\": 342, \"fpr\": 0.0, \"tpr\": 0.0, \"n\": 549}, {\"threshold\": 0.817, \"p\": 342, \"fpr\": 0.0, \"tpr\": 0.0, \"n\": 549}, {\"threshold\": 0.818, \"p\": 342, \"fpr\": 0.0, \"tpr\": 0.0, \"n\": 549}, {\"threshold\": 0.819, \"p\": 342, \"fpr\": 0.0, \"tpr\": 0.0, \"n\": 549}, {\"threshold\": 0.82, \"p\": 342, \"fpr\": 0.0, \"tpr\": 0.0, \"n\": 549}, {\"threshold\": 0.821, \"p\": 342, \"fpr\": 0.0, \"tpr\": 0.0, \"n\": 549}, {\"threshold\": 0.822, \"p\": 342, \"fpr\": 0.0, \"tpr\": 0.0, \"n\": 549}, {\"threshold\": 0.823, \"p\": 342, \"fpr\": 0.0, \"tpr\": 0.0, \"n\": 549}, {\"threshold\": 0.824, \"p\": 342, \"fpr\": 0.0, \"tpr\": 0.0, \"n\": 549}, {\"threshold\": 0.825, \"p\": 342, \"fpr\": 0.0, \"tpr\": 0.0, \"n\": 549}, {\"threshold\": 0.826, \"p\": 342, \"fpr\": 0.0, \"tpr\": 0.0, \"n\": 549}, {\"threshold\": 0.827, \"p\": 342, \"fpr\": 0.0, \"tpr\": 0.0, \"n\": 549}, {\"threshold\": 0.828, \"p\": 342, \"fpr\": 0.0, \"tpr\": 0.0, \"n\": 549}, {\"threshold\": 0.829, \"p\": 342, \"fpr\": 0.0, \"tpr\": 0.0, \"n\": 549}, {\"threshold\": 0.83, \"p\": 342, \"fpr\": 0.0, \"tpr\": 0.0, \"n\": 549}, {\"threshold\": 0.831, \"p\": 342, \"fpr\": 0.0, \"tpr\": 0.0, \"n\": 549}, {\"threshold\": 0.832, \"p\": 342, \"fpr\": 0.0, \"tpr\": 0.0, \"n\": 549}, {\"threshold\": 0.833, \"p\": 342, \"fpr\": 0.0, \"tpr\": 0.0, \"n\": 549}, {\"threshold\": 0.834, \"p\": 342, \"fpr\": 0.0, \"tpr\": 0.0, \"n\": 549}, {\"threshold\": 0.835, \"p\": 342, \"fpr\": 0.0, \"tpr\": 0.0, \"n\": 549}, {\"threshold\": 0.836, \"p\": 342, \"fpr\": 0.0, \"tpr\": 0.0, \"n\": 549}, {\"threshold\": 0.837, \"p\": 342, \"fpr\": 0.0, \"tpr\": 0.0, \"n\": 549}, {\"threshold\": 0.838, \"p\": 342, \"fpr\": 0.0, \"tpr\": 0.0, \"n\": 549}, {\"threshold\": 0.839, \"p\": 342, \"fpr\": 0.0, \"tpr\": 0.0, \"n\": 549}, {\"threshold\": 0.84, \"p\": 342, \"fpr\": 0.0, \"tpr\": 0.0, \"n\": 549}, {\"threshold\": 0.841, \"p\": 342, \"fpr\": 0.0, \"tpr\": 0.0, \"n\": 549}, {\"threshold\": 0.842, \"p\": 342, \"fpr\": 0.0, \"tpr\": 0.0, \"n\": 549}, {\"threshold\": 0.843, \"p\": 342, \"fpr\": 0.0, \"tpr\": 0.0, \"n\": 549}, {\"threshold\": 0.844, \"p\": 342, \"fpr\": 0.0, \"tpr\": 0.0, \"n\": 549}, {\"threshold\": 0.845, \"p\": 342, \"fpr\": 0.0, \"tpr\": 0.0, \"n\": 549}, {\"threshold\": 0.846, \"p\": 342, \"fpr\": 0.0, \"tpr\": 0.0, \"n\": 549}, {\"threshold\": 0.847, \"p\": 342, \"fpr\": 0.0, \"tpr\": 0.0, \"n\": 549}, {\"threshold\": 0.848, \"p\": 342, \"fpr\": 0.0, \"tpr\": 0.0, \"n\": 549}, {\"threshold\": 0.849, \"p\": 342, \"fpr\": 0.0, \"tpr\": 0.0, \"n\": 549}, {\"threshold\": 0.85, \"p\": 342, \"fpr\": 0.0, \"tpr\": 0.0, \"n\": 549}, {\"threshold\": 0.851, \"p\": 342, \"fpr\": 0.0, \"tpr\": 0.0, \"n\": 549}, {\"threshold\": 0.852, \"p\": 342, \"fpr\": 0.0, \"tpr\": 0.0, \"n\": 549}, {\"threshold\": 0.853, \"p\": 342, \"fpr\": 0.0, \"tpr\": 0.0, \"n\": 549}, {\"threshold\": 0.854, \"p\": 342, \"fpr\": 0.0, \"tpr\": 0.0, \"n\": 549}, {\"threshold\": 0.855, \"p\": 342, \"fpr\": 0.0, \"tpr\": 0.0, \"n\": 549}, {\"threshold\": 0.856, \"p\": 342, \"fpr\": 0.0, \"tpr\": 0.0, \"n\": 549}, {\"threshold\": 0.857, \"p\": 342, \"fpr\": 0.0, \"tpr\": 0.0, \"n\": 549}, {\"threshold\": 0.858, \"p\": 342, \"fpr\": 0.0, \"tpr\": 0.0, \"n\": 549}, {\"threshold\": 0.859, \"p\": 342, \"fpr\": 0.0, \"tpr\": 0.0, \"n\": 549}, {\"threshold\": 0.86, \"p\": 342, \"fpr\": 0.0, \"tpr\": 0.0, \"n\": 549}, {\"threshold\": 0.861, \"p\": 342, \"fpr\": 0.0, \"tpr\": 0.0, \"n\": 549}, {\"threshold\": 0.862, \"p\": 342, \"fpr\": 0.0, \"tpr\": 0.0, \"n\": 549}, {\"threshold\": 0.863, \"p\": 342, \"fpr\": 0.0, \"tpr\": 0.0, \"n\": 549}, {\"threshold\": 0.864, \"p\": 342, \"fpr\": 0.0, \"tpr\": 0.0, \"n\": 549}, {\"threshold\": 0.865, \"p\": 342, \"fpr\": 0.0, \"tpr\": 0.0, \"n\": 549}, {\"threshold\": 0.866, \"p\": 342, \"fpr\": 0.0, \"tpr\": 0.0, \"n\": 549}, {\"threshold\": 0.867, \"p\": 342, \"fpr\": 0.0, \"tpr\": 0.0, \"n\": 549}, {\"threshold\": 0.868, \"p\": 342, \"fpr\": 0.0, \"tpr\": 0.0, \"n\": 549}, {\"threshold\": 0.869, \"p\": 342, \"fpr\": 0.0, \"tpr\": 0.0, \"n\": 549}, {\"threshold\": 0.87, \"p\": 342, \"fpr\": 0.0, \"tpr\": 0.0, \"n\": 549}, {\"threshold\": 0.871, \"p\": 342, \"fpr\": 0.0, \"tpr\": 0.0, \"n\": 549}, {\"threshold\": 0.872, \"p\": 342, \"fpr\": 0.0, \"tpr\": 0.0, \"n\": 549}, {\"threshold\": 0.873, \"p\": 342, \"fpr\": 0.0, \"tpr\": 0.0, \"n\": 549}, {\"threshold\": 0.874, \"p\": 342, \"fpr\": 0.0, \"tpr\": 0.0, \"n\": 549}, {\"threshold\": 0.875, \"p\": 342, \"fpr\": 0.0, \"tpr\": 0.0, \"n\": 549}, {\"threshold\": 0.876, \"p\": 342, \"fpr\": 0.0, \"tpr\": 0.0, \"n\": 549}, {\"threshold\": 0.877, \"p\": 342, \"fpr\": 0.0, \"tpr\": 0.0, \"n\": 549}, {\"threshold\": 0.878, \"p\": 342, \"fpr\": 0.0, \"tpr\": 0.0, \"n\": 549}, {\"threshold\": 0.879, \"p\": 342, \"fpr\": 0.0, \"tpr\": 0.0, \"n\": 549}, {\"threshold\": 0.88, \"p\": 342, \"fpr\": 0.0, \"tpr\": 0.0, \"n\": 549}, {\"threshold\": 0.881, \"p\": 342, \"fpr\": 0.0, \"tpr\": 0.0, \"n\": 549}, {\"threshold\": 0.882, \"p\": 342, \"fpr\": 0.0, \"tpr\": 0.0, \"n\": 549}, {\"threshold\": 0.883, \"p\": 342, \"fpr\": 0.0, \"tpr\": 0.0, \"n\": 549}, {\"threshold\": 0.884, \"p\": 342, \"fpr\": 0.0, \"tpr\": 0.0, \"n\": 549}, {\"threshold\": 0.885, \"p\": 342, \"fpr\": 0.0, \"tpr\": 0.0, \"n\": 549}, {\"threshold\": 0.886, \"p\": 342, \"fpr\": 0.0, \"tpr\": 0.0, \"n\": 549}, {\"threshold\": 0.887, \"p\": 342, \"fpr\": 0.0, \"tpr\": 0.0, \"n\": 549}, {\"threshold\": 0.888, \"p\": 342, \"fpr\": 0.0, \"tpr\": 0.0, \"n\": 549}, {\"threshold\": 0.889, \"p\": 342, \"fpr\": 0.0, \"tpr\": 0.0, \"n\": 549}, {\"threshold\": 0.89, \"p\": 342, \"fpr\": 0.0, \"tpr\": 0.0, \"n\": 549}, {\"threshold\": 0.891, \"p\": 342, \"fpr\": 0.0, \"tpr\": 0.0, \"n\": 549}, {\"threshold\": 0.892, \"p\": 342, \"fpr\": 0.0, \"tpr\": 0.0, \"n\": 549}, {\"threshold\": 0.893, \"p\": 342, \"fpr\": 0.0, \"tpr\": 0.0, \"n\": 549}, {\"threshold\": 0.894, \"p\": 342, \"fpr\": 0.0, \"tpr\": 0.0, \"n\": 549}, {\"threshold\": 0.895, \"p\": 342, \"fpr\": 0.0, \"tpr\": 0.0, \"n\": 549}, {\"threshold\": 0.896, \"p\": 342, \"fpr\": 0.0, \"tpr\": 0.0, \"n\": 549}, {\"threshold\": 0.897, \"p\": 342, \"fpr\": 0.0, \"tpr\": 0.0, \"n\": 549}, {\"threshold\": 0.898, \"p\": 342, \"fpr\": 0.0, \"tpr\": 0.0, \"n\": 549}, {\"threshold\": 0.899, \"p\": 342, \"fpr\": 0.0, \"tpr\": 0.0, \"n\": 549}, {\"threshold\": 0.9, \"p\": 342, \"fpr\": 0.0, \"tpr\": 0.0, \"n\": 549}, {\"threshold\": 0.901, \"p\": 342, \"fpr\": 0.0, \"tpr\": 0.0, \"n\": 549}, {\"threshold\": 0.902, \"p\": 342, \"fpr\": 0.0, \"tpr\": 0.0, \"n\": 549}, {\"threshold\": 0.903, \"p\": 342, \"fpr\": 0.0, \"tpr\": 0.0, \"n\": 549}, {\"threshold\": 0.904, \"p\": 342, \"fpr\": 0.0, \"tpr\": 0.0, \"n\": 549}, {\"threshold\": 0.905, \"p\": 342, \"fpr\": 0.0, \"tpr\": 0.0, \"n\": 549}, {\"threshold\": 0.906, \"p\": 342, \"fpr\": 0.0, \"tpr\": 0.0, \"n\": 549}, {\"threshold\": 0.907, \"p\": 342, \"fpr\": 0.0, \"tpr\": 0.0, \"n\": 549}, {\"threshold\": 0.908, \"p\": 342, \"fpr\": 0.0, \"tpr\": 0.0, \"n\": 549}, {\"threshold\": 0.909, \"p\": 342, \"fpr\": 0.0, \"tpr\": 0.0, \"n\": 549}, {\"threshold\": 0.91, \"p\": 342, \"fpr\": 0.0, \"tpr\": 0.0, \"n\": 549}, {\"threshold\": 0.911, \"p\": 342, \"fpr\": 0.0, \"tpr\": 0.0, \"n\": 549}, {\"threshold\": 0.912, \"p\": 342, \"fpr\": 0.0, \"tpr\": 0.0, \"n\": 549}, {\"threshold\": 0.913, \"p\": 342, \"fpr\": 0.0, \"tpr\": 0.0, \"n\": 549}, {\"threshold\": 0.914, \"p\": 342, \"fpr\": 0.0, \"tpr\": 0.0, \"n\": 549}, {\"threshold\": 0.915, \"p\": 342, \"fpr\": 0.0, \"tpr\": 0.0, \"n\": 549}, {\"threshold\": 0.916, \"p\": 342, \"fpr\": 0.0, \"tpr\": 0.0, \"n\": 549}, {\"threshold\": 0.917, \"p\": 342, \"fpr\": 0.0, \"tpr\": 0.0, \"n\": 549}, {\"threshold\": 0.918, \"p\": 342, \"fpr\": 0.0, \"tpr\": 0.0, \"n\": 549}, {\"threshold\": 0.919, \"p\": 342, \"fpr\": 0.0, \"tpr\": 0.0, \"n\": 549}, {\"threshold\": 0.92, \"p\": 342, \"fpr\": 0.0, \"tpr\": 0.0, \"n\": 549}, {\"threshold\": 0.921, \"p\": 342, \"fpr\": 0.0, \"tpr\": 0.0, \"n\": 549}, {\"threshold\": 0.922, \"p\": 342, \"fpr\": 0.0, \"tpr\": 0.0, \"n\": 549}, {\"threshold\": 0.923, \"p\": 342, \"fpr\": 0.0, \"tpr\": 0.0, \"n\": 549}, {\"threshold\": 0.924, \"p\": 342, \"fpr\": 0.0, \"tpr\": 0.0, \"n\": 549}, {\"threshold\": 0.925, \"p\": 342, \"fpr\": 0.0, \"tpr\": 0.0, \"n\": 549}, {\"threshold\": 0.926, \"p\": 342, \"fpr\": 0.0, \"tpr\": 0.0, \"n\": 549}, {\"threshold\": 0.927, \"p\": 342, \"fpr\": 0.0, \"tpr\": 0.0, \"n\": 549}, {\"threshold\": 0.928, \"p\": 342, \"fpr\": 0.0, \"tpr\": 0.0, \"n\": 549}, {\"threshold\": 0.929, \"p\": 342, \"fpr\": 0.0, \"tpr\": 0.0, \"n\": 549}, {\"threshold\": 0.93, \"p\": 342, \"fpr\": 0.0, \"tpr\": 0.0, \"n\": 549}, {\"threshold\": 0.931, \"p\": 342, \"fpr\": 0.0, \"tpr\": 0.0, \"n\": 549}, {\"threshold\": 0.932, \"p\": 342, \"fpr\": 0.0, \"tpr\": 0.0, \"n\": 549}, {\"threshold\": 0.933, \"p\": 342, \"fpr\": 0.0, \"tpr\": 0.0, \"n\": 549}, {\"threshold\": 0.934, \"p\": 342, \"fpr\": 0.0, \"tpr\": 0.0, \"n\": 549}, {\"threshold\": 0.935, \"p\": 342, \"fpr\": 0.0, \"tpr\": 0.0, \"n\": 549}, {\"threshold\": 0.936, \"p\": 342, \"fpr\": 0.0, \"tpr\": 0.0, \"n\": 549}, {\"threshold\": 0.937, \"p\": 342, \"fpr\": 0.0, \"tpr\": 0.0, \"n\": 549}, {\"threshold\": 0.938, \"p\": 342, \"fpr\": 0.0, \"tpr\": 0.0, \"n\": 549}, {\"threshold\": 0.939, \"p\": 342, \"fpr\": 0.0, \"tpr\": 0.0, \"n\": 549}, {\"threshold\": 0.94, \"p\": 342, \"fpr\": 0.0, \"tpr\": 0.0, \"n\": 549}, {\"threshold\": 0.941, \"p\": 342, \"fpr\": 0.0, \"tpr\": 0.0, \"n\": 549}, {\"threshold\": 0.942, \"p\": 342, \"fpr\": 0.0, \"tpr\": 0.0, \"n\": 549}, {\"threshold\": 0.943, \"p\": 342, \"fpr\": 0.0, \"tpr\": 0.0, \"n\": 549}, {\"threshold\": 0.944, \"p\": 342, \"fpr\": 0.0, \"tpr\": 0.0, \"n\": 549}, {\"threshold\": 0.945, \"p\": 342, \"fpr\": 0.0, \"tpr\": 0.0, \"n\": 549}, {\"threshold\": 0.946, \"p\": 342, \"fpr\": 0.0, \"tpr\": 0.0, \"n\": 549}, {\"threshold\": 0.947, \"p\": 342, \"fpr\": 0.0, \"tpr\": 0.0, \"n\": 549}, {\"threshold\": 0.948, \"p\": 342, \"fpr\": 0.0, \"tpr\": 0.0, \"n\": 549}, {\"threshold\": 0.949, \"p\": 342, \"fpr\": 0.0, \"tpr\": 0.0, \"n\": 549}, {\"threshold\": 0.95, \"p\": 342, \"fpr\": 0.0, \"tpr\": 0.0, \"n\": 549}, {\"threshold\": 0.951, \"p\": 342, \"fpr\": 0.0, \"tpr\": 0.0, \"n\": 549}, {\"threshold\": 0.952, \"p\": 342, \"fpr\": 0.0, \"tpr\": 0.0, \"n\": 549}, {\"threshold\": 0.953, \"p\": 342, \"fpr\": 0.0, \"tpr\": 0.0, \"n\": 549}, {\"threshold\": 0.954, \"p\": 342, \"fpr\": 0.0, \"tpr\": 0.0, \"n\": 549}, {\"threshold\": 0.955, \"p\": 342, \"fpr\": 0.0, \"tpr\": 0.0, \"n\": 549}, {\"threshold\": 0.956, \"p\": 342, \"fpr\": 0.0, \"tpr\": 0.0, \"n\": 549}, {\"threshold\": 0.957, \"p\": 342, \"fpr\": 0.0, \"tpr\": 0.0, \"n\": 549}, {\"threshold\": 0.958, \"p\": 342, \"fpr\": 0.0, \"tpr\": 0.0, \"n\": 549}, {\"threshold\": 0.959, \"p\": 342, \"fpr\": 0.0, \"tpr\": 0.0, \"n\": 549}, {\"threshold\": 0.96, \"p\": 342, \"fpr\": 0.0, \"tpr\": 0.0, \"n\": 549}, {\"threshold\": 0.961, \"p\": 342, \"fpr\": 0.0, \"tpr\": 0.0, \"n\": 549}, {\"threshold\": 0.962, \"p\": 342, \"fpr\": 0.0, \"tpr\": 0.0, \"n\": 549}, {\"threshold\": 0.963, \"p\": 342, \"fpr\": 0.0, \"tpr\": 0.0, \"n\": 549}, {\"threshold\": 0.964, \"p\": 342, \"fpr\": 0.0, \"tpr\": 0.0, \"n\": 549}, {\"threshold\": 0.965, \"p\": 342, \"fpr\": 0.0, \"tpr\": 0.0, \"n\": 549}, {\"threshold\": 0.966, \"p\": 342, \"fpr\": 0.0, \"tpr\": 0.0, \"n\": 549}, {\"threshold\": 0.967, \"p\": 342, \"fpr\": 0.0, \"tpr\": 0.0, \"n\": 549}, {\"threshold\": 0.968, \"p\": 342, \"fpr\": 0.0, \"tpr\": 0.0, \"n\": 549}, {\"threshold\": 0.969, \"p\": 342, \"fpr\": 0.0, \"tpr\": 0.0, \"n\": 549}, {\"threshold\": 0.97, \"p\": 342, \"fpr\": 0.0, \"tpr\": 0.0, \"n\": 549}, {\"threshold\": 0.971, \"p\": 342, \"fpr\": 0.0, \"tpr\": 0.0, \"n\": 549}, {\"threshold\": 0.972, \"p\": 342, \"fpr\": 0.0, \"tpr\": 0.0, \"n\": 549}, {\"threshold\": 0.973, \"p\": 342, \"fpr\": 0.0, \"tpr\": 0.0, \"n\": 549}, {\"threshold\": 0.974, \"p\": 342, \"fpr\": 0.0, \"tpr\": 0.0, \"n\": 549}, {\"threshold\": 0.975, \"p\": 342, \"fpr\": 0.0, \"tpr\": 0.0, \"n\": 549}, {\"threshold\": 0.976, \"p\": 342, \"fpr\": 0.0, \"tpr\": 0.0, \"n\": 549}, {\"threshold\": 0.977, \"p\": 342, \"fpr\": 0.0, \"tpr\": 0.0, \"n\": 549}, {\"threshold\": 0.978, \"p\": 342, \"fpr\": 0.0, \"tpr\": 0.0, \"n\": 549}, {\"threshold\": 0.979, \"p\": 342, \"fpr\": 0.0, \"tpr\": 0.0, \"n\": 549}, {\"threshold\": 0.98, \"p\": 342, \"fpr\": 0.0, \"tpr\": 0.0, \"n\": 549}, {\"threshold\": 0.981, \"p\": 342, \"fpr\": 0.0, \"tpr\": 0.0, \"n\": 549}, {\"threshold\": 0.982, \"p\": 342, \"fpr\": 0.0, \"tpr\": 0.0, \"n\": 549}, {\"threshold\": 0.983, \"p\": 342, \"fpr\": 0.0, \"tpr\": 0.0, \"n\": 549}, {\"threshold\": 0.984, \"p\": 342, \"fpr\": 0.0, \"tpr\": 0.0, \"n\": 549}, {\"threshold\": 0.985, \"p\": 342, \"fpr\": 0.0, \"tpr\": 0.0, \"n\": 549}, {\"threshold\": 0.986, \"p\": 342, \"fpr\": 0.0, \"tpr\": 0.0, \"n\": 549}, {\"threshold\": 0.987, \"p\": 342, \"fpr\": 0.0, \"tpr\": 0.0, \"n\": 549}, {\"threshold\": 0.988, \"p\": 342, \"fpr\": 0.0, \"tpr\": 0.0, \"n\": 549}, {\"threshold\": 0.989, \"p\": 342, \"fpr\": 0.0, \"tpr\": 0.0, \"n\": 549}, {\"threshold\": 0.99, \"p\": 342, \"fpr\": 0.0, \"tpr\": 0.0, \"n\": 549}, {\"threshold\": 0.991, \"p\": 342, \"fpr\": 0.0, \"tpr\": 0.0, \"n\": 549}, {\"threshold\": 0.992, \"p\": 342, \"fpr\": 0.0, \"tpr\": 0.0, \"n\": 549}, {\"threshold\": 0.993, \"p\": 342, \"fpr\": 0.0, \"tpr\": 0.0, \"n\": 549}, {\"threshold\": 0.994, \"p\": 342, \"fpr\": 0.0, \"tpr\": 0.0, \"n\": 549}, {\"threshold\": 0.995, \"p\": 342, \"fpr\": 0.0, \"tpr\": 0.0, \"n\": 549}, {\"threshold\": 0.996, \"p\": 342, \"fpr\": 0.0, \"tpr\": 0.0, \"n\": 549}, {\"threshold\": 0.997, \"p\": 342, \"fpr\": 0.0, \"tpr\": 0.0, \"n\": 549}, {\"threshold\": 0.998, \"p\": 342, \"fpr\": 0.0, \"tpr\": 0.0, \"n\": 549}, {\"threshold\": 0.999, \"p\": 342, \"fpr\": 0.0, \"tpr\": 0.0, \"n\": 549}, {\"threshold\": 1.0, \"p\": 342, \"fpr\": 0.0, \"tpr\": 0.0, \"n\": 549}]}]], \"type\": \"Model\"}, \"ipython\": true, \"view_params\": {\"model_type\": \"regression\", \"view\": \"Evaluation\"}, \"model_type\": \"regression\", \"attributes\": {\"section_titles\": [\"Schema\", \"Settings\"], \"sections\": [[[\"Number of examples\", 848], [\"Number of feature columns\", 6], [\"Number of unpacked features\", 6], [\"Number of classes\", 2]], [[\"Number of trees\", 1], [\"Max tree depth\", 6], [\"Training time (sec)\", 0.003], [\"Training accuracy\", 0.8656], [\"Validation accuracy\", 0.8372], [\"Training log_loss\", 0.5535], [\"Validation log_loss\", 0.5705]]]}, \"evaluations\": [[\"train\", {\"roc_curve\": [{\"threshold\": 0.0, \"p\": 342, \"fpr\": 1.0, \"tpr\": 1.0, \"n\": 549}, {\"threshold\": 0.001, \"p\": 342, \"fpr\": 1.0, \"tpr\": 1.0, \"n\": 549}, {\"threshold\": 0.002, \"p\": 342, \"fpr\": 1.0, \"tpr\": 1.0, \"n\": 549}, {\"threshold\": 0.003, \"p\": 342, \"fpr\": 1.0, \"tpr\": 1.0, \"n\": 549}, {\"threshold\": 0.004, \"p\": 342, \"fpr\": 1.0, \"tpr\": 1.0, \"n\": 549}, {\"threshold\": 0.005, \"p\": 342, \"fpr\": 1.0, \"tpr\": 1.0, \"n\": 549}, {\"threshold\": 0.006, \"p\": 342, \"fpr\": 1.0, \"tpr\": 1.0, \"n\": 549}, {\"threshold\": 0.007, \"p\": 342, \"fpr\": 1.0, \"tpr\": 1.0, \"n\": 549}, {\"threshold\": 0.008, \"p\": 342, \"fpr\": 1.0, \"tpr\": 1.0, \"n\": 549}, {\"threshold\": 0.009, \"p\": 342, \"fpr\": 1.0, \"tpr\": 1.0, \"n\": 549}, {\"threshold\": 0.01, \"p\": 342, \"fpr\": 1.0, \"tpr\": 1.0, \"n\": 549}, {\"threshold\": 0.011, \"p\": 342, \"fpr\": 1.0, \"tpr\": 1.0, \"n\": 549}, {\"threshold\": 0.012, \"p\": 342, \"fpr\": 1.0, \"tpr\": 1.0, \"n\": 549}, {\"threshold\": 0.013, \"p\": 342, \"fpr\": 1.0, \"tpr\": 1.0, \"n\": 549}, {\"threshold\": 0.014, \"p\": 342, \"fpr\": 1.0, \"tpr\": 1.0, \"n\": 549}, {\"threshold\": 0.015, \"p\": 342, \"fpr\": 1.0, \"tpr\": 1.0, \"n\": 549}, {\"threshold\": 0.016, \"p\": 342, \"fpr\": 1.0, \"tpr\": 1.0, \"n\": 549}, {\"threshold\": 0.017, \"p\": 342, \"fpr\": 1.0, \"tpr\": 1.0, \"n\": 549}, {\"threshold\": 0.018, \"p\": 342, \"fpr\": 1.0, \"tpr\": 1.0, \"n\": 549}, {\"threshold\": 0.019, \"p\": 342, \"fpr\": 1.0, \"tpr\": 1.0, \"n\": 549}, {\"threshold\": 0.02, \"p\": 342, \"fpr\": 1.0, \"tpr\": 1.0, \"n\": 549}, {\"threshold\": 0.021, \"p\": 342, \"fpr\": 1.0, \"tpr\": 1.0, \"n\": 549}, {\"threshold\": 0.022, \"p\": 342, \"fpr\": 1.0, \"tpr\": 1.0, \"n\": 549}, {\"threshold\": 0.023, \"p\": 342, \"fpr\": 1.0, \"tpr\": 1.0, \"n\": 549}, {\"threshold\": 0.024, \"p\": 342, \"fpr\": 1.0, \"tpr\": 1.0, \"n\": 549}, {\"threshold\": 0.025, \"p\": 342, \"fpr\": 1.0, \"tpr\": 1.0, \"n\": 549}, {\"threshold\": 0.026, \"p\": 342, \"fpr\": 1.0, \"tpr\": 1.0, \"n\": 549}, {\"threshold\": 0.027, \"p\": 342, \"fpr\": 1.0, \"tpr\": 1.0, \"n\": 549}, {\"threshold\": 0.028, \"p\": 342, \"fpr\": 1.0, \"tpr\": 1.0, \"n\": 549}, {\"threshold\": 0.029, \"p\": 342, \"fpr\": 1.0, \"tpr\": 1.0, \"n\": 549}, {\"threshold\": 0.03, \"p\": 342, \"fpr\": 1.0, \"tpr\": 1.0, \"n\": 549}, {\"threshold\": 0.031, \"p\": 342, \"fpr\": 1.0, \"tpr\": 1.0, \"n\": 549}, {\"threshold\": 0.032, \"p\": 342, \"fpr\": 1.0, \"tpr\": 1.0, \"n\": 549}, {\"threshold\": 0.033, \"p\": 342, \"fpr\": 1.0, \"tpr\": 1.0, \"n\": 549}, {\"threshold\": 0.034, \"p\": 342, \"fpr\": 1.0, \"tpr\": 1.0, \"n\": 549}, {\"threshold\": 0.035, \"p\": 342, \"fpr\": 1.0, \"tpr\": 1.0, \"n\": 549}, {\"threshold\": 0.036, \"p\": 342, \"fpr\": 1.0, \"tpr\": 1.0, \"n\": 549}, {\"threshold\": 0.037, \"p\": 342, \"fpr\": 1.0, \"tpr\": 1.0, \"n\": 549}, {\"threshold\": 0.038, \"p\": 342, \"fpr\": 1.0, \"tpr\": 1.0, \"n\": 549}, {\"threshold\": 0.039, \"p\": 342, \"fpr\": 1.0, \"tpr\": 1.0, \"n\": 549}, {\"threshold\": 0.04, \"p\": 342, \"fpr\": 1.0, \"tpr\": 1.0, \"n\": 549}, {\"threshold\": 0.041, \"p\": 342, \"fpr\": 1.0, \"tpr\": 1.0, \"n\": 549}, {\"threshold\": 0.042, \"p\": 342, \"fpr\": 1.0, \"tpr\": 1.0, \"n\": 549}, {\"threshold\": 0.043, \"p\": 342, \"fpr\": 1.0, \"tpr\": 1.0, \"n\": 549}, {\"threshold\": 0.044, \"p\": 342, \"fpr\": 1.0, \"tpr\": 1.0, \"n\": 549}, {\"threshold\": 0.045, \"p\": 342, \"fpr\": 1.0, \"tpr\": 1.0, \"n\": 549}, {\"threshold\": 0.046, \"p\": 342, \"fpr\": 1.0, \"tpr\": 1.0, \"n\": 549}, {\"threshold\": 0.047, \"p\": 342, \"fpr\": 1.0, \"tpr\": 1.0, \"n\": 549}, {\"threshold\": 0.048, \"p\": 342, \"fpr\": 1.0, \"tpr\": 1.0, \"n\": 549}, {\"threshold\": 0.049, \"p\": 342, \"fpr\": 1.0, \"tpr\": 1.0, \"n\": 549}, {\"threshold\": 0.05, \"p\": 342, \"fpr\": 1.0, \"tpr\": 1.0, \"n\": 549}, {\"threshold\": 0.051, \"p\": 342, \"fpr\": 1.0, \"tpr\": 1.0, \"n\": 549}, {\"threshold\": 0.052, \"p\": 342, \"fpr\": 1.0, \"tpr\": 1.0, \"n\": 549}, {\"threshold\": 0.053, \"p\": 342, \"fpr\": 1.0, \"tpr\": 1.0, \"n\": 549}, {\"threshold\": 0.054, \"p\": 342, \"fpr\": 1.0, \"tpr\": 1.0, \"n\": 549}, {\"threshold\": 0.055, \"p\": 342, \"fpr\": 1.0, \"tpr\": 1.0, \"n\": 549}, {\"threshold\": 0.056, \"p\": 342, \"fpr\": 1.0, \"tpr\": 1.0, \"n\": 549}, {\"threshold\": 0.057, \"p\": 342, \"fpr\": 1.0, \"tpr\": 1.0, \"n\": 549}, {\"threshold\": 0.058, \"p\": 342, \"fpr\": 1.0, \"tpr\": 1.0, \"n\": 549}, {\"threshold\": 0.059, \"p\": 342, \"fpr\": 1.0, \"tpr\": 1.0, \"n\": 549}, {\"threshold\": 0.06, \"p\": 342, \"fpr\": 1.0, \"tpr\": 1.0, \"n\": 549}, {\"threshold\": 0.061, \"p\": 342, \"fpr\": 1.0, \"tpr\": 1.0, \"n\": 549}, {\"threshold\": 0.062, \"p\": 342, \"fpr\": 1.0, \"tpr\": 1.0, \"n\": 549}, {\"threshold\": 0.063, \"p\": 342, \"fpr\": 1.0, \"tpr\": 1.0, \"n\": 549}, {\"threshold\": 0.064, \"p\": 342, \"fpr\": 1.0, \"tpr\": 1.0, \"n\": 549}, {\"threshold\": 0.065, \"p\": 342, \"fpr\": 1.0, \"tpr\": 1.0, \"n\": 549}, {\"threshold\": 0.066, \"p\": 342, \"fpr\": 1.0, \"tpr\": 1.0, \"n\": 549}, {\"threshold\": 0.067, \"p\": 342, \"fpr\": 1.0, \"tpr\": 1.0, \"n\": 549}, {\"threshold\": 0.068, \"p\": 342, \"fpr\": 1.0, \"tpr\": 1.0, \"n\": 549}, {\"threshold\": 0.069, \"p\": 342, \"fpr\": 1.0, \"tpr\": 1.0, \"n\": 549}, {\"threshold\": 0.07, \"p\": 342, \"fpr\": 1.0, \"tpr\": 1.0, \"n\": 549}, {\"threshold\": 0.071, \"p\": 342, \"fpr\": 1.0, \"tpr\": 1.0, \"n\": 549}, {\"threshold\": 0.072, \"p\": 342, \"fpr\": 1.0, \"tpr\": 1.0, \"n\": 549}, {\"threshold\": 0.073, \"p\": 342, \"fpr\": 1.0, \"tpr\": 1.0, \"n\": 549}, {\"threshold\": 0.074, \"p\": 342, \"fpr\": 1.0, \"tpr\": 1.0, \"n\": 549}, {\"threshold\": 0.075, \"p\": 342, \"fpr\": 1.0, \"tpr\": 1.0, \"n\": 549}, {\"threshold\": 0.076, \"p\": 342, \"fpr\": 1.0, \"tpr\": 1.0, \"n\": 549}, {\"threshold\": 0.077, \"p\": 342, \"fpr\": 1.0, \"tpr\": 1.0, \"n\": 549}, {\"threshold\": 0.078, \"p\": 342, \"fpr\": 1.0, \"tpr\": 1.0, \"n\": 549}, {\"threshold\": 0.079, \"p\": 342, \"fpr\": 1.0, \"tpr\": 1.0, \"n\": 549}, {\"threshold\": 0.08, \"p\": 342, \"fpr\": 1.0, \"tpr\": 1.0, \"n\": 549}, {\"threshold\": 0.081, \"p\": 342, \"fpr\": 1.0, \"tpr\": 1.0, \"n\": 549}, {\"threshold\": 0.082, \"p\": 342, \"fpr\": 1.0, \"tpr\": 1.0, \"n\": 549}, {\"threshold\": 0.083, \"p\": 342, \"fpr\": 1.0, \"tpr\": 1.0, \"n\": 549}, {\"threshold\": 0.084, \"p\": 342, \"fpr\": 1.0, \"tpr\": 1.0, \"n\": 549}, {\"threshold\": 0.085, \"p\": 342, \"fpr\": 1.0, \"tpr\": 1.0, \"n\": 549}, {\"threshold\": 0.086, \"p\": 342, \"fpr\": 1.0, \"tpr\": 1.0, \"n\": 549}, {\"threshold\": 0.087, \"p\": 342, \"fpr\": 1.0, \"tpr\": 1.0, \"n\": 549}, {\"threshold\": 0.088, \"p\": 342, \"fpr\": 1.0, \"tpr\": 1.0, \"n\": 549}, {\"threshold\": 0.089, \"p\": 342, \"fpr\": 1.0, \"tpr\": 1.0, \"n\": 549}, {\"threshold\": 0.09, \"p\": 342, \"fpr\": 1.0, \"tpr\": 1.0, \"n\": 549}, {\"threshold\": 0.091, \"p\": 342, \"fpr\": 1.0, \"tpr\": 1.0, \"n\": 549}, {\"threshold\": 0.092, \"p\": 342, \"fpr\": 1.0, \"tpr\": 1.0, \"n\": 549}, {\"threshold\": 0.093, \"p\": 342, \"fpr\": 1.0, \"tpr\": 1.0, \"n\": 549}, {\"threshold\": 0.094, \"p\": 342, \"fpr\": 1.0, \"tpr\": 1.0, \"n\": 549}, {\"threshold\": 0.095, \"p\": 342, \"fpr\": 1.0, \"tpr\": 1.0, \"n\": 549}, {\"threshold\": 0.096, \"p\": 342, \"fpr\": 1.0, \"tpr\": 1.0, \"n\": 549}, {\"threshold\": 0.097, \"p\": 342, \"fpr\": 1.0, \"tpr\": 1.0, \"n\": 549}, {\"threshold\": 0.098, \"p\": 342, \"fpr\": 1.0, \"tpr\": 1.0, \"n\": 549}, {\"threshold\": 0.099, \"p\": 342, \"fpr\": 1.0, \"tpr\": 1.0, \"n\": 549}, {\"threshold\": 0.1, \"p\": 342, \"fpr\": 1.0, \"tpr\": 1.0, \"n\": 549}, {\"threshold\": 0.101, \"p\": 342, \"fpr\": 1.0, \"tpr\": 1.0, \"n\": 549}, {\"threshold\": 0.102, \"p\": 342, \"fpr\": 1.0, \"tpr\": 1.0, \"n\": 549}, {\"threshold\": 0.103, \"p\": 342, \"fpr\": 1.0, \"tpr\": 1.0, \"n\": 549}, {\"threshold\": 0.104, \"p\": 342, \"fpr\": 1.0, \"tpr\": 1.0, \"n\": 549}, {\"threshold\": 0.105, \"p\": 342, \"fpr\": 1.0, \"tpr\": 1.0, \"n\": 549}, {\"threshold\": 0.106, \"p\": 342, \"fpr\": 1.0, \"tpr\": 1.0, \"n\": 549}, {\"threshold\": 0.107, \"p\": 342, \"fpr\": 1.0, \"tpr\": 1.0, \"n\": 549}, {\"threshold\": 0.108, \"p\": 342, \"fpr\": 1.0, \"tpr\": 1.0, \"n\": 549}, {\"threshold\": 0.109, \"p\": 342, \"fpr\": 1.0, \"tpr\": 1.0, \"n\": 549}, {\"threshold\": 0.11, \"p\": 342, \"fpr\": 1.0, \"tpr\": 1.0, \"n\": 549}, {\"threshold\": 0.111, \"p\": 342, \"fpr\": 1.0, \"tpr\": 1.0, \"n\": 549}, {\"threshold\": 0.112, \"p\": 342, \"fpr\": 1.0, \"tpr\": 1.0, \"n\": 549}, {\"threshold\": 0.113, \"p\": 342, \"fpr\": 1.0, \"tpr\": 1.0, \"n\": 549}, {\"threshold\": 0.114, \"p\": 342, \"fpr\": 1.0, \"tpr\": 1.0, \"n\": 549}, {\"threshold\": 0.115, \"p\": 342, \"fpr\": 1.0, \"tpr\": 1.0, \"n\": 549}, {\"threshold\": 0.116, \"p\": 342, \"fpr\": 1.0, \"tpr\": 1.0, \"n\": 549}, {\"threshold\": 0.117, \"p\": 342, \"fpr\": 1.0, \"tpr\": 1.0, \"n\": 549}, {\"threshold\": 0.118, \"p\": 342, \"fpr\": 1.0, \"tpr\": 1.0, \"n\": 549}, {\"threshold\": 0.119, \"p\": 342, \"fpr\": 1.0, \"tpr\": 1.0, \"n\": 549}, {\"threshold\": 0.12, \"p\": 342, \"fpr\": 1.0, \"tpr\": 1.0, \"n\": 549}, {\"threshold\": 0.121, \"p\": 342, \"fpr\": 1.0, \"tpr\": 1.0, \"n\": 549}, {\"threshold\": 0.122, \"p\": 342, \"fpr\": 1.0, \"tpr\": 1.0, \"n\": 549}, {\"threshold\": 0.123, \"p\": 342, \"fpr\": 1.0, \"tpr\": 1.0, \"n\": 549}, {\"threshold\": 0.124, \"p\": 342, \"fpr\": 1.0, \"tpr\": 1.0, \"n\": 549}, {\"threshold\": 0.125, \"p\": 342, \"fpr\": 1.0, \"tpr\": 1.0, \"n\": 549}, {\"threshold\": 0.126, \"p\": 342, \"fpr\": 1.0, \"tpr\": 1.0, \"n\": 549}, {\"threshold\": 0.127, \"p\": 342, \"fpr\": 1.0, \"tpr\": 1.0, \"n\": 549}, {\"threshold\": 0.128, \"p\": 342, \"fpr\": 1.0, \"tpr\": 1.0, \"n\": 549}, {\"threshold\": 0.129, \"p\": 342, \"fpr\": 1.0, \"tpr\": 1.0, \"n\": 549}, {\"threshold\": 0.13, \"p\": 342, \"fpr\": 1.0, \"tpr\": 1.0, \"n\": 549}, {\"threshold\": 0.131, \"p\": 342, \"fpr\": 1.0, \"tpr\": 1.0, \"n\": 549}, {\"threshold\": 0.132, \"p\": 342, \"fpr\": 1.0, \"tpr\": 1.0, \"n\": 549}, {\"threshold\": 0.133, \"p\": 342, \"fpr\": 1.0, \"tpr\": 1.0, \"n\": 549}, {\"threshold\": 0.134, \"p\": 342, \"fpr\": 1.0, \"tpr\": 1.0, \"n\": 549}, {\"threshold\": 0.135, \"p\": 342, \"fpr\": 1.0, \"tpr\": 1.0, \"n\": 549}, {\"threshold\": 0.136, \"p\": 342, \"fpr\": 1.0, \"tpr\": 1.0, \"n\": 549}, {\"threshold\": 0.137, \"p\": 342, \"fpr\": 1.0, \"tpr\": 1.0, \"n\": 549}, {\"threshold\": 0.138, \"p\": 342, \"fpr\": 1.0, \"tpr\": 1.0, \"n\": 549}, {\"threshold\": 0.139, \"p\": 342, \"fpr\": 1.0, \"tpr\": 1.0, \"n\": 549}, {\"threshold\": 0.14, \"p\": 342, \"fpr\": 1.0, \"tpr\": 1.0, \"n\": 549}, {\"threshold\": 0.141, \"p\": 342, \"fpr\": 1.0, \"tpr\": 1.0, \"n\": 549}, {\"threshold\": 0.142, \"p\": 342, \"fpr\": 1.0, \"tpr\": 1.0, \"n\": 549}, {\"threshold\": 0.143, \"p\": 342, \"fpr\": 1.0, \"tpr\": 1.0, \"n\": 549}, {\"threshold\": 0.144, \"p\": 342, \"fpr\": 1.0, \"tpr\": 1.0, \"n\": 549}, {\"threshold\": 0.145, \"p\": 342, \"fpr\": 1.0, \"tpr\": 1.0, \"n\": 549}, {\"threshold\": 0.146, \"p\": 342, \"fpr\": 1.0, \"tpr\": 1.0, \"n\": 549}, {\"threshold\": 0.147, \"p\": 342, \"fpr\": 1.0, \"tpr\": 1.0, \"n\": 549}, {\"threshold\": 0.148, \"p\": 342, \"fpr\": 1.0, \"tpr\": 1.0, \"n\": 549}, {\"threshold\": 0.149, \"p\": 342, \"fpr\": 1.0, \"tpr\": 1.0, \"n\": 549}, {\"threshold\": 0.15, \"p\": 342, \"fpr\": 1.0, \"tpr\": 1.0, \"n\": 549}, {\"threshold\": 0.151, \"p\": 342, \"fpr\": 1.0, \"tpr\": 1.0, \"n\": 549}, {\"threshold\": 0.152, \"p\": 342, \"fpr\": 1.0, \"tpr\": 1.0, \"n\": 549}, {\"threshold\": 0.153, \"p\": 342, \"fpr\": 1.0, \"tpr\": 1.0, \"n\": 549}, {\"threshold\": 0.154, \"p\": 342, \"fpr\": 1.0, \"tpr\": 1.0, \"n\": 549}, {\"threshold\": 0.155, \"p\": 342, \"fpr\": 1.0, \"tpr\": 1.0, \"n\": 549}, {\"threshold\": 0.156, \"p\": 342, \"fpr\": 1.0, \"tpr\": 1.0, \"n\": 549}, {\"threshold\": 0.157, \"p\": 342, \"fpr\": 1.0, \"tpr\": 1.0, \"n\": 549}, {\"threshold\": 0.158, \"p\": 342, \"fpr\": 1.0, \"tpr\": 1.0, \"n\": 549}, {\"threshold\": 0.159, \"p\": 342, \"fpr\": 1.0, \"tpr\": 1.0, \"n\": 549}, {\"threshold\": 0.16, \"p\": 342, \"fpr\": 1.0, \"tpr\": 1.0, \"n\": 549}, {\"threshold\": 0.161, \"p\": 342, \"fpr\": 1.0, \"tpr\": 1.0, \"n\": 549}, {\"threshold\": 0.162, \"p\": 342, \"fpr\": 1.0, \"tpr\": 1.0, \"n\": 549}, {\"threshold\": 0.163, \"p\": 342, \"fpr\": 1.0, \"tpr\": 1.0, \"n\": 549}, {\"threshold\": 0.164, \"p\": 342, \"fpr\": 1.0, \"tpr\": 1.0, \"n\": 549}, {\"threshold\": 0.165, \"p\": 342, \"fpr\": 1.0, \"tpr\": 1.0, \"n\": 549}, {\"threshold\": 0.166, \"p\": 342, \"fpr\": 1.0, \"tpr\": 1.0, \"n\": 549}, {\"threshold\": 0.167, \"p\": 342, \"fpr\": 1.0, \"tpr\": 1.0, \"n\": 549}, {\"threshold\": 0.168, \"p\": 342, \"fpr\": 1.0, \"tpr\": 1.0, \"n\": 549}, {\"threshold\": 0.169, \"p\": 342, \"fpr\": 1.0, \"tpr\": 1.0, \"n\": 549}, {\"threshold\": 0.17, \"p\": 342, \"fpr\": 1.0, \"tpr\": 1.0, \"n\": 549}, {\"threshold\": 0.171, \"p\": 342, \"fpr\": 1.0, \"tpr\": 1.0, \"n\": 549}, {\"threshold\": 0.172, \"p\": 342, \"fpr\": 1.0, \"tpr\": 1.0, \"n\": 549}, {\"threshold\": 0.173, \"p\": 342, \"fpr\": 1.0, \"tpr\": 1.0, \"n\": 549}, {\"threshold\": 0.174, \"p\": 342, \"fpr\": 1.0, \"tpr\": 1.0, \"n\": 549}, {\"threshold\": 0.175, \"p\": 342, \"fpr\": 1.0, \"tpr\": 1.0, \"n\": 549}, {\"threshold\": 0.176, \"p\": 342, \"fpr\": 1.0, \"tpr\": 1.0, \"n\": 549}, {\"threshold\": 0.177, \"p\": 342, \"fpr\": 1.0, \"tpr\": 1.0, \"n\": 549}, {\"threshold\": 0.178, \"p\": 342, \"fpr\": 1.0, \"tpr\": 1.0, \"n\": 549}, {\"threshold\": 0.179, \"p\": 342, \"fpr\": 1.0, \"tpr\": 1.0, \"n\": 549}, {\"threshold\": 0.18, \"p\": 342, \"fpr\": 1.0, \"tpr\": 1.0, \"n\": 549}, {\"threshold\": 0.181, \"p\": 342, \"fpr\": 1.0, \"tpr\": 1.0, \"n\": 549}, {\"threshold\": 0.182, \"p\": 342, \"fpr\": 1.0, \"tpr\": 1.0, \"n\": 549}, {\"threshold\": 0.183, \"p\": 342, \"fpr\": 1.0, \"tpr\": 1.0, \"n\": 549}, {\"threshold\": 0.184, \"p\": 342, \"fpr\": 1.0, \"tpr\": 1.0, \"n\": 549}, {\"threshold\": 0.185, \"p\": 342, \"fpr\": 1.0, \"tpr\": 1.0, \"n\": 549}, {\"threshold\": 0.186, \"p\": 342, \"fpr\": 1.0, \"tpr\": 1.0, \"n\": 549}, {\"threshold\": 0.187, \"p\": 342, \"fpr\": 1.0, \"tpr\": 1.0, \"n\": 549}, {\"threshold\": 0.188, \"p\": 342, \"fpr\": 1.0, \"tpr\": 1.0, \"n\": 549}, {\"threshold\": 0.189, \"p\": 342, \"fpr\": 1.0, \"tpr\": 1.0, \"n\": 549}, {\"threshold\": 0.19, \"p\": 342, \"fpr\": 1.0, \"tpr\": 1.0, \"n\": 549}, {\"threshold\": 0.191, \"p\": 342, \"fpr\": 1.0, \"tpr\": 1.0, \"n\": 549}, {\"threshold\": 0.192, \"p\": 342, \"fpr\": 1.0, \"tpr\": 1.0, \"n\": 549}, {\"threshold\": 0.193, \"p\": 342, \"fpr\": 1.0, \"tpr\": 1.0, \"n\": 549}, {\"threshold\": 0.194, \"p\": 342, \"fpr\": 1.0, \"tpr\": 1.0, \"n\": 549}, {\"threshold\": 0.195, \"p\": 342, \"fpr\": 1.0, \"tpr\": 1.0, \"n\": 549}, {\"threshold\": 0.196, \"p\": 342, \"fpr\": 1.0, \"tpr\": 1.0, \"n\": 549}, {\"threshold\": 0.197, \"p\": 342, \"fpr\": 1.0, \"tpr\": 1.0, \"n\": 549}, {\"threshold\": 0.198, \"p\": 342, \"fpr\": 1.0, \"tpr\": 1.0, \"n\": 549}, {\"threshold\": 0.199, \"p\": 342, \"fpr\": 1.0, \"tpr\": 1.0, \"n\": 549}, {\"threshold\": 0.2, \"p\": 342, \"fpr\": 1.0, \"tpr\": 1.0, \"n\": 549}, {\"threshold\": 0.201, \"p\": 342, \"fpr\": 1.0, \"tpr\": 1.0, \"n\": 549}, {\"threshold\": 0.202, \"p\": 342, \"fpr\": 1.0, \"tpr\": 1.0, \"n\": 549}, {\"threshold\": 0.203, \"p\": 342, \"fpr\": 1.0, \"tpr\": 1.0, \"n\": 549}, {\"threshold\": 0.204, \"p\": 342, \"fpr\": 1.0, \"tpr\": 1.0, \"n\": 549}, {\"threshold\": 0.205, \"p\": 342, \"fpr\": 1.0, \"tpr\": 1.0, \"n\": 549}, {\"threshold\": 0.206, \"p\": 342, \"fpr\": 1.0, \"tpr\": 1.0, \"n\": 549}, {\"threshold\": 0.207, \"p\": 342, \"fpr\": 1.0, \"tpr\": 1.0, \"n\": 549}, {\"threshold\": 0.208, \"p\": 342, \"fpr\": 1.0, \"tpr\": 1.0, \"n\": 549}, {\"threshold\": 0.209, \"p\": 342, \"fpr\": 1.0, \"tpr\": 1.0, \"n\": 549}, {\"threshold\": 0.21, \"p\": 342, \"fpr\": 1.0, \"tpr\": 1.0, \"n\": 549}, {\"threshold\": 0.211, \"p\": 342, \"fpr\": 1.0, \"tpr\": 1.0, \"n\": 549}, {\"threshold\": 0.212, \"p\": 342, \"fpr\": 1.0, \"tpr\": 1.0, \"n\": 549}, {\"threshold\": 0.213, \"p\": 342, \"fpr\": 1.0, \"tpr\": 1.0, \"n\": 549}, {\"threshold\": 0.214, \"p\": 342, \"fpr\": 1.0, \"tpr\": 1.0, \"n\": 549}, {\"threshold\": 0.215, \"p\": 342, \"fpr\": 1.0, \"tpr\": 1.0, \"n\": 549}, {\"threshold\": 0.216, \"p\": 342, \"fpr\": 1.0, \"tpr\": 1.0, \"n\": 549}, {\"threshold\": 0.217, \"p\": 342, \"fpr\": 1.0, \"tpr\": 1.0, \"n\": 549}, {\"threshold\": 0.218, \"p\": 342, \"fpr\": 1.0, \"tpr\": 1.0, \"n\": 549}, {\"threshold\": 0.219, \"p\": 342, \"fpr\": 1.0, \"tpr\": 1.0, \"n\": 549}, {\"threshold\": 0.22, \"p\": 342, \"fpr\": 1.0, \"tpr\": 1.0, \"n\": 549}, {\"threshold\": 0.221, \"p\": 342, \"fpr\": 1.0, \"tpr\": 1.0, \"n\": 549}, {\"threshold\": 0.222, \"p\": 342, \"fpr\": 1.0, \"tpr\": 1.0, \"n\": 549}, {\"threshold\": 0.223, \"p\": 342, \"fpr\": 1.0, \"tpr\": 1.0, \"n\": 549}, {\"threshold\": 0.224, \"p\": 342, \"fpr\": 1.0, \"tpr\": 1.0, \"n\": 549}, {\"threshold\": 0.225, \"p\": 342, \"fpr\": 1.0, \"tpr\": 1.0, \"n\": 549}, {\"threshold\": 0.226, \"p\": 342, \"fpr\": 1.0, \"tpr\": 1.0, \"n\": 549}, {\"threshold\": 0.227, \"p\": 342, \"fpr\": 1.0, \"tpr\": 1.0, \"n\": 549}, {\"threshold\": 0.228, \"p\": 342, \"fpr\": 1.0, \"tpr\": 1.0, \"n\": 549}, {\"threshold\": 0.229, \"p\": 342, \"fpr\": 1.0, \"tpr\": 1.0, \"n\": 549}, {\"threshold\": 0.23, \"p\": 342, \"fpr\": 1.0, \"tpr\": 1.0, \"n\": 549}, {\"threshold\": 0.231, \"p\": 342, \"fpr\": 1.0, \"tpr\": 1.0, \"n\": 549}, {\"threshold\": 0.232, \"p\": 342, \"fpr\": 1.0, \"tpr\": 1.0, \"n\": 549}, {\"threshold\": 0.233, \"p\": 342, \"fpr\": 1.0, \"tpr\": 1.0, \"n\": 549}, {\"threshold\": 0.234, \"p\": 342, \"fpr\": 1.0, \"tpr\": 1.0, \"n\": 549}, {\"threshold\": 0.235, \"p\": 342, \"fpr\": 1.0, \"tpr\": 1.0, \"n\": 549}, {\"threshold\": 0.236, \"p\": 342, \"fpr\": 1.0, \"tpr\": 1.0, \"n\": 549}, {\"threshold\": 0.237, \"p\": 342, \"fpr\": 1.0, \"tpr\": 1.0, \"n\": 549}, {\"threshold\": 0.238, \"p\": 342, \"fpr\": 1.0, \"tpr\": 1.0, \"n\": 549}, {\"threshold\": 0.239, \"p\": 342, \"fpr\": 1.0, \"tpr\": 1.0, \"n\": 549}, {\"threshold\": 0.24, \"p\": 342, \"fpr\": 1.0, \"tpr\": 1.0, \"n\": 549}, {\"threshold\": 0.241, \"p\": 342, \"fpr\": 1.0, \"tpr\": 1.0, \"n\": 549}, {\"threshold\": 0.242, \"p\": 342, \"fpr\": 1.0, \"tpr\": 1.0, \"n\": 549}, {\"threshold\": 0.243, \"p\": 342, \"fpr\": 1.0, \"tpr\": 1.0, \"n\": 549}, {\"threshold\": 0.244, \"p\": 342, \"fpr\": 1.0, \"tpr\": 1.0, \"n\": 549}, {\"threshold\": 0.245, \"p\": 342, \"fpr\": 1.0, \"tpr\": 1.0, \"n\": 549}, {\"threshold\": 0.246, \"p\": 342, \"fpr\": 1.0, \"tpr\": 1.0, \"n\": 549}, {\"threshold\": 0.247, \"p\": 342, \"fpr\": 1.0, \"tpr\": 1.0, \"n\": 549}, {\"threshold\": 0.248, \"p\": 342, \"fpr\": 1.0, \"tpr\": 1.0, \"n\": 549}, {\"threshold\": 0.249, \"p\": 342, \"fpr\": 1.0, \"tpr\": 1.0, \"n\": 549}, {\"threshold\": 0.25, \"p\": 342, \"fpr\": 1.0, \"tpr\": 1.0, \"n\": 549}, {\"threshold\": 0.251, \"p\": 342, \"fpr\": 1.0, \"tpr\": 1.0, \"n\": 549}, {\"threshold\": 0.252, \"p\": 342, \"fpr\": 1.0, \"tpr\": 1.0, \"n\": 549}, {\"threshold\": 0.253, \"p\": 342, \"fpr\": 1.0, \"tpr\": 1.0, \"n\": 549}, {\"threshold\": 0.254, \"p\": 342, \"fpr\": 1.0, \"tpr\": 1.0, \"n\": 549}, {\"threshold\": 0.255, \"p\": 342, \"fpr\": 1.0, \"tpr\": 1.0, \"n\": 549}, {\"threshold\": 0.256, \"p\": 342, \"fpr\": 1.0, \"tpr\": 1.0, \"n\": 549}, {\"threshold\": 0.257, \"p\": 342, \"fpr\": 1.0, \"tpr\": 1.0, \"n\": 549}, {\"threshold\": 0.258, \"p\": 342, \"fpr\": 1.0, \"tpr\": 1.0, \"n\": 549}, {\"threshold\": 0.259, \"p\": 342, \"fpr\": 1.0, \"tpr\": 1.0, \"n\": 549}, {\"threshold\": 0.26, \"p\": 342, \"fpr\": 1.0, \"tpr\": 1.0, \"n\": 549}, {\"threshold\": 0.261, \"p\": 342, \"fpr\": 1.0, \"tpr\": 1.0, \"n\": 549}, {\"threshold\": 0.262, \"p\": 342, \"fpr\": 1.0, \"tpr\": 1.0, \"n\": 549}, {\"threshold\": 0.263, \"p\": 342, \"fpr\": 1.0, \"tpr\": 1.0, \"n\": 549}, {\"threshold\": 0.264, \"p\": 342, \"fpr\": 1.0, \"tpr\": 1.0, \"n\": 549}, {\"threshold\": 0.265, \"p\": 342, \"fpr\": 1.0, \"tpr\": 1.0, \"n\": 549}, {\"threshold\": 0.266, \"p\": 342, \"fpr\": 1.0, \"tpr\": 1.0, \"n\": 549}, {\"threshold\": 0.267, \"p\": 342, \"fpr\": 1.0, \"tpr\": 1.0, \"n\": 549}, {\"threshold\": 0.268, \"p\": 342, \"fpr\": 1.0, \"tpr\": 1.0, \"n\": 549}, {\"threshold\": 0.269, \"p\": 342, \"fpr\": 1.0, \"tpr\": 1.0, \"n\": 549}, {\"threshold\": 0.27, \"p\": 342, \"fpr\": 1.0, \"tpr\": 1.0, \"n\": 549}, {\"threshold\": 0.271, \"p\": 342, \"fpr\": 1.0, \"tpr\": 1.0, \"n\": 549}, {\"threshold\": 0.272, \"p\": 342, \"fpr\": 1.0, \"tpr\": 1.0, \"n\": 549}, {\"threshold\": 0.273, \"p\": 342, \"fpr\": 1.0, \"tpr\": 1.0, \"n\": 549}, {\"threshold\": 0.274, \"p\": 342, \"fpr\": 1.0, \"tpr\": 1.0, \"n\": 549}, {\"threshold\": 0.275, \"p\": 342, \"fpr\": 1.0, \"tpr\": 1.0, \"n\": 549}, {\"threshold\": 0.276, \"p\": 342, \"fpr\": 1.0, \"tpr\": 1.0, \"n\": 549}, {\"threshold\": 0.277, \"p\": 342, \"fpr\": 1.0, \"tpr\": 1.0, \"n\": 549}, {\"threshold\": 0.278, \"p\": 342, \"fpr\": 1.0, \"tpr\": 1.0, \"n\": 549}, {\"threshold\": 0.279, \"p\": 342, \"fpr\": 1.0, \"tpr\": 1.0, \"n\": 549}, {\"threshold\": 0.28, \"p\": 342, \"fpr\": 1.0, \"tpr\": 1.0, \"n\": 549}, {\"threshold\": 0.281, \"p\": 342, \"fpr\": 1.0, \"tpr\": 1.0, \"n\": 549}, {\"threshold\": 0.282, \"p\": 342, \"fpr\": 1.0, \"tpr\": 1.0, \"n\": 549}, {\"threshold\": 0.283, \"p\": 342, \"fpr\": 1.0, \"tpr\": 1.0, \"n\": 549}, {\"threshold\": 0.284, \"p\": 342, \"fpr\": 1.0, \"tpr\": 1.0, \"n\": 549}, {\"threshold\": 0.285, \"p\": 342, \"fpr\": 1.0, \"tpr\": 1.0, \"n\": 549}, {\"threshold\": 0.286, \"p\": 342, \"fpr\": 1.0, \"tpr\": 1.0, \"n\": 549}, {\"threshold\": 0.287, \"p\": 342, \"fpr\": 1.0, \"tpr\": 1.0, \"n\": 549}, {\"threshold\": 0.288, \"p\": 342, \"fpr\": 1.0, \"tpr\": 1.0, \"n\": 549}, {\"threshold\": 0.289, \"p\": 342, \"fpr\": 1.0, \"tpr\": 1.0, \"n\": 549}, {\"threshold\": 0.29, \"p\": 342, \"fpr\": 1.0, \"tpr\": 1.0, \"n\": 549}, {\"threshold\": 0.291, \"p\": 342, \"fpr\": 1.0, \"tpr\": 1.0, \"n\": 549}, {\"threshold\": 0.292, \"p\": 342, \"fpr\": 1.0, \"tpr\": 1.0, \"n\": 549}, {\"threshold\": 0.293, \"p\": 342, \"fpr\": 1.0, \"tpr\": 1.0, \"n\": 549}, {\"threshold\": 0.294, \"p\": 342, \"fpr\": 1.0, \"tpr\": 1.0, \"n\": 549}, {\"threshold\": 0.295, \"p\": 342, \"fpr\": 1.0, \"tpr\": 1.0, \"n\": 549}, {\"threshold\": 0.296, \"p\": 342, \"fpr\": 1.0, \"tpr\": 1.0, \"n\": 549}, {\"threshold\": 0.297, \"p\": 342, \"fpr\": 1.0, \"tpr\": 1.0, \"n\": 549}, {\"threshold\": 0.298, \"p\": 342, \"fpr\": 1.0, \"tpr\": 1.0, \"n\": 549}, {\"threshold\": 0.299, \"p\": 342, \"fpr\": 1.0, \"tpr\": 1.0, \"n\": 549}, {\"threshold\": 0.3, \"p\": 342, \"fpr\": 1.0, \"tpr\": 1.0, \"n\": 549}, {\"threshold\": 0.301, \"p\": 342, \"fpr\": 1.0, \"tpr\": 1.0, \"n\": 549}, {\"threshold\": 0.302, \"p\": 342, \"fpr\": 1.0, \"tpr\": 1.0, \"n\": 549}, {\"threshold\": 0.303, \"p\": 342, \"fpr\": 1.0, \"tpr\": 1.0, \"n\": 549}, {\"threshold\": 0.304, \"p\": 342, \"fpr\": 1.0, \"tpr\": 1.0, \"n\": 549}, {\"threshold\": 0.305, \"p\": 342, \"fpr\": 1.0, \"tpr\": 1.0, \"n\": 549}, {\"threshold\": 0.306, \"p\": 342, \"fpr\": 1.0, \"tpr\": 1.0, \"n\": 549}, {\"threshold\": 0.307, \"p\": 342, \"fpr\": 1.0, \"tpr\": 1.0, \"n\": 549}, {\"threshold\": 0.308, \"p\": 342, \"fpr\": 1.0, \"tpr\": 1.0, \"n\": 549}, {\"threshold\": 0.309, \"p\": 342, \"fpr\": 1.0, \"tpr\": 1.0, \"n\": 549}, {\"threshold\": 0.31, \"p\": 342, \"fpr\": 1.0, \"tpr\": 1.0, \"n\": 549}, {\"threshold\": 0.311, \"p\": 342, \"fpr\": 1.0, \"tpr\": 1.0, \"n\": 549}, {\"threshold\": 0.312, \"p\": 342, \"fpr\": 1.0, \"tpr\": 1.0, \"n\": 549}, {\"threshold\": 0.313, \"p\": 342, \"fpr\": 1.0, \"tpr\": 1.0, \"n\": 549}, {\"threshold\": 0.314, \"p\": 342, \"fpr\": 1.0, \"tpr\": 1.0, \"n\": 549}, {\"threshold\": 0.315, \"p\": 342, \"fpr\": 1.0, \"tpr\": 1.0, \"n\": 549}, {\"threshold\": 0.316, \"p\": 342, \"fpr\": 1.0, \"tpr\": 1.0, \"n\": 549}, {\"threshold\": 0.317, \"p\": 342, \"fpr\": 1.0, \"tpr\": 1.0, \"n\": 549}, {\"threshold\": 0.318, \"p\": 342, \"fpr\": 1.0, \"tpr\": 1.0, \"n\": 549}, {\"threshold\": 0.319, \"p\": 342, \"fpr\": 1.0, \"tpr\": 1.0, \"n\": 549}, {\"threshold\": 0.32, \"p\": 342, \"fpr\": 1.0, \"tpr\": 1.0, \"n\": 549}, {\"threshold\": 0.321, \"p\": 342, \"fpr\": 1.0, \"tpr\": 1.0, \"n\": 549}, {\"threshold\": 0.322, \"p\": 342, \"fpr\": 1.0, \"tpr\": 1.0, \"n\": 549}, {\"threshold\": 0.323, \"p\": 342, \"fpr\": 1.0, \"tpr\": 1.0, \"n\": 549}, {\"threshold\": 0.324, \"p\": 342, \"fpr\": 1.0, \"tpr\": 1.0, \"n\": 549}, {\"threshold\": 0.325, \"p\": 342, \"fpr\": 1.0, \"tpr\": 1.0, \"n\": 549}, {\"threshold\": 0.326, \"p\": 342, \"fpr\": 1.0, \"tpr\": 1.0, \"n\": 549}, {\"threshold\": 0.327, \"p\": 342, \"fpr\": 1.0, \"tpr\": 1.0, \"n\": 549}, {\"threshold\": 0.328, \"p\": 342, \"fpr\": 1.0, \"tpr\": 1.0, \"n\": 549}, {\"threshold\": 0.329, \"p\": 342, \"fpr\": 1.0, \"tpr\": 1.0, \"n\": 549}, {\"threshold\": 0.33, \"p\": 342, \"fpr\": 1.0, \"tpr\": 1.0, \"n\": 549}, {\"threshold\": 0.331, \"p\": 342, \"fpr\": 1.0, \"tpr\": 1.0, \"n\": 549}, {\"threshold\": 0.332, \"p\": 342, \"fpr\": 1.0, \"tpr\": 1.0, \"n\": 549}, {\"threshold\": 0.333, \"p\": 342, \"fpr\": 1.0, \"tpr\": 1.0, \"n\": 549}, {\"threshold\": 0.334, \"p\": 342, \"fpr\": 1.0, \"tpr\": 1.0, \"n\": 549}, {\"threshold\": 0.335, \"p\": 342, \"fpr\": 1.0, \"tpr\": 1.0, \"n\": 549}, {\"threshold\": 0.336, \"p\": 342, \"fpr\": 1.0, \"tpr\": 1.0, \"n\": 549}, {\"threshold\": 0.337, \"p\": 342, \"fpr\": 1.0, \"tpr\": 1.0, \"n\": 549}, {\"threshold\": 0.338, \"p\": 342, \"fpr\": 1.0, \"tpr\": 1.0, \"n\": 549}, {\"threshold\": 0.339, \"p\": 342, \"fpr\": 1.0, \"tpr\": 1.0, \"n\": 549}, {\"threshold\": 0.34, \"p\": 342, \"fpr\": 1.0, \"tpr\": 1.0, \"n\": 549}, {\"threshold\": 0.341, \"p\": 342, \"fpr\": 1.0, \"tpr\": 1.0, \"n\": 549}, {\"threshold\": 0.342, \"p\": 342, \"fpr\": 1.0, \"tpr\": 1.0, \"n\": 549}, {\"threshold\": 0.343, \"p\": 342, \"fpr\": 1.0, \"tpr\": 1.0, \"n\": 549}, {\"threshold\": 0.344, \"p\": 342, \"fpr\": 1.0, \"tpr\": 1.0, \"n\": 549}, {\"threshold\": 0.345, \"p\": 342, \"fpr\": 1.0, \"tpr\": 1.0, \"n\": 549}, {\"threshold\": 0.346, \"p\": 342, \"fpr\": 1.0, \"tpr\": 1.0, \"n\": 549}, {\"threshold\": 0.347, \"p\": 342, \"fpr\": 1.0, \"tpr\": 1.0, \"n\": 549}, {\"threshold\": 0.348, \"p\": 342, \"fpr\": 1.0, \"tpr\": 1.0, \"n\": 549}, {\"threshold\": 0.349, \"p\": 342, \"fpr\": 1.0, \"tpr\": 1.0, \"n\": 549}, {\"threshold\": 0.35, \"p\": 342, \"fpr\": 1.0, \"tpr\": 1.0, \"n\": 549}, {\"threshold\": 0.351, \"p\": 342, \"fpr\": 1.0, \"tpr\": 1.0, \"n\": 549}, {\"threshold\": 0.352, \"p\": 342, \"fpr\": 1.0, \"tpr\": 1.0, \"n\": 549}, {\"threshold\": 0.353, \"p\": 342, \"fpr\": 1.0, \"tpr\": 1.0, \"n\": 549}, {\"threshold\": 0.354, \"p\": 342, \"fpr\": 1.0, \"tpr\": 1.0, \"n\": 549}, {\"threshold\": 0.355, \"p\": 342, \"fpr\": 1.0, \"tpr\": 1.0, \"n\": 549}, {\"threshold\": 0.356, \"p\": 342, \"fpr\": 1.0, \"tpr\": 1.0, \"n\": 549}, {\"threshold\": 0.357, \"p\": 342, \"fpr\": 1.0, \"tpr\": 1.0, \"n\": 549}, {\"threshold\": 0.358, \"p\": 342, \"fpr\": 1.0, \"tpr\": 1.0, \"n\": 549}, {\"threshold\": 0.359, \"p\": 342, \"fpr\": 1.0, \"tpr\": 1.0, \"n\": 549}, {\"threshold\": 0.36, \"p\": 342, \"fpr\": 1.0, \"tpr\": 1.0, \"n\": 549}, {\"threshold\": 0.361, \"p\": 342, \"fpr\": 1.0, \"tpr\": 1.0, \"n\": 549}, {\"threshold\": 0.362, \"p\": 342, \"fpr\": 1.0, \"tpr\": 1.0, \"n\": 549}, {\"threshold\": 0.363, \"p\": 342, \"fpr\": 1.0, \"tpr\": 1.0, \"n\": 549}, {\"threshold\": 0.364, \"p\": 342, \"fpr\": 1.0, \"tpr\": 1.0, \"n\": 549}, {\"threshold\": 0.365, \"p\": 342, \"fpr\": 1.0, \"tpr\": 1.0, \"n\": 549}, {\"threshold\": 0.366, \"p\": 342, \"fpr\": 1.0, \"tpr\": 1.0, \"n\": 549}, {\"threshold\": 0.367, \"p\": 342, \"fpr\": 1.0, \"tpr\": 1.0, \"n\": 549}, {\"threshold\": 0.368, \"p\": 342, \"fpr\": 1.0, \"tpr\": 1.0, \"n\": 549}, {\"threshold\": 0.369, \"p\": 342, \"fpr\": 1.0, \"tpr\": 1.0, \"n\": 549}, {\"threshold\": 0.37, \"p\": 342, \"fpr\": 1.0, \"tpr\": 1.0, \"n\": 549}, {\"threshold\": 0.371, \"p\": 342, \"fpr\": 1.0, \"tpr\": 1.0, \"n\": 549}, {\"threshold\": 0.372, \"p\": 342, \"fpr\": 1.0, \"tpr\": 1.0, \"n\": 549}, {\"threshold\": 0.373, \"p\": 342, \"fpr\": 1.0, \"tpr\": 1.0, \"n\": 549}, {\"threshold\": 0.374, \"p\": 342, \"fpr\": 1.0, \"tpr\": 1.0, \"n\": 549}, {\"threshold\": 0.375, \"p\": 342, \"fpr\": 1.0, \"tpr\": 1.0, \"n\": 549}, {\"threshold\": 0.376, \"p\": 342, \"fpr\": 1.0, \"tpr\": 1.0, \"n\": 549}, {\"threshold\": 0.377, \"p\": 342, \"fpr\": 1.0, \"tpr\": 1.0, \"n\": 549}, {\"threshold\": 0.378, \"p\": 342, \"fpr\": 1.0, \"tpr\": 1.0, \"n\": 549}, {\"threshold\": 0.379, \"p\": 342, \"fpr\": 1.0, \"tpr\": 1.0, \"n\": 549}, {\"threshold\": 0.38, \"p\": 342, \"fpr\": 1.0, \"tpr\": 1.0, \"n\": 549}, {\"threshold\": 0.381, \"p\": 342, \"fpr\": 1.0, \"tpr\": 1.0, \"n\": 549}, {\"threshold\": 0.382, \"p\": 342, \"fpr\": 1.0, \"tpr\": 1.0, \"n\": 549}, {\"threshold\": 0.383, \"p\": 342, \"fpr\": 1.0, \"tpr\": 1.0, \"n\": 549}, {\"threshold\": 0.384, \"p\": 342, \"fpr\": 0.9726775956284153, \"tpr\": 0.9970760233918129, \"n\": 549}, {\"threshold\": 0.385, \"p\": 342, \"fpr\": 0.31876138433515483, \"tpr\": 0.8771929824561403, \"n\": 549}, {\"threshold\": 0.386, \"p\": 342, \"fpr\": 0.2786885245901639, \"tpr\": 0.8742690058479532, \"n\": 549}, {\"threshold\": 0.387, \"p\": 342, \"fpr\": 0.2786885245901639, \"tpr\": 0.8742690058479532, \"n\": 549}, {\"threshold\": 0.388, \"p\": 342, \"fpr\": 0.2786885245901639, \"tpr\": 0.8742690058479532, \"n\": 549}, {\"threshold\": 0.389, \"p\": 342, \"fpr\": 0.2786885245901639, \"tpr\": 0.8742690058479532, \"n\": 549}, {\"threshold\": 0.39, \"p\": 342, \"fpr\": 0.2786885245901639, \"tpr\": 0.8742690058479532, \"n\": 549}, {\"threshold\": 0.391, \"p\": 342, \"fpr\": 0.2786885245901639, \"tpr\": 0.8742690058479532, \"n\": 549}, {\"threshold\": 0.392, \"p\": 342, \"fpr\": 0.2786885245901639, \"tpr\": 0.8742690058479532, \"n\": 549}, {\"threshold\": 0.393, \"p\": 342, \"fpr\": 0.2786885245901639, \"tpr\": 0.8742690058479532, \"n\": 549}, {\"threshold\": 0.394, \"p\": 342, \"fpr\": 0.2786885245901639, \"tpr\": 0.8742690058479532, \"n\": 549}, {\"threshold\": 0.395, \"p\": 342, \"fpr\": 0.2786885245901639, \"tpr\": 0.8742690058479532, \"n\": 549}, {\"threshold\": 0.396, \"p\": 342, \"fpr\": 0.2786885245901639, \"tpr\": 0.8742690058479532, \"n\": 549}, {\"threshold\": 0.397, \"p\": 342, \"fpr\": 0.2786885245901639, \"tpr\": 0.8742690058479532, \"n\": 549}, {\"threshold\": 0.398, \"p\": 342, \"fpr\": 0.2786885245901639, \"tpr\": 0.8742690058479532, \"n\": 549}, {\"threshold\": 0.399, \"p\": 342, \"fpr\": 0.2786885245901639, \"tpr\": 0.8742690058479532, \"n\": 549}, {\"threshold\": 0.4, \"p\": 342, \"fpr\": 0.2786885245901639, \"tpr\": 0.8742690058479532, \"n\": 549}, {\"threshold\": 0.401, \"p\": 342, \"fpr\": 0.2786885245901639, \"tpr\": 0.8742690058479532, \"n\": 549}, {\"threshold\": 0.402, \"p\": 342, \"fpr\": 0.2786885245901639, \"tpr\": 0.8742690058479532, \"n\": 549}, {\"threshold\": 0.403, \"p\": 342, \"fpr\": 0.2786885245901639, \"tpr\": 0.8742690058479532, \"n\": 549}, {\"threshold\": 0.404, \"p\": 342, \"fpr\": 0.2786885245901639, \"tpr\": 0.8742690058479532, \"n\": 549}, {\"threshold\": 0.405, \"p\": 342, \"fpr\": 0.2786885245901639, \"tpr\": 0.8742690058479532, \"n\": 549}, {\"threshold\": 0.406, \"p\": 342, \"fpr\": 0.2786885245901639, \"tpr\": 0.8742690058479532, \"n\": 549}, {\"threshold\": 0.407, \"p\": 342, \"fpr\": 0.22404371584699453, \"tpr\": 0.8596491228070176, \"n\": 549}, {\"threshold\": 0.408, \"p\": 342, \"fpr\": 0.22404371584699453, \"tpr\": 0.8596491228070176, \"n\": 549}, {\"threshold\": 0.409, \"p\": 342, \"fpr\": 0.22404371584699453, \"tpr\": 0.8596491228070176, \"n\": 549}, {\"threshold\": 0.41, \"p\": 342, \"fpr\": 0.22404371584699453, \"tpr\": 0.8596491228070176, \"n\": 549}, {\"threshold\": 0.411, \"p\": 342, \"fpr\": 0.21311475409836064, \"tpr\": 0.8596491228070176, \"n\": 549}, {\"threshold\": 0.412, \"p\": 342, \"fpr\": 0.21311475409836064, \"tpr\": 0.8596491228070176, \"n\": 549}, {\"threshold\": 0.413, \"p\": 342, \"fpr\": 0.21311475409836064, \"tpr\": 0.8596491228070176, \"n\": 549}, {\"threshold\": 0.414, \"p\": 342, \"fpr\": 0.21311475409836064, \"tpr\": 0.8596491228070176, \"n\": 549}, {\"threshold\": 0.415, \"p\": 342, \"fpr\": 0.21311475409836064, \"tpr\": 0.8596491228070176, \"n\": 549}, {\"threshold\": 0.416, \"p\": 342, \"fpr\": 0.21311475409836064, \"tpr\": 0.8596491228070176, \"n\": 549}, {\"threshold\": 0.417, \"p\": 342, \"fpr\": 0.21311475409836064, \"tpr\": 0.8596491228070176, \"n\": 549}, {\"threshold\": 0.418, \"p\": 342, \"fpr\": 0.21311475409836064, \"tpr\": 0.8596491228070176, \"n\": 549}, {\"threshold\": 0.419, \"p\": 342, \"fpr\": 0.21311475409836064, \"tpr\": 0.8596491228070176, \"n\": 549}, {\"threshold\": 0.42, \"p\": 342, \"fpr\": 0.21311475409836064, \"tpr\": 0.8596491228070176, \"n\": 549}, {\"threshold\": 0.421, \"p\": 342, \"fpr\": 0.21311475409836064, \"tpr\": 0.8596491228070176, \"n\": 549}, {\"threshold\": 0.422, \"p\": 342, \"fpr\": 0.21311475409836064, \"tpr\": 0.8596491228070176, \"n\": 549}, {\"threshold\": 0.423, \"p\": 342, \"fpr\": 0.21311475409836064, \"tpr\": 0.8596491228070176, \"n\": 549}, {\"threshold\": 0.424, \"p\": 342, \"fpr\": 0.21311475409836064, \"tpr\": 0.8596491228070176, \"n\": 549}, {\"threshold\": 0.425, \"p\": 342, \"fpr\": 0.21311475409836064, \"tpr\": 0.8596491228070176, \"n\": 549}, {\"threshold\": 0.426, \"p\": 342, \"fpr\": 0.2040072859744991, \"tpr\": 0.8596491228070176, \"n\": 549}, {\"threshold\": 0.427, \"p\": 342, \"fpr\": 0.2040072859744991, \"tpr\": 0.8596491228070176, \"n\": 549}, {\"threshold\": 0.428, \"p\": 342, \"fpr\": 0.2040072859744991, \"tpr\": 0.8596491228070176, \"n\": 549}, {\"threshold\": 0.429, \"p\": 342, \"fpr\": 0.2040072859744991, \"tpr\": 0.8596491228070176, \"n\": 549}, {\"threshold\": 0.43, \"p\": 342, \"fpr\": 0.2040072859744991, \"tpr\": 0.8596491228070176, \"n\": 549}, {\"threshold\": 0.431, \"p\": 342, \"fpr\": 0.2040072859744991, \"tpr\": 0.8596491228070176, \"n\": 549}, {\"threshold\": 0.432, \"p\": 342, \"fpr\": 0.2040072859744991, \"tpr\": 0.8596491228070176, \"n\": 549}, {\"threshold\": 0.433, \"p\": 342, \"fpr\": 0.2040072859744991, \"tpr\": 0.8596491228070176, \"n\": 549}, {\"threshold\": 0.434, \"p\": 342, \"fpr\": 0.2040072859744991, \"tpr\": 0.8596491228070176, \"n\": 549}, {\"threshold\": 0.435, \"p\": 342, \"fpr\": 0.2040072859744991, \"tpr\": 0.8596491228070176, \"n\": 549}, {\"threshold\": 0.436, \"p\": 342, \"fpr\": 0.2040072859744991, \"tpr\": 0.8596491228070176, \"n\": 549}, {\"threshold\": 0.437, \"p\": 342, \"fpr\": 0.2040072859744991, \"tpr\": 0.8596491228070176, \"n\": 549}, {\"threshold\": 0.438, \"p\": 342, \"fpr\": 0.2040072859744991, \"tpr\": 0.8596491228070176, \"n\": 549}, {\"threshold\": 0.439, \"p\": 342, \"fpr\": 0.2040072859744991, \"tpr\": 0.8596491228070176, \"n\": 549}, {\"threshold\": 0.44, \"p\": 342, \"fpr\": 0.2040072859744991, \"tpr\": 0.8596491228070176, \"n\": 549}, {\"threshold\": 0.441, \"p\": 342, \"fpr\": 0.2040072859744991, \"tpr\": 0.8596491228070176, \"n\": 549}, {\"threshold\": 0.442, \"p\": 342, \"fpr\": 0.2040072859744991, \"tpr\": 0.8596491228070176, \"n\": 549}, {\"threshold\": 0.443, \"p\": 342, \"fpr\": 0.2040072859744991, \"tpr\": 0.8596491228070176, \"n\": 549}, {\"threshold\": 0.444, \"p\": 342, \"fpr\": 0.2040072859744991, \"tpr\": 0.8596491228070176, \"n\": 549}, {\"threshold\": 0.445, \"p\": 342, \"fpr\": 0.2040072859744991, \"tpr\": 0.8596491228070176, \"n\": 549}, {\"threshold\": 0.446, \"p\": 342, \"fpr\": 0.2040072859744991, \"tpr\": 0.8596491228070176, \"n\": 549}, {\"threshold\": 0.447, \"p\": 342, \"fpr\": 0.2040072859744991, \"tpr\": 0.8596491228070176, \"n\": 549}, {\"threshold\": 0.448, \"p\": 342, \"fpr\": 0.2040072859744991, \"tpr\": 0.8596491228070176, \"n\": 549}, {\"threshold\": 0.449, \"p\": 342, \"fpr\": 0.2040072859744991, \"tpr\": 0.8596491228070176, \"n\": 549}, {\"threshold\": 0.45, \"p\": 342, \"fpr\": 0.2040072859744991, \"tpr\": 0.8596491228070176, \"n\": 549}, {\"threshold\": 0.451, \"p\": 342, \"fpr\": 0.20036429872495445, \"tpr\": 0.8596491228070176, \"n\": 549}, {\"threshold\": 0.452, \"p\": 342, \"fpr\": 0.20036429872495445, \"tpr\": 0.8596491228070176, \"n\": 549}, {\"threshold\": 0.453, \"p\": 342, \"fpr\": 0.09836065573770492, \"tpr\": 0.7748538011695907, \"n\": 549}, {\"threshold\": 0.454, \"p\": 342, \"fpr\": 0.09836065573770492, \"tpr\": 0.7748538011695907, \"n\": 549}, {\"threshold\": 0.455, \"p\": 342, \"fpr\": 0.09836065573770492, \"tpr\": 0.7748538011695907, \"n\": 549}, {\"threshold\": 0.456, \"p\": 342, \"fpr\": 0.09836065573770492, \"tpr\": 0.7748538011695907, \"n\": 549}, {\"threshold\": 0.457, \"p\": 342, \"fpr\": 0.09836065573770492, \"tpr\": 0.7748538011695907, \"n\": 549}, {\"threshold\": 0.458, \"p\": 342, \"fpr\": 0.09836065573770492, \"tpr\": 0.7748538011695907, \"n\": 549}, {\"threshold\": 0.459, \"p\": 342, \"fpr\": 0.09836065573770492, \"tpr\": 0.7748538011695907, \"n\": 549}, {\"threshold\": 0.46, \"p\": 342, \"fpr\": 0.09836065573770492, \"tpr\": 0.7748538011695907, \"n\": 549}, {\"threshold\": 0.461, \"p\": 342, \"fpr\": 0.09836065573770492, \"tpr\": 0.7748538011695907, \"n\": 549}, {\"threshold\": 0.462, \"p\": 342, \"fpr\": 0.09836065573770492, \"tpr\": 0.7748538011695907, \"n\": 549}, {\"threshold\": 0.463, \"p\": 342, \"fpr\": 0.09836065573770492, \"tpr\": 0.7748538011695907, \"n\": 549}, {\"threshold\": 0.464, \"p\": 342, \"fpr\": 0.09836065573770492, \"tpr\": 0.7748538011695907, \"n\": 549}, {\"threshold\": 0.465, \"p\": 342, \"fpr\": 0.09836065573770492, \"tpr\": 0.7748538011695907, \"n\": 549}, {\"threshold\": 0.466, \"p\": 342, \"fpr\": 0.09836065573770492, \"tpr\": 0.7748538011695907, \"n\": 549}, {\"threshold\": 0.467, \"p\": 342, \"fpr\": 0.09836065573770492, \"tpr\": 0.7748538011695907, \"n\": 549}, {\"threshold\": 0.468, \"p\": 342, \"fpr\": 0.09836065573770492, \"tpr\": 0.7748538011695907, \"n\": 549}, {\"threshold\": 0.469, \"p\": 342, \"fpr\": 0.09836065573770492, \"tpr\": 0.7748538011695907, \"n\": 549}, {\"threshold\": 0.47, \"p\": 342, \"fpr\": 0.09836065573770492, \"tpr\": 0.7748538011695907, \"n\": 549}, {\"threshold\": 0.471, \"p\": 342, \"fpr\": 0.0947176684881603, \"tpr\": 0.7748538011695907, \"n\": 549}, {\"threshold\": 0.472, \"p\": 342, \"fpr\": 0.0947176684881603, \"tpr\": 0.7748538011695907, \"n\": 549}, {\"threshold\": 0.473, \"p\": 342, \"fpr\": 0.0947176684881603, \"tpr\": 0.7748538011695907, \"n\": 549}, {\"threshold\": 0.474, \"p\": 342, \"fpr\": 0.0947176684881603, \"tpr\": 0.7748538011695907, \"n\": 549}, {\"threshold\": 0.475, \"p\": 342, \"fpr\": 0.0947176684881603, \"tpr\": 0.7748538011695907, \"n\": 549}, {\"threshold\": 0.476, \"p\": 342, \"fpr\": 0.058287795992714025, \"tpr\": 0.7368421052631579, \"n\": 549}, {\"threshold\": 0.477, \"p\": 342, \"fpr\": 0.058287795992714025, \"tpr\": 0.7368421052631579, \"n\": 549}, {\"threshold\": 0.478, \"p\": 342, \"fpr\": 0.058287795992714025, \"tpr\": 0.7368421052631579, \"n\": 549}, {\"threshold\": 0.479, \"p\": 342, \"fpr\": 0.0546448087431694, \"tpr\": 0.7339181286549707, \"n\": 549}, {\"threshold\": 0.48, \"p\": 342, \"fpr\": 0.0546448087431694, \"tpr\": 0.7339181286549707, \"n\": 549}, {\"threshold\": 0.481, \"p\": 342, \"fpr\": 0.0546448087431694, \"tpr\": 0.7339181286549707, \"n\": 549}, {\"threshold\": 0.482, \"p\": 342, \"fpr\": 0.0546448087431694, \"tpr\": 0.7339181286549707, \"n\": 549}, {\"threshold\": 0.483, \"p\": 342, \"fpr\": 0.0546448087431694, \"tpr\": 0.7339181286549707, \"n\": 549}, {\"threshold\": 0.484, \"p\": 342, \"fpr\": 0.0546448087431694, \"tpr\": 0.7339181286549707, \"n\": 549}, {\"threshold\": 0.485, \"p\": 342, \"fpr\": 0.0546448087431694, \"tpr\": 0.7339181286549707, \"n\": 549}, {\"threshold\": 0.486, \"p\": 342, \"fpr\": 0.0546448087431694, \"tpr\": 0.7339181286549707, \"n\": 549}, {\"threshold\": 0.487, \"p\": 342, \"fpr\": 0.0546448087431694, \"tpr\": 0.7339181286549707, \"n\": 549}, {\"threshold\": 0.488, \"p\": 342, \"fpr\": 0.0546448087431694, \"tpr\": 0.7339181286549707, \"n\": 549}, {\"threshold\": 0.489, \"p\": 342, \"fpr\": 0.0546448087431694, \"tpr\": 0.7339181286549707, \"n\": 549}, {\"threshold\": 0.49, \"p\": 342, \"fpr\": 0.0546448087431694, \"tpr\": 0.7339181286549707, \"n\": 549}, {\"threshold\": 0.491, \"p\": 342, \"fpr\": 0.0546448087431694, \"tpr\": 0.7339181286549707, \"n\": 549}, {\"threshold\": 0.492, \"p\": 342, \"fpr\": 0.0546448087431694, \"tpr\": 0.7339181286549707, \"n\": 549}, {\"threshold\": 0.493, \"p\": 342, \"fpr\": 0.0546448087431694, \"tpr\": 0.7339181286549707, \"n\": 549}, {\"threshold\": 0.494, \"p\": 342, \"fpr\": 0.0546448087431694, \"tpr\": 0.7339181286549707, \"n\": 549}, {\"threshold\": 0.495, \"p\": 342, \"fpr\": 0.0546448087431694, \"tpr\": 0.7339181286549707, \"n\": 549}, {\"threshold\": 0.496, \"p\": 342, \"fpr\": 0.0546448087431694, \"tpr\": 0.7339181286549707, \"n\": 549}, {\"threshold\": 0.497, \"p\": 342, \"fpr\": 0.0546448087431694, \"tpr\": 0.7339181286549707, \"n\": 549}, {\"threshold\": 0.498, \"p\": 342, \"fpr\": 0.0546448087431694, \"tpr\": 0.7339181286549707, \"n\": 549}, {\"threshold\": 0.499, \"p\": 342, \"fpr\": 0.0546448087431694, \"tpr\": 0.7339181286549707, \"n\": 549}, {\"threshold\": 0.5, \"p\": 342, \"fpr\": 0.0546448087431694, \"tpr\": 0.7339181286549707, \"n\": 549}, {\"threshold\": 0.501, \"p\": 342, \"fpr\": 0.052823315118397086, \"tpr\": 0.7309941520467836, \"n\": 549}, {\"threshold\": 0.502, \"p\": 342, \"fpr\": 0.052823315118397086, \"tpr\": 0.7309941520467836, \"n\": 549}, {\"threshold\": 0.503, \"p\": 342, \"fpr\": 0.052823315118397086, \"tpr\": 0.7309941520467836, \"n\": 549}, {\"threshold\": 0.504, \"p\": 342, \"fpr\": 0.052823315118397086, \"tpr\": 0.7309941520467836, \"n\": 549}, {\"threshold\": 0.505, \"p\": 342, \"fpr\": 0.052823315118397086, \"tpr\": 0.7309941520467836, \"n\": 549}, {\"threshold\": 0.506, \"p\": 342, \"fpr\": 0.052823315118397086, \"tpr\": 0.7309941520467836, \"n\": 549}, {\"threshold\": 0.507, \"p\": 342, \"fpr\": 0.052823315118397086, \"tpr\": 0.7309941520467836, \"n\": 549}, {\"threshold\": 0.508, \"p\": 342, \"fpr\": 0.052823315118397086, \"tpr\": 0.7309941520467836, \"n\": 549}, {\"threshold\": 0.509, \"p\": 342, \"fpr\": 0.052823315118397086, \"tpr\": 0.7309941520467836, \"n\": 549}, {\"threshold\": 0.51, \"p\": 342, \"fpr\": 0.052823315118397086, \"tpr\": 0.7309941520467836, \"n\": 549}, {\"threshold\": 0.511, \"p\": 342, \"fpr\": 0.052823315118397086, \"tpr\": 0.7309941520467836, \"n\": 549}, {\"threshold\": 0.512, \"p\": 342, \"fpr\": 0.052823315118397086, \"tpr\": 0.7309941520467836, \"n\": 549}, {\"threshold\": 0.513, \"p\": 342, \"fpr\": 0.052823315118397086, \"tpr\": 0.7309941520467836, \"n\": 549}, {\"threshold\": 0.514, \"p\": 342, \"fpr\": 0.052823315118397086, \"tpr\": 0.7309941520467836, \"n\": 549}, {\"threshold\": 0.515, \"p\": 342, \"fpr\": 0.052823315118397086, \"tpr\": 0.7309941520467836, \"n\": 549}, {\"threshold\": 0.516, \"p\": 342, \"fpr\": 0.052823315118397086, \"tpr\": 0.7309941520467836, \"n\": 549}, {\"threshold\": 0.517, \"p\": 342, \"fpr\": 0.052823315118397086, \"tpr\": 0.7309941520467836, \"n\": 549}, {\"threshold\": 0.518, \"p\": 342, \"fpr\": 0.052823315118397086, \"tpr\": 0.7309941520467836, \"n\": 549}, {\"threshold\": 0.519, \"p\": 342, \"fpr\": 0.052823315118397086, \"tpr\": 0.7309941520467836, \"n\": 549}, {\"threshold\": 0.52, \"p\": 342, \"fpr\": 0.052823315118397086, \"tpr\": 0.7309941520467836, \"n\": 549}, {\"threshold\": 0.521, \"p\": 342, \"fpr\": 0.052823315118397086, \"tpr\": 0.7309941520467836, \"n\": 549}, {\"threshold\": 0.522, \"p\": 342, \"fpr\": 0.052823315118397086, \"tpr\": 0.7309941520467836, \"n\": 549}, {\"threshold\": 0.523, \"p\": 342, \"fpr\": 0.052823315118397086, \"tpr\": 0.7309941520467836, \"n\": 549}, {\"threshold\": 0.524, \"p\": 342, \"fpr\": 0.052823315118397086, \"tpr\": 0.7309941520467836, \"n\": 549}, {\"threshold\": 0.525, \"p\": 342, \"fpr\": 0.052823315118397086, \"tpr\": 0.7309941520467836, \"n\": 549}, {\"threshold\": 0.526, \"p\": 342, \"fpr\": 0.052823315118397086, \"tpr\": 0.7309941520467836, \"n\": 549}, {\"threshold\": 0.527, \"p\": 342, \"fpr\": 0.052823315118397086, \"tpr\": 0.7309941520467836, \"n\": 549}, {\"threshold\": 0.528, \"p\": 342, \"fpr\": 0.052823315118397086, \"tpr\": 0.7309941520467836, \"n\": 549}, {\"threshold\": 0.529, \"p\": 342, \"fpr\": 0.052823315118397086, \"tpr\": 0.7309941520467836, \"n\": 549}, {\"threshold\": 0.53, \"p\": 342, \"fpr\": 0.052823315118397086, \"tpr\": 0.716374269005848, \"n\": 549}, {\"threshold\": 0.531, \"p\": 342, \"fpr\": 0.052823315118397086, \"tpr\": 0.716374269005848, \"n\": 549}, {\"threshold\": 0.532, \"p\": 342, \"fpr\": 0.052823315118397086, \"tpr\": 0.716374269005848, \"n\": 549}, {\"threshold\": 0.533, \"p\": 342, \"fpr\": 0.052823315118397086, \"tpr\": 0.716374269005848, \"n\": 549}, {\"threshold\": 0.534, \"p\": 342, \"fpr\": 0.052823315118397086, \"tpr\": 0.716374269005848, \"n\": 549}, {\"threshold\": 0.535, \"p\": 342, \"fpr\": 0.052823315118397086, \"tpr\": 0.716374269005848, \"n\": 549}, {\"threshold\": 0.536, \"p\": 342, \"fpr\": 0.052823315118397086, \"tpr\": 0.716374269005848, \"n\": 549}, {\"threshold\": 0.537, \"p\": 342, \"fpr\": 0.052823315118397086, \"tpr\": 0.716374269005848, \"n\": 549}, {\"threshold\": 0.538, \"p\": 342, \"fpr\": 0.052823315118397086, \"tpr\": 0.716374269005848, \"n\": 549}, {\"threshold\": 0.539, \"p\": 342, \"fpr\": 0.052823315118397086, \"tpr\": 0.716374269005848, \"n\": 549}, {\"threshold\": 0.54, \"p\": 342, \"fpr\": 0.052823315118397086, \"tpr\": 0.716374269005848, \"n\": 549}, {\"threshold\": 0.541, \"p\": 342, \"fpr\": 0.052823315118397086, \"tpr\": 0.716374269005848, \"n\": 549}, {\"threshold\": 0.542, \"p\": 342, \"fpr\": 0.052823315118397086, \"tpr\": 0.716374269005848, \"n\": 549}, {\"threshold\": 0.543, \"p\": 342, \"fpr\": 0.052823315118397086, \"tpr\": 0.716374269005848, \"n\": 549}, {\"threshold\": 0.544, \"p\": 342, \"fpr\": 0.052823315118397086, \"tpr\": 0.716374269005848, \"n\": 549}, {\"threshold\": 0.545, \"p\": 342, \"fpr\": 0.052823315118397086, \"tpr\": 0.716374269005848, \"n\": 549}, {\"threshold\": 0.546, \"p\": 342, \"fpr\": 0.052823315118397086, \"tpr\": 0.716374269005848, \"n\": 549}, {\"threshold\": 0.547, \"p\": 342, \"fpr\": 0.052823315118397086, \"tpr\": 0.716374269005848, \"n\": 549}, {\"threshold\": 0.548, \"p\": 342, \"fpr\": 0.052823315118397086, \"tpr\": 0.716374269005848, \"n\": 549}, {\"threshold\": 0.549, \"p\": 342, \"fpr\": 0.052823315118397086, \"tpr\": 0.716374269005848, \"n\": 549}, {\"threshold\": 0.55, \"p\": 342, \"fpr\": 0.0273224043715847, \"tpr\": 0.6111111111111112, \"n\": 549}, {\"threshold\": 0.551, \"p\": 342, \"fpr\": 0.0273224043715847, \"tpr\": 0.6111111111111112, \"n\": 549}, {\"threshold\": 0.552, \"p\": 342, \"fpr\": 0.0273224043715847, \"tpr\": 0.6111111111111112, \"n\": 549}, {\"threshold\": 0.553, \"p\": 342, \"fpr\": 0.0273224043715847, \"tpr\": 0.6111111111111112, \"n\": 549}, {\"threshold\": 0.554, \"p\": 342, \"fpr\": 0.0273224043715847, \"tpr\": 0.6111111111111112, \"n\": 549}, {\"threshold\": 0.555, \"p\": 342, \"fpr\": 0.0273224043715847, \"tpr\": 0.6111111111111112, \"n\": 549}, {\"threshold\": 0.556, \"p\": 342, \"fpr\": 0.0273224043715847, \"tpr\": 0.6111111111111112, \"n\": 549}, {\"threshold\": 0.557, \"p\": 342, \"fpr\": 0.0273224043715847, \"tpr\": 0.6111111111111112, \"n\": 549}, {\"threshold\": 0.558, \"p\": 342, \"fpr\": 0.0273224043715847, \"tpr\": 0.6111111111111112, \"n\": 549}, {\"threshold\": 0.559, \"p\": 342, \"fpr\": 0.0273224043715847, \"tpr\": 0.6111111111111112, \"n\": 549}, {\"threshold\": 0.56, \"p\": 342, \"fpr\": 0.0273224043715847, \"tpr\": 0.6111111111111112, \"n\": 549}, {\"threshold\": 0.561, \"p\": 342, \"fpr\": 0.0273224043715847, \"tpr\": 0.6111111111111112, \"n\": 549}, {\"threshold\": 0.562, \"p\": 342, \"fpr\": 0.0273224043715847, \"tpr\": 0.6111111111111112, \"n\": 549}, {\"threshold\": 0.563, \"p\": 342, \"fpr\": 0.0273224043715847, \"tpr\": 0.6111111111111112, \"n\": 549}, {\"threshold\": 0.564, \"p\": 342, \"fpr\": 0.0273224043715847, \"tpr\": 0.6111111111111112, \"n\": 549}, {\"threshold\": 0.565, \"p\": 342, \"fpr\": 0.0273224043715847, \"tpr\": 0.6111111111111112, \"n\": 549}, {\"threshold\": 0.566, \"p\": 342, \"fpr\": 0.0273224043715847, \"tpr\": 0.6111111111111112, \"n\": 549}, {\"threshold\": 0.567, \"p\": 342, \"fpr\": 0.0273224043715847, \"tpr\": 0.6111111111111112, \"n\": 549}, {\"threshold\": 0.568, \"p\": 342, \"fpr\": 0.0273224043715847, \"tpr\": 0.6111111111111112, \"n\": 549}, {\"threshold\": 0.569, \"p\": 342, \"fpr\": 0.0273224043715847, \"tpr\": 0.6111111111111112, \"n\": 549}, {\"threshold\": 0.57, \"p\": 342, \"fpr\": 0.0273224043715847, \"tpr\": 0.6111111111111112, \"n\": 549}, {\"threshold\": 0.571, \"p\": 342, \"fpr\": 0.0273224043715847, \"tpr\": 0.6111111111111112, \"n\": 549}, {\"threshold\": 0.572, \"p\": 342, \"fpr\": 0.0273224043715847, \"tpr\": 0.6111111111111112, \"n\": 549}, {\"threshold\": 0.573, \"p\": 342, \"fpr\": 0.0273224043715847, \"tpr\": 0.6111111111111112, \"n\": 549}, {\"threshold\": 0.574, \"p\": 342, \"fpr\": 0.0273224043715847, \"tpr\": 0.6111111111111112, \"n\": 549}, {\"threshold\": 0.575, \"p\": 342, \"fpr\": 0.0273224043715847, \"tpr\": 0.6111111111111112, \"n\": 549}, {\"threshold\": 0.576, \"p\": 342, \"fpr\": 0.0273224043715847, \"tpr\": 0.6111111111111112, \"n\": 549}, {\"threshold\": 0.577, \"p\": 342, \"fpr\": 0.0273224043715847, \"tpr\": 0.6111111111111112, \"n\": 549}, {\"threshold\": 0.578, \"p\": 342, \"fpr\": 0.0273224043715847, \"tpr\": 0.6111111111111112, \"n\": 549}, {\"threshold\": 0.579, \"p\": 342, \"fpr\": 0.0273224043715847, \"tpr\": 0.6111111111111112, \"n\": 549}, {\"threshold\": 0.58, \"p\": 342, \"fpr\": 0.0273224043715847, \"tpr\": 0.6111111111111112, \"n\": 549}, {\"threshold\": 0.581, \"p\": 342, \"fpr\": 0.0273224043715847, \"tpr\": 0.6111111111111112, \"n\": 549}, {\"threshold\": 0.582, \"p\": 342, \"fpr\": 0.0273224043715847, \"tpr\": 0.6111111111111112, \"n\": 549}, {\"threshold\": 0.583, \"p\": 342, \"fpr\": 0.0273224043715847, \"tpr\": 0.6111111111111112, \"n\": 549}, {\"threshold\": 0.584, \"p\": 342, \"fpr\": 0.0273224043715847, \"tpr\": 0.6111111111111112, \"n\": 549}, {\"threshold\": 0.585, \"p\": 342, \"fpr\": 0.0273224043715847, \"tpr\": 0.6111111111111112, \"n\": 549}, {\"threshold\": 0.586, \"p\": 342, \"fpr\": 0.0273224043715847, \"tpr\": 0.6111111111111112, \"n\": 549}, {\"threshold\": 0.587, \"p\": 342, \"fpr\": 0.0273224043715847, \"tpr\": 0.6111111111111112, \"n\": 549}, {\"threshold\": 0.588, \"p\": 342, \"fpr\": 0.0273224043715847, \"tpr\": 0.6111111111111112, \"n\": 549}, {\"threshold\": 0.589, \"p\": 342, \"fpr\": 0.0273224043715847, \"tpr\": 0.6111111111111112, \"n\": 549}, {\"threshold\": 0.59, \"p\": 342, \"fpr\": 0.025500910746812388, \"tpr\": 0.5818713450292398, \"n\": 549}, {\"threshold\": 0.591, \"p\": 342, \"fpr\": 0.025500910746812388, \"tpr\": 0.5818713450292398, \"n\": 549}, {\"threshold\": 0.592, \"p\": 342, \"fpr\": 0.014571948998178506, \"tpr\": 0.5233918128654971, \"n\": 549}, {\"threshold\": 0.593, \"p\": 342, \"fpr\": 0.014571948998178506, \"tpr\": 0.5233918128654971, \"n\": 549}, {\"threshold\": 0.594, \"p\": 342, \"fpr\": 0.014571948998178506, \"tpr\": 0.5233918128654971, \"n\": 549}, {\"threshold\": 0.595, \"p\": 342, \"fpr\": 0.014571948998178506, \"tpr\": 0.5233918128654971, \"n\": 549}, {\"threshold\": 0.596, \"p\": 342, \"fpr\": 0.014571948998178506, \"tpr\": 0.5233918128654971, \"n\": 549}, {\"threshold\": 0.597, \"p\": 342, \"fpr\": 0.014571948998178506, \"tpr\": 0.5233918128654971, \"n\": 549}, {\"threshold\": 0.598, \"p\": 342, \"fpr\": 0.014571948998178506, \"tpr\": 0.5233918128654971, \"n\": 549}, {\"threshold\": 0.599, \"p\": 342, \"fpr\": 0.014571948998178506, \"tpr\": 0.5233918128654971, \"n\": 549}, {\"threshold\": 0.6, \"p\": 342, \"fpr\": 0.014571948998178506, \"tpr\": 0.5233918128654971, \"n\": 549}, {\"threshold\": 0.601, \"p\": 342, \"fpr\": 0.014571948998178506, \"tpr\": 0.5233918128654971, \"n\": 549}, {\"threshold\": 0.602, \"p\": 342, \"fpr\": 0.014571948998178506, \"tpr\": 0.5233918128654971, \"n\": 549}, {\"threshold\": 0.603, \"p\": 342, \"fpr\": 0.014571948998178506, \"tpr\": 0.5233918128654971, \"n\": 549}, {\"threshold\": 0.604, \"p\": 342, \"fpr\": 0.014571948998178506, \"tpr\": 0.5233918128654971, \"n\": 549}, {\"threshold\": 0.605, \"p\": 342, \"fpr\": 0.014571948998178506, \"tpr\": 0.5233918128654971, \"n\": 549}, {\"threshold\": 0.606, \"p\": 342, \"fpr\": 0.014571948998178506, \"tpr\": 0.5233918128654971, \"n\": 549}, {\"threshold\": 0.607, \"p\": 342, \"fpr\": 0.014571948998178506, \"tpr\": 0.5233918128654971, \"n\": 549}, {\"threshold\": 0.608, \"p\": 342, \"fpr\": 0.014571948998178506, \"tpr\": 0.5233918128654971, \"n\": 549}, {\"threshold\": 0.609, \"p\": 342, \"fpr\": 0.014571948998178506, \"tpr\": 0.5233918128654971, \"n\": 549}, {\"threshold\": 0.61, \"p\": 342, \"fpr\": 0.014571948998178506, \"tpr\": 0.5233918128654971, \"n\": 549}, {\"threshold\": 0.611, \"p\": 342, \"fpr\": 0.014571948998178506, \"tpr\": 0.5233918128654971, \"n\": 549}, {\"threshold\": 0.612, \"p\": 342, \"fpr\": 0.014571948998178506, \"tpr\": 0.5233918128654971, \"n\": 549}, {\"threshold\": 0.613, \"p\": 342, \"fpr\": 0.014571948998178506, \"tpr\": 0.5233918128654971, \"n\": 549}, {\"threshold\": 0.614, \"p\": 342, \"fpr\": 0.014571948998178506, \"tpr\": 0.5233918128654971, \"n\": 549}, {\"threshold\": 0.615, \"p\": 342, \"fpr\": 0.014571948998178506, \"tpr\": 0.5233918128654971, \"n\": 549}, {\"threshold\": 0.616, \"p\": 342, \"fpr\": 0.014571948998178506, \"tpr\": 0.5233918128654971, \"n\": 549}, {\"threshold\": 0.617, \"p\": 342, \"fpr\": 0.014571948998178506, \"tpr\": 0.5233918128654971, \"n\": 549}, {\"threshold\": 0.618, \"p\": 342, \"fpr\": 0.014571948998178506, \"tpr\": 0.5233918128654971, \"n\": 549}, {\"threshold\": 0.619, \"p\": 342, \"fpr\": 0.014571948998178506, \"tpr\": 0.5233918128654971, \"n\": 549}, {\"threshold\": 0.62, \"p\": 342, \"fpr\": 0.014571948998178506, \"tpr\": 0.5233918128654971, \"n\": 549}, {\"threshold\": 0.621, \"p\": 342, \"fpr\": 0.014571948998178506, \"tpr\": 0.5233918128654971, \"n\": 549}, {\"threshold\": 0.622, \"p\": 342, \"fpr\": 0.014571948998178506, \"tpr\": 0.4678362573099415, \"n\": 549}, {\"threshold\": 0.623, \"p\": 342, \"fpr\": 0.014571948998178506, \"tpr\": 0.4678362573099415, \"n\": 549}, {\"threshold\": 0.624, \"p\": 342, \"fpr\": 0.014571948998178506, \"tpr\": 0.4678362573099415, \"n\": 549}, {\"threshold\": 0.625, \"p\": 342, \"fpr\": 0.014571948998178506, \"tpr\": 0.4678362573099415, \"n\": 549}, {\"threshold\": 0.626, \"p\": 342, \"fpr\": 0.014571948998178506, \"tpr\": 0.4678362573099415, \"n\": 549}, {\"threshold\": 0.627, \"p\": 342, \"fpr\": 0.014571948998178506, \"tpr\": 0.4678362573099415, \"n\": 549}, {\"threshold\": 0.628, \"p\": 342, \"fpr\": 0.014571948998178506, \"tpr\": 0.4678362573099415, \"n\": 549}, {\"threshold\": 0.629, \"p\": 342, \"fpr\": 0.0, \"tpr\": 0.0, \"n\": 549}, {\"threshold\": 0.63, \"p\": 342, \"fpr\": 0.0, \"tpr\": 0.0, \"n\": 549}, {\"threshold\": 0.631, \"p\": 342, \"fpr\": 0.0, \"tpr\": 0.0, \"n\": 549}, {\"threshold\": 0.632, \"p\": 342, \"fpr\": 0.0, \"tpr\": 0.0, \"n\": 549}, {\"threshold\": 0.633, \"p\": 342, \"fpr\": 0.0, \"tpr\": 0.0, \"n\": 549}, {\"threshold\": 0.634, \"p\": 342, \"fpr\": 0.0, \"tpr\": 0.0, \"n\": 549}, {\"threshold\": 0.635, \"p\": 342, \"fpr\": 0.0, \"tpr\": 0.0, \"n\": 549}, {\"threshold\": 0.636, \"p\": 342, \"fpr\": 0.0, \"tpr\": 0.0, \"n\": 549}, {\"threshold\": 0.637, \"p\": 342, \"fpr\": 0.0, \"tpr\": 0.0, \"n\": 549}, {\"threshold\": 0.638, \"p\": 342, \"fpr\": 0.0, \"tpr\": 0.0, \"n\": 549}, {\"threshold\": 0.639, \"p\": 342, \"fpr\": 0.0, \"tpr\": 0.0, \"n\": 549}, {\"threshold\": 0.64, \"p\": 342, \"fpr\": 0.0, \"tpr\": 0.0, \"n\": 549}, {\"threshold\": 0.641, \"p\": 342, \"fpr\": 0.0, \"tpr\": 0.0, \"n\": 549}, {\"threshold\": 0.642, \"p\": 342, \"fpr\": 0.0, \"tpr\": 0.0, \"n\": 549}, {\"threshold\": 0.643, \"p\": 342, \"fpr\": 0.0, \"tpr\": 0.0, \"n\": 549}, {\"threshold\": 0.644, \"p\": 342, \"fpr\": 0.0, \"tpr\": 0.0, \"n\": 549}, {\"threshold\": 0.645, \"p\": 342, \"fpr\": 0.0, \"tpr\": 0.0, \"n\": 549}, {\"threshold\": 0.646, \"p\": 342, \"fpr\": 0.0, \"tpr\": 0.0, \"n\": 549}, {\"threshold\": 0.647, \"p\": 342, \"fpr\": 0.0, \"tpr\": 0.0, \"n\": 549}, {\"threshold\": 0.648, \"p\": 342, \"fpr\": 0.0, \"tpr\": 0.0, \"n\": 549}, {\"threshold\": 0.649, \"p\": 342, \"fpr\": 0.0, \"tpr\": 0.0, \"n\": 549}, {\"threshold\": 0.65, \"p\": 342, \"fpr\": 0.0, \"tpr\": 0.0, \"n\": 549}, {\"threshold\": 0.651, \"p\": 342, \"fpr\": 0.0, \"tpr\": 0.0, \"n\": 549}, {\"threshold\": 0.652, \"p\": 342, \"fpr\": 0.0, \"tpr\": 0.0, \"n\": 549}, {\"threshold\": 0.653, \"p\": 342, \"fpr\": 0.0, \"tpr\": 0.0, \"n\": 549}, {\"threshold\": 0.654, \"p\": 342, \"fpr\": 0.0, \"tpr\": 0.0, \"n\": 549}, {\"threshold\": 0.655, \"p\": 342, \"fpr\": 0.0, \"tpr\": 0.0, \"n\": 549}, {\"threshold\": 0.656, \"p\": 342, \"fpr\": 0.0, \"tpr\": 0.0, \"n\": 549}, {\"threshold\": 0.657, \"p\": 342, \"fpr\": 0.0, \"tpr\": 0.0, \"n\": 549}, {\"threshold\": 0.658, \"p\": 342, \"fpr\": 0.0, \"tpr\": 0.0, \"n\": 549}, {\"threshold\": 0.659, \"p\": 342, \"fpr\": 0.0, \"tpr\": 0.0, \"n\": 549}, {\"threshold\": 0.66, \"p\": 342, \"fpr\": 0.0, \"tpr\": 0.0, \"n\": 549}, {\"threshold\": 0.661, \"p\": 342, \"fpr\": 0.0, \"tpr\": 0.0, \"n\": 549}, {\"threshold\": 0.662, \"p\": 342, \"fpr\": 0.0, \"tpr\": 0.0, \"n\": 549}, {\"threshold\": 0.663, \"p\": 342, \"fpr\": 0.0, \"tpr\": 0.0, \"n\": 549}, {\"threshold\": 0.664, \"p\": 342, \"fpr\": 0.0, \"tpr\": 0.0, \"n\": 549}, {\"threshold\": 0.665, \"p\": 342, \"fpr\": 0.0, \"tpr\": 0.0, \"n\": 549}, {\"threshold\": 0.666, \"p\": 342, \"fpr\": 0.0, \"tpr\": 0.0, \"n\": 549}, {\"threshold\": 0.667, \"p\": 342, \"fpr\": 0.0, \"tpr\": 0.0, \"n\": 549}, {\"threshold\": 0.668, \"p\": 342, \"fpr\": 0.0, \"tpr\": 0.0, \"n\": 549}, {\"threshold\": 0.669, \"p\": 342, \"fpr\": 0.0, \"tpr\": 0.0, \"n\": 549}, {\"threshold\": 0.67, \"p\": 342, \"fpr\": 0.0, \"tpr\": 0.0, \"n\": 549}, {\"threshold\": 0.671, \"p\": 342, \"fpr\": 0.0, \"tpr\": 0.0, \"n\": 549}, {\"threshold\": 0.672, \"p\": 342, \"fpr\": 0.0, \"tpr\": 0.0, \"n\": 549}, {\"threshold\": 0.673, \"p\": 342, \"fpr\": 0.0, \"tpr\": 0.0, \"n\": 549}, {\"threshold\": 0.674, \"p\": 342, \"fpr\": 0.0, \"tpr\": 0.0, \"n\": 549}, {\"threshold\": 0.675, \"p\": 342, \"fpr\": 0.0, \"tpr\": 0.0, \"n\": 549}, {\"threshold\": 0.676, \"p\": 342, \"fpr\": 0.0, \"tpr\": 0.0, \"n\": 549}, {\"threshold\": 0.677, \"p\": 342, \"fpr\": 0.0, \"tpr\": 0.0, \"n\": 549}, {\"threshold\": 0.678, \"p\": 342, \"fpr\": 0.0, \"tpr\": 0.0, \"n\": 549}, {\"threshold\": 0.679, \"p\": 342, \"fpr\": 0.0, \"tpr\": 0.0, \"n\": 549}, {\"threshold\": 0.68, \"p\": 342, \"fpr\": 0.0, \"tpr\": 0.0, \"n\": 549}, {\"threshold\": 0.681, \"p\": 342, \"fpr\": 0.0, \"tpr\": 0.0, \"n\": 549}, {\"threshold\": 0.682, \"p\": 342, \"fpr\": 0.0, \"tpr\": 0.0, \"n\": 549}, {\"threshold\": 0.683, \"p\": 342, \"fpr\": 0.0, \"tpr\": 0.0, \"n\": 549}, {\"threshold\": 0.684, \"p\": 342, \"fpr\": 0.0, \"tpr\": 0.0, \"n\": 549}, {\"threshold\": 0.685, \"p\": 342, \"fpr\": 0.0, \"tpr\": 0.0, \"n\": 549}, {\"threshold\": 0.686, \"p\": 342, \"fpr\": 0.0, \"tpr\": 0.0, \"n\": 549}, {\"threshold\": 0.687, \"p\": 342, \"fpr\": 0.0, \"tpr\": 0.0, \"n\": 549}, {\"threshold\": 0.688, \"p\": 342, \"fpr\": 0.0, \"tpr\": 0.0, \"n\": 549}, {\"threshold\": 0.689, \"p\": 342, \"fpr\": 0.0, \"tpr\": 0.0, \"n\": 549}, {\"threshold\": 0.69, \"p\": 342, \"fpr\": 0.0, \"tpr\": 0.0, \"n\": 549}, {\"threshold\": 0.691, \"p\": 342, \"fpr\": 0.0, \"tpr\": 0.0, \"n\": 549}, {\"threshold\": 0.692, \"p\": 342, \"fpr\": 0.0, \"tpr\": 0.0, \"n\": 549}, {\"threshold\": 0.693, \"p\": 342, \"fpr\": 0.0, \"tpr\": 0.0, \"n\": 549}, {\"threshold\": 0.694, \"p\": 342, \"fpr\": 0.0, \"tpr\": 0.0, \"n\": 549}, {\"threshold\": 0.695, \"p\": 342, \"fpr\": 0.0, \"tpr\": 0.0, \"n\": 549}, {\"threshold\": 0.696, \"p\": 342, \"fpr\": 0.0, \"tpr\": 0.0, \"n\": 549}, {\"threshold\": 0.697, \"p\": 342, \"fpr\": 0.0, \"tpr\": 0.0, \"n\": 549}, {\"threshold\": 0.698, \"p\": 342, \"fpr\": 0.0, \"tpr\": 0.0, \"n\": 549}, {\"threshold\": 0.699, \"p\": 342, \"fpr\": 0.0, \"tpr\": 0.0, \"n\": 549}, {\"threshold\": 0.7, \"p\": 342, \"fpr\": 0.0, \"tpr\": 0.0, \"n\": 549}, {\"threshold\": 0.701, \"p\": 342, \"fpr\": 0.0, \"tpr\": 0.0, \"n\": 549}, {\"threshold\": 0.702, \"p\": 342, \"fpr\": 0.0, \"tpr\": 0.0, \"n\": 549}, {\"threshold\": 0.703, \"p\": 342, \"fpr\": 0.0, \"tpr\": 0.0, \"n\": 549}, {\"threshold\": 0.704, \"p\": 342, \"fpr\": 0.0, \"tpr\": 0.0, \"n\": 549}, {\"threshold\": 0.705, \"p\": 342, \"fpr\": 0.0, \"tpr\": 0.0, \"n\": 549}, {\"threshold\": 0.706, \"p\": 342, \"fpr\": 0.0, \"tpr\": 0.0, \"n\": 549}, {\"threshold\": 0.707, \"p\": 342, \"fpr\": 0.0, \"tpr\": 0.0, \"n\": 549}, {\"threshold\": 0.708, \"p\": 342, \"fpr\": 0.0, \"tpr\": 0.0, \"n\": 549}, {\"threshold\": 0.709, \"p\": 342, \"fpr\": 0.0, \"tpr\": 0.0, \"n\": 549}, {\"threshold\": 0.71, \"p\": 342, \"fpr\": 0.0, \"tpr\": 0.0, \"n\": 549}, {\"threshold\": 0.711, \"p\": 342, \"fpr\": 0.0, \"tpr\": 0.0, \"n\": 549}, {\"threshold\": 0.712, \"p\": 342, \"fpr\": 0.0, \"tpr\": 0.0, \"n\": 549}, {\"threshold\": 0.713, \"p\": 342, \"fpr\": 0.0, \"tpr\": 0.0, \"n\": 549}, {\"threshold\": 0.714, \"p\": 342, \"fpr\": 0.0, \"tpr\": 0.0, \"n\": 549}, {\"threshold\": 0.715, \"p\": 342, \"fpr\": 0.0, \"tpr\": 0.0, \"n\": 549}, {\"threshold\": 0.716, \"p\": 342, \"fpr\": 0.0, \"tpr\": 0.0, \"n\": 549}, {\"threshold\": 0.717, \"p\": 342, \"fpr\": 0.0, \"tpr\": 0.0, \"n\": 549}, {\"threshold\": 0.718, \"p\": 342, \"fpr\": 0.0, \"tpr\": 0.0, \"n\": 549}, {\"threshold\": 0.719, \"p\": 342, \"fpr\": 0.0, \"tpr\": 0.0, \"n\": 549}, {\"threshold\": 0.72, \"p\": 342, \"fpr\": 0.0, \"tpr\": 0.0, \"n\": 549}, {\"threshold\": 0.721, \"p\": 342, \"fpr\": 0.0, \"tpr\": 0.0, \"n\": 549}, {\"threshold\": 0.722, \"p\": 342, \"fpr\": 0.0, \"tpr\": 0.0, \"n\": 549}, {\"threshold\": 0.723, \"p\": 342, \"fpr\": 0.0, \"tpr\": 0.0, \"n\": 549}, {\"threshold\": 0.724, \"p\": 342, \"fpr\": 0.0, \"tpr\": 0.0, \"n\": 549}, {\"threshold\": 0.725, \"p\": 342, \"fpr\": 0.0, \"tpr\": 0.0, \"n\": 549}, {\"threshold\": 0.726, \"p\": 342, \"fpr\": 0.0, \"tpr\": 0.0, \"n\": 549}, {\"threshold\": 0.727, \"p\": 342, \"fpr\": 0.0, \"tpr\": 0.0, \"n\": 549}, {\"threshold\": 0.728, \"p\": 342, \"fpr\": 0.0, \"tpr\": 0.0, \"n\": 549}, {\"threshold\": 0.729, \"p\": 342, \"fpr\": 0.0, \"tpr\": 0.0, \"n\": 549}, {\"threshold\": 0.73, \"p\": 342, \"fpr\": 0.0, \"tpr\": 0.0, \"n\": 549}, {\"threshold\": 0.731, \"p\": 342, \"fpr\": 0.0, \"tpr\": 0.0, \"n\": 549}, {\"threshold\": 0.732, \"p\": 342, \"fpr\": 0.0, \"tpr\": 0.0, \"n\": 549}, {\"threshold\": 0.733, \"p\": 342, \"fpr\": 0.0, \"tpr\": 0.0, \"n\": 549}, {\"threshold\": 0.734, \"p\": 342, \"fpr\": 0.0, \"tpr\": 0.0, \"n\": 549}, {\"threshold\": 0.735, \"p\": 342, \"fpr\": 0.0, \"tpr\": 0.0, \"n\": 549}, {\"threshold\": 0.736, \"p\": 342, \"fpr\": 0.0, \"tpr\": 0.0, \"n\": 549}, {\"threshold\": 0.737, \"p\": 342, \"fpr\": 0.0, \"tpr\": 0.0, \"n\": 549}, {\"threshold\": 0.738, \"p\": 342, \"fpr\": 0.0, \"tpr\": 0.0, \"n\": 549}, {\"threshold\": 0.739, \"p\": 342, \"fpr\": 0.0, \"tpr\": 0.0, \"n\": 549}, {\"threshold\": 0.74, \"p\": 342, \"fpr\": 0.0, \"tpr\": 0.0, \"n\": 549}, {\"threshold\": 0.741, \"p\": 342, \"fpr\": 0.0, \"tpr\": 0.0, \"n\": 549}, {\"threshold\": 0.742, \"p\": 342, \"fpr\": 0.0, \"tpr\": 0.0, \"n\": 549}, {\"threshold\": 0.743, \"p\": 342, \"fpr\": 0.0, \"tpr\": 0.0, \"n\": 549}, {\"threshold\": 0.744, \"p\": 342, \"fpr\": 0.0, \"tpr\": 0.0, \"n\": 549}, {\"threshold\": 0.745, \"p\": 342, \"fpr\": 0.0, \"tpr\": 0.0, \"n\": 549}, {\"threshold\": 0.746, \"p\": 342, \"fpr\": 0.0, \"tpr\": 0.0, \"n\": 549}, {\"threshold\": 0.747, \"p\": 342, \"fpr\": 0.0, \"tpr\": 0.0, \"n\": 549}, {\"threshold\": 0.748, \"p\": 342, \"fpr\": 0.0, \"tpr\": 0.0, \"n\": 549}, {\"threshold\": 0.749, \"p\": 342, \"fpr\": 0.0, \"tpr\": 0.0, \"n\": 549}, {\"threshold\": 0.75, \"p\": 342, \"fpr\": 0.0, \"tpr\": 0.0, \"n\": 549}, {\"threshold\": 0.751, \"p\": 342, \"fpr\": 0.0, \"tpr\": 0.0, \"n\": 549}, {\"threshold\": 0.752, \"p\": 342, \"fpr\": 0.0, \"tpr\": 0.0, \"n\": 549}, {\"threshold\": 0.753, \"p\": 342, \"fpr\": 0.0, \"tpr\": 0.0, \"n\": 549}, {\"threshold\": 0.754, \"p\": 342, \"fpr\": 0.0, \"tpr\": 0.0, \"n\": 549}, {\"threshold\": 0.755, \"p\": 342, \"fpr\": 0.0, \"tpr\": 0.0, \"n\": 549}, {\"threshold\": 0.756, \"p\": 342, \"fpr\": 0.0, \"tpr\": 0.0, \"n\": 549}, {\"threshold\": 0.757, \"p\": 342, \"fpr\": 0.0, \"tpr\": 0.0, \"n\": 549}, {\"threshold\": 0.758, \"p\": 342, \"fpr\": 0.0, \"tpr\": 0.0, \"n\": 549}, {\"threshold\": 0.759, \"p\": 342, \"fpr\": 0.0, \"tpr\": 0.0, \"n\": 549}, {\"threshold\": 0.76, \"p\": 342, \"fpr\": 0.0, \"tpr\": 0.0, \"n\": 549}, {\"threshold\": 0.761, \"p\": 342, \"fpr\": 0.0, \"tpr\": 0.0, \"n\": 549}, {\"threshold\": 0.762, \"p\": 342, \"fpr\": 0.0, \"tpr\": 0.0, \"n\": 549}, {\"threshold\": 0.763, \"p\": 342, \"fpr\": 0.0, \"tpr\": 0.0, \"n\": 549}, {\"threshold\": 0.764, \"p\": 342, \"fpr\": 0.0, \"tpr\": 0.0, \"n\": 549}, {\"threshold\": 0.765, \"p\": 342, \"fpr\": 0.0, \"tpr\": 0.0, \"n\": 549}, {\"threshold\": 0.766, \"p\": 342, \"fpr\": 0.0, \"tpr\": 0.0, \"n\": 549}, {\"threshold\": 0.767, \"p\": 342, \"fpr\": 0.0, \"tpr\": 0.0, \"n\": 549}, {\"threshold\": 0.768, \"p\": 342, \"fpr\": 0.0, \"tpr\": 0.0, \"n\": 549}, {\"threshold\": 0.769, \"p\": 342, \"fpr\": 0.0, \"tpr\": 0.0, \"n\": 549}, {\"threshold\": 0.77, \"p\": 342, \"fpr\": 0.0, \"tpr\": 0.0, \"n\": 549}, {\"threshold\": 0.771, \"p\": 342, \"fpr\": 0.0, \"tpr\": 0.0, \"n\": 549}, {\"threshold\": 0.772, \"p\": 342, \"fpr\": 0.0, \"tpr\": 0.0, \"n\": 549}, {\"threshold\": 0.773, \"p\": 342, \"fpr\": 0.0, \"tpr\": 0.0, \"n\": 549}, {\"threshold\": 0.774, \"p\": 342, \"fpr\": 0.0, \"tpr\": 0.0, \"n\": 549}, {\"threshold\": 0.775, \"p\": 342, \"fpr\": 0.0, \"tpr\": 0.0, \"n\": 549}, {\"threshold\": 0.776, \"p\": 342, \"fpr\": 0.0, \"tpr\": 0.0, \"n\": 549}, {\"threshold\": 0.777, \"p\": 342, \"fpr\": 0.0, \"tpr\": 0.0, \"n\": 549}, {\"threshold\": 0.778, \"p\": 342, \"fpr\": 0.0, \"tpr\": 0.0, \"n\": 549}, {\"threshold\": 0.779, \"p\": 342, \"fpr\": 0.0, \"tpr\": 0.0, \"n\": 549}, {\"threshold\": 0.78, \"p\": 342, \"fpr\": 0.0, \"tpr\": 0.0, \"n\": 549}, {\"threshold\": 0.781, \"p\": 342, \"fpr\": 0.0, \"tpr\": 0.0, \"n\": 549}, {\"threshold\": 0.782, \"p\": 342, \"fpr\": 0.0, \"tpr\": 0.0, \"n\": 549}, {\"threshold\": 0.783, \"p\": 342, \"fpr\": 0.0, \"tpr\": 0.0, \"n\": 549}, {\"threshold\": 0.784, \"p\": 342, \"fpr\": 0.0, \"tpr\": 0.0, \"n\": 549}, {\"threshold\": 0.785, \"p\": 342, \"fpr\": 0.0, \"tpr\": 0.0, \"n\": 549}, {\"threshold\": 0.786, \"p\": 342, \"fpr\": 0.0, \"tpr\": 0.0, \"n\": 549}, {\"threshold\": 0.787, \"p\": 342, \"fpr\": 0.0, \"tpr\": 0.0, \"n\": 549}, {\"threshold\": 0.788, \"p\": 342, \"fpr\": 0.0, \"tpr\": 0.0, \"n\": 549}, {\"threshold\": 0.789, \"p\": 342, \"fpr\": 0.0, \"tpr\": 0.0, \"n\": 549}, {\"threshold\": 0.79, \"p\": 342, \"fpr\": 0.0, \"tpr\": 0.0, \"n\": 549}, {\"threshold\": 0.791, \"p\": 342, \"fpr\": 0.0, \"tpr\": 0.0, \"n\": 549}, {\"threshold\": 0.792, \"p\": 342, \"fpr\": 0.0, \"tpr\": 0.0, \"n\": 549}, {\"threshold\": 0.793, \"p\": 342, \"fpr\": 0.0, \"tpr\": 0.0, \"n\": 549}, {\"threshold\": 0.794, \"p\": 342, \"fpr\": 0.0, \"tpr\": 0.0, \"n\": 549}, {\"threshold\": 0.795, \"p\": 342, \"fpr\": 0.0, \"tpr\": 0.0, \"n\": 549}, {\"threshold\": 0.796, \"p\": 342, \"fpr\": 0.0, \"tpr\": 0.0, \"n\": 549}, {\"threshold\": 0.797, \"p\": 342, \"fpr\": 0.0, \"tpr\": 0.0, \"n\": 549}, {\"threshold\": 0.798, \"p\": 342, \"fpr\": 0.0, \"tpr\": 0.0, \"n\": 549}, {\"threshold\": 0.799, \"p\": 342, \"fpr\": 0.0, \"tpr\": 0.0, \"n\": 549}, {\"threshold\": 0.8, \"p\": 342, \"fpr\": 0.0, \"tpr\": 0.0, \"n\": 549}, {\"threshold\": 0.801, \"p\": 342, \"fpr\": 0.0, \"tpr\": 0.0, \"n\": 549}, {\"threshold\": 0.802, \"p\": 342, \"fpr\": 0.0, \"tpr\": 0.0, \"n\": 549}, {\"threshold\": 0.803, \"p\": 342, \"fpr\": 0.0, \"tpr\": 0.0, \"n\": 549}, {\"threshold\": 0.804, \"p\": 342, \"fpr\": 0.0, \"tpr\": 0.0, \"n\": 549}, {\"threshold\": 0.805, \"p\": 342, \"fpr\": 0.0, \"tpr\": 0.0, \"n\": 549}, {\"threshold\": 0.806, \"p\": 342, \"fpr\": 0.0, \"tpr\": 0.0, \"n\": 549}, {\"threshold\": 0.807, \"p\": 342, \"fpr\": 0.0, \"tpr\": 0.0, \"n\": 549}, {\"threshold\": 0.808, \"p\": 342, \"fpr\": 0.0, \"tpr\": 0.0, \"n\": 549}, {\"threshold\": 0.809, \"p\": 342, \"fpr\": 0.0, \"tpr\": 0.0, \"n\": 549}, {\"threshold\": 0.81, \"p\": 342, \"fpr\": 0.0, \"tpr\": 0.0, \"n\": 549}, {\"threshold\": 0.811, \"p\": 342, \"fpr\": 0.0, \"tpr\": 0.0, \"n\": 549}, {\"threshold\": 0.812, \"p\": 342, \"fpr\": 0.0, \"tpr\": 0.0, \"n\": 549}, {\"threshold\": 0.813, \"p\": 342, \"fpr\": 0.0, \"tpr\": 0.0, \"n\": 549}, {\"threshold\": 0.814, \"p\": 342, \"fpr\": 0.0, \"tpr\": 0.0, \"n\": 549}, {\"threshold\": 0.815, \"p\": 342, \"fpr\": 0.0, \"tpr\": 0.0, \"n\": 549}, {\"threshold\": 0.816, \"p\": 342, \"fpr\": 0.0, \"tpr\": 0.0, \"n\": 549}, {\"threshold\": 0.817, \"p\": 342, \"fpr\": 0.0, \"tpr\": 0.0, \"n\": 549}, {\"threshold\": 0.818, \"p\": 342, \"fpr\": 0.0, \"tpr\": 0.0, \"n\": 549}, {\"threshold\": 0.819, \"p\": 342, \"fpr\": 0.0, \"tpr\": 0.0, \"n\": 549}, {\"threshold\": 0.82, \"p\": 342, \"fpr\": 0.0, \"tpr\": 0.0, \"n\": 549}, {\"threshold\": 0.821, \"p\": 342, \"fpr\": 0.0, \"tpr\": 0.0, \"n\": 549}, {\"threshold\": 0.822, \"p\": 342, \"fpr\": 0.0, \"tpr\": 0.0, \"n\": 549}, {\"threshold\": 0.823, \"p\": 342, \"fpr\": 0.0, \"tpr\": 0.0, \"n\": 549}, {\"threshold\": 0.824, \"p\": 342, \"fpr\": 0.0, \"tpr\": 0.0, \"n\": 549}, {\"threshold\": 0.825, \"p\": 342, \"fpr\": 0.0, \"tpr\": 0.0, \"n\": 549}, {\"threshold\": 0.826, \"p\": 342, \"fpr\": 0.0, \"tpr\": 0.0, \"n\": 549}, {\"threshold\": 0.827, \"p\": 342, \"fpr\": 0.0, \"tpr\": 0.0, \"n\": 549}, {\"threshold\": 0.828, \"p\": 342, \"fpr\": 0.0, \"tpr\": 0.0, \"n\": 549}, {\"threshold\": 0.829, \"p\": 342, \"fpr\": 0.0, \"tpr\": 0.0, \"n\": 549}, {\"threshold\": 0.83, \"p\": 342, \"fpr\": 0.0, \"tpr\": 0.0, \"n\": 549}, {\"threshold\": 0.831, \"p\": 342, \"fpr\": 0.0, \"tpr\": 0.0, \"n\": 549}, {\"threshold\": 0.832, \"p\": 342, \"fpr\": 0.0, \"tpr\": 0.0, \"n\": 549}, {\"threshold\": 0.833, \"p\": 342, \"fpr\": 0.0, \"tpr\": 0.0, \"n\": 549}, {\"threshold\": 0.834, \"p\": 342, \"fpr\": 0.0, \"tpr\": 0.0, \"n\": 549}, {\"threshold\": 0.835, \"p\": 342, \"fpr\": 0.0, \"tpr\": 0.0, \"n\": 549}, {\"threshold\": 0.836, \"p\": 342, \"fpr\": 0.0, \"tpr\": 0.0, \"n\": 549}, {\"threshold\": 0.837, \"p\": 342, \"fpr\": 0.0, \"tpr\": 0.0, \"n\": 549}, {\"threshold\": 0.838, \"p\": 342, \"fpr\": 0.0, \"tpr\": 0.0, \"n\": 549}, {\"threshold\": 0.839, \"p\": 342, \"fpr\": 0.0, \"tpr\": 0.0, \"n\": 549}, {\"threshold\": 0.84, \"p\": 342, \"fpr\": 0.0, \"tpr\": 0.0, \"n\": 549}, {\"threshold\": 0.841, \"p\": 342, \"fpr\": 0.0, \"tpr\": 0.0, \"n\": 549}, {\"threshold\": 0.842, \"p\": 342, \"fpr\": 0.0, \"tpr\": 0.0, \"n\": 549}, {\"threshold\": 0.843, \"p\": 342, \"fpr\": 0.0, \"tpr\": 0.0, \"n\": 549}, {\"threshold\": 0.844, \"p\": 342, \"fpr\": 0.0, \"tpr\": 0.0, \"n\": 549}, {\"threshold\": 0.845, \"p\": 342, \"fpr\": 0.0, \"tpr\": 0.0, \"n\": 549}, {\"threshold\": 0.846, \"p\": 342, \"fpr\": 0.0, \"tpr\": 0.0, \"n\": 549}, {\"threshold\": 0.847, \"p\": 342, \"fpr\": 0.0, \"tpr\": 0.0, \"n\": 549}, {\"threshold\": 0.848, \"p\": 342, \"fpr\": 0.0, \"tpr\": 0.0, \"n\": 549}, {\"threshold\": 0.849, \"p\": 342, \"fpr\": 0.0, \"tpr\": 0.0, \"n\": 549}, {\"threshold\": 0.85, \"p\": 342, \"fpr\": 0.0, \"tpr\": 0.0, \"n\": 549}, {\"threshold\": 0.851, \"p\": 342, \"fpr\": 0.0, \"tpr\": 0.0, \"n\": 549}, {\"threshold\": 0.852, \"p\": 342, \"fpr\": 0.0, \"tpr\": 0.0, \"n\": 549}, {\"threshold\": 0.853, \"p\": 342, \"fpr\": 0.0, \"tpr\": 0.0, \"n\": 549}, {\"threshold\": 0.854, \"p\": 342, \"fpr\": 0.0, \"tpr\": 0.0, \"n\": 549}, {\"threshold\": 0.855, \"p\": 342, \"fpr\": 0.0, \"tpr\": 0.0, \"n\": 549}, {\"threshold\": 0.856, \"p\": 342, \"fpr\": 0.0, \"tpr\": 0.0, \"n\": 549}, {\"threshold\": 0.857, \"p\": 342, \"fpr\": 0.0, \"tpr\": 0.0, \"n\": 549}, {\"threshold\": 0.858, \"p\": 342, \"fpr\": 0.0, \"tpr\": 0.0, \"n\": 549}, {\"threshold\": 0.859, \"p\": 342, \"fpr\": 0.0, \"tpr\": 0.0, \"n\": 549}, {\"threshold\": 0.86, \"p\": 342, \"fpr\": 0.0, \"tpr\": 0.0, \"n\": 549}, {\"threshold\": 0.861, \"p\": 342, \"fpr\": 0.0, \"tpr\": 0.0, \"n\": 549}, {\"threshold\": 0.862, \"p\": 342, \"fpr\": 0.0, \"tpr\": 0.0, \"n\": 549}, {\"threshold\": 0.863, \"p\": 342, \"fpr\": 0.0, \"tpr\": 0.0, \"n\": 549}, {\"threshold\": 0.864, \"p\": 342, \"fpr\": 0.0, \"tpr\": 0.0, \"n\": 549}, {\"threshold\": 0.865, \"p\": 342, \"fpr\": 0.0, \"tpr\": 0.0, \"n\": 549}, {\"threshold\": 0.866, \"p\": 342, \"fpr\": 0.0, \"tpr\": 0.0, \"n\": 549}, {\"threshold\": 0.867, \"p\": 342, \"fpr\": 0.0, \"tpr\": 0.0, \"n\": 549}, {\"threshold\": 0.868, \"p\": 342, \"fpr\": 0.0, \"tpr\": 0.0, \"n\": 549}, {\"threshold\": 0.869, \"p\": 342, \"fpr\": 0.0, \"tpr\": 0.0, \"n\": 549}, {\"threshold\": 0.87, \"p\": 342, \"fpr\": 0.0, \"tpr\": 0.0, \"n\": 549}, {\"threshold\": 0.871, \"p\": 342, \"fpr\": 0.0, \"tpr\": 0.0, \"n\": 549}, {\"threshold\": 0.872, \"p\": 342, \"fpr\": 0.0, \"tpr\": 0.0, \"n\": 549}, {\"threshold\": 0.873, \"p\": 342, \"fpr\": 0.0, \"tpr\": 0.0, \"n\": 549}, {\"threshold\": 0.874, \"p\": 342, \"fpr\": 0.0, \"tpr\": 0.0, \"n\": 549}, {\"threshold\": 0.875, \"p\": 342, \"fpr\": 0.0, \"tpr\": 0.0, \"n\": 549}, {\"threshold\": 0.876, \"p\": 342, \"fpr\": 0.0, \"tpr\": 0.0, \"n\": 549}, {\"threshold\": 0.877, \"p\": 342, \"fpr\": 0.0, \"tpr\": 0.0, \"n\": 549}, {\"threshold\": 0.878, \"p\": 342, \"fpr\": 0.0, \"tpr\": 0.0, \"n\": 549}, {\"threshold\": 0.879, \"p\": 342, \"fpr\": 0.0, \"tpr\": 0.0, \"n\": 549}, {\"threshold\": 0.88, \"p\": 342, \"fpr\": 0.0, \"tpr\": 0.0, \"n\": 549}, {\"threshold\": 0.881, \"p\": 342, \"fpr\": 0.0, \"tpr\": 0.0, \"n\": 549}, {\"threshold\": 0.882, \"p\": 342, \"fpr\": 0.0, \"tpr\": 0.0, \"n\": 549}, {\"threshold\": 0.883, \"p\": 342, \"fpr\": 0.0, \"tpr\": 0.0, \"n\": 549}, {\"threshold\": 0.884, \"p\": 342, \"fpr\": 0.0, \"tpr\": 0.0, \"n\": 549}, {\"threshold\": 0.885, \"p\": 342, \"fpr\": 0.0, \"tpr\": 0.0, \"n\": 549}, {\"threshold\": 0.886, \"p\": 342, \"fpr\": 0.0, \"tpr\": 0.0, \"n\": 549}, {\"threshold\": 0.887, \"p\": 342, \"fpr\": 0.0, \"tpr\": 0.0, \"n\": 549}, {\"threshold\": 0.888, \"p\": 342, \"fpr\": 0.0, \"tpr\": 0.0, \"n\": 549}, {\"threshold\": 0.889, \"p\": 342, \"fpr\": 0.0, \"tpr\": 0.0, \"n\": 549}, {\"threshold\": 0.89, \"p\": 342, \"fpr\": 0.0, \"tpr\": 0.0, \"n\": 549}, {\"threshold\": 0.891, \"p\": 342, \"fpr\": 0.0, \"tpr\": 0.0, \"n\": 549}, {\"threshold\": 0.892, \"p\": 342, \"fpr\": 0.0, \"tpr\": 0.0, \"n\": 549}, {\"threshold\": 0.893, \"p\": 342, \"fpr\": 0.0, \"tpr\": 0.0, \"n\": 549}, {\"threshold\": 0.894, \"p\": 342, \"fpr\": 0.0, \"tpr\": 0.0, \"n\": 549}, {\"threshold\": 0.895, \"p\": 342, \"fpr\": 0.0, \"tpr\": 0.0, \"n\": 549}, {\"threshold\": 0.896, \"p\": 342, \"fpr\": 0.0, \"tpr\": 0.0, \"n\": 549}, {\"threshold\": 0.897, \"p\": 342, \"fpr\": 0.0, \"tpr\": 0.0, \"n\": 549}, {\"threshold\": 0.898, \"p\": 342, \"fpr\": 0.0, \"tpr\": 0.0, \"n\": 549}, {\"threshold\": 0.899, \"p\": 342, \"fpr\": 0.0, \"tpr\": 0.0, \"n\": 549}, {\"threshold\": 0.9, \"p\": 342, \"fpr\": 0.0, \"tpr\": 0.0, \"n\": 549}, {\"threshold\": 0.901, \"p\": 342, \"fpr\": 0.0, \"tpr\": 0.0, \"n\": 549}, {\"threshold\": 0.902, \"p\": 342, \"fpr\": 0.0, \"tpr\": 0.0, \"n\": 549}, {\"threshold\": 0.903, \"p\": 342, \"fpr\": 0.0, \"tpr\": 0.0, \"n\": 549}, {\"threshold\": 0.904, \"p\": 342, \"fpr\": 0.0, \"tpr\": 0.0, \"n\": 549}, {\"threshold\": 0.905, \"p\": 342, \"fpr\": 0.0, \"tpr\": 0.0, \"n\": 549}, {\"threshold\": 0.906, \"p\": 342, \"fpr\": 0.0, \"tpr\": 0.0, \"n\": 549}, {\"threshold\": 0.907, \"p\": 342, \"fpr\": 0.0, \"tpr\": 0.0, \"n\": 549}, {\"threshold\": 0.908, \"p\": 342, \"fpr\": 0.0, \"tpr\": 0.0, \"n\": 549}, {\"threshold\": 0.909, \"p\": 342, \"fpr\": 0.0, \"tpr\": 0.0, \"n\": 549}, {\"threshold\": 0.91, \"p\": 342, \"fpr\": 0.0, \"tpr\": 0.0, \"n\": 549}, {\"threshold\": 0.911, \"p\": 342, \"fpr\": 0.0, \"tpr\": 0.0, \"n\": 549}, {\"threshold\": 0.912, \"p\": 342, \"fpr\": 0.0, \"tpr\": 0.0, \"n\": 549}, {\"threshold\": 0.913, \"p\": 342, \"fpr\": 0.0, \"tpr\": 0.0, \"n\": 549}, {\"threshold\": 0.914, \"p\": 342, \"fpr\": 0.0, \"tpr\": 0.0, \"n\": 549}, {\"threshold\": 0.915, \"p\": 342, \"fpr\": 0.0, \"tpr\": 0.0, \"n\": 549}, {\"threshold\": 0.916, \"p\": 342, \"fpr\": 0.0, \"tpr\": 0.0, \"n\": 549}, {\"threshold\": 0.917, \"p\": 342, \"fpr\": 0.0, \"tpr\": 0.0, \"n\": 549}, {\"threshold\": 0.918, \"p\": 342, \"fpr\": 0.0, \"tpr\": 0.0, \"n\": 549}, {\"threshold\": 0.919, \"p\": 342, \"fpr\": 0.0, \"tpr\": 0.0, \"n\": 549}, {\"threshold\": 0.92, \"p\": 342, \"fpr\": 0.0, \"tpr\": 0.0, \"n\": 549}, {\"threshold\": 0.921, \"p\": 342, \"fpr\": 0.0, \"tpr\": 0.0, \"n\": 549}, {\"threshold\": 0.922, \"p\": 342, \"fpr\": 0.0, \"tpr\": 0.0, \"n\": 549}, {\"threshold\": 0.923, \"p\": 342, \"fpr\": 0.0, \"tpr\": 0.0, \"n\": 549}, {\"threshold\": 0.924, \"p\": 342, \"fpr\": 0.0, \"tpr\": 0.0, \"n\": 549}, {\"threshold\": 0.925, \"p\": 342, \"fpr\": 0.0, \"tpr\": 0.0, \"n\": 549}, {\"threshold\": 0.926, \"p\": 342, \"fpr\": 0.0, \"tpr\": 0.0, \"n\": 549}, {\"threshold\": 0.927, \"p\": 342, \"fpr\": 0.0, \"tpr\": 0.0, \"n\": 549}, {\"threshold\": 0.928, \"p\": 342, \"fpr\": 0.0, \"tpr\": 0.0, \"n\": 549}, {\"threshold\": 0.929, \"p\": 342, \"fpr\": 0.0, \"tpr\": 0.0, \"n\": 549}, {\"threshold\": 0.93, \"p\": 342, \"fpr\": 0.0, \"tpr\": 0.0, \"n\": 549}, {\"threshold\": 0.931, \"p\": 342, \"fpr\": 0.0, \"tpr\": 0.0, \"n\": 549}, {\"threshold\": 0.932, \"p\": 342, \"fpr\": 0.0, \"tpr\": 0.0, \"n\": 549}, {\"threshold\": 0.933, \"p\": 342, \"fpr\": 0.0, \"tpr\": 0.0, \"n\": 549}, {\"threshold\": 0.934, \"p\": 342, \"fpr\": 0.0, \"tpr\": 0.0, \"n\": 549}, {\"threshold\": 0.935, \"p\": 342, \"fpr\": 0.0, \"tpr\": 0.0, \"n\": 549}, {\"threshold\": 0.936, \"p\": 342, \"fpr\": 0.0, \"tpr\": 0.0, \"n\": 549}, {\"threshold\": 0.937, \"p\": 342, \"fpr\": 0.0, \"tpr\": 0.0, \"n\": 549}, {\"threshold\": 0.938, \"p\": 342, \"fpr\": 0.0, \"tpr\": 0.0, \"n\": 549}, {\"threshold\": 0.939, \"p\": 342, \"fpr\": 0.0, \"tpr\": 0.0, \"n\": 549}, {\"threshold\": 0.94, \"p\": 342, \"fpr\": 0.0, \"tpr\": 0.0, \"n\": 549}, {\"threshold\": 0.941, \"p\": 342, \"fpr\": 0.0, \"tpr\": 0.0, \"n\": 549}, {\"threshold\": 0.942, \"p\": 342, \"fpr\": 0.0, \"tpr\": 0.0, \"n\": 549}, {\"threshold\": 0.943, \"p\": 342, \"fpr\": 0.0, \"tpr\": 0.0, \"n\": 549}, {\"threshold\": 0.944, \"p\": 342, \"fpr\": 0.0, \"tpr\": 0.0, \"n\": 549}, {\"threshold\": 0.945, \"p\": 342, \"fpr\": 0.0, \"tpr\": 0.0, \"n\": 549}, {\"threshold\": 0.946, \"p\": 342, \"fpr\": 0.0, \"tpr\": 0.0, \"n\": 549}, {\"threshold\": 0.947, \"p\": 342, \"fpr\": 0.0, \"tpr\": 0.0, \"n\": 549}, {\"threshold\": 0.948, \"p\": 342, \"fpr\": 0.0, \"tpr\": 0.0, \"n\": 549}, {\"threshold\": 0.949, \"p\": 342, \"fpr\": 0.0, \"tpr\": 0.0, \"n\": 549}, {\"threshold\": 0.95, \"p\": 342, \"fpr\": 0.0, \"tpr\": 0.0, \"n\": 549}, {\"threshold\": 0.951, \"p\": 342, \"fpr\": 0.0, \"tpr\": 0.0, \"n\": 549}, {\"threshold\": 0.952, \"p\": 342, \"fpr\": 0.0, \"tpr\": 0.0, \"n\": 549}, {\"threshold\": 0.953, \"p\": 342, \"fpr\": 0.0, \"tpr\": 0.0, \"n\": 549}, {\"threshold\": 0.954, \"p\": 342, \"fpr\": 0.0, \"tpr\": 0.0, \"n\": 549}, {\"threshold\": 0.955, \"p\": 342, \"fpr\": 0.0, \"tpr\": 0.0, \"n\": 549}, {\"threshold\": 0.956, \"p\": 342, \"fpr\": 0.0, \"tpr\": 0.0, \"n\": 549}, {\"threshold\": 0.957, \"p\": 342, \"fpr\": 0.0, \"tpr\": 0.0, \"n\": 549}, {\"threshold\": 0.958, \"p\": 342, \"fpr\": 0.0, \"tpr\": 0.0, \"n\": 549}, {\"threshold\": 0.959, \"p\": 342, \"fpr\": 0.0, \"tpr\": 0.0, \"n\": 549}, {\"threshold\": 0.96, \"p\": 342, \"fpr\": 0.0, \"tpr\": 0.0, \"n\": 549}, {\"threshold\": 0.961, \"p\": 342, \"fpr\": 0.0, \"tpr\": 0.0, \"n\": 549}, {\"threshold\": 0.962, \"p\": 342, \"fpr\": 0.0, \"tpr\": 0.0, \"n\": 549}, {\"threshold\": 0.963, \"p\": 342, \"fpr\": 0.0, \"tpr\": 0.0, \"n\": 549}, {\"threshold\": 0.964, \"p\": 342, \"fpr\": 0.0, \"tpr\": 0.0, \"n\": 549}, {\"threshold\": 0.965, \"p\": 342, \"fpr\": 0.0, \"tpr\": 0.0, \"n\": 549}, {\"threshold\": 0.966, \"p\": 342, \"fpr\": 0.0, \"tpr\": 0.0, \"n\": 549}, {\"threshold\": 0.967, \"p\": 342, \"fpr\": 0.0, \"tpr\": 0.0, \"n\": 549}, {\"threshold\": 0.968, \"p\": 342, \"fpr\": 0.0, \"tpr\": 0.0, \"n\": 549}, {\"threshold\": 0.969, \"p\": 342, \"fpr\": 0.0, \"tpr\": 0.0, \"n\": 549}, {\"threshold\": 0.97, \"p\": 342, \"fpr\": 0.0, \"tpr\": 0.0, \"n\": 549}, {\"threshold\": 0.971, \"p\": 342, \"fpr\": 0.0, \"tpr\": 0.0, \"n\": 549}, {\"threshold\": 0.972, \"p\": 342, \"fpr\": 0.0, \"tpr\": 0.0, \"n\": 549}, {\"threshold\": 0.973, \"p\": 342, \"fpr\": 0.0, \"tpr\": 0.0, \"n\": 549}, {\"threshold\": 0.974, \"p\": 342, \"fpr\": 0.0, \"tpr\": 0.0, \"n\": 549}, {\"threshold\": 0.975, \"p\": 342, \"fpr\": 0.0, \"tpr\": 0.0, \"n\": 549}, {\"threshold\": 0.976, \"p\": 342, \"fpr\": 0.0, \"tpr\": 0.0, \"n\": 549}, {\"threshold\": 0.977, \"p\": 342, \"fpr\": 0.0, \"tpr\": 0.0, \"n\": 549}, {\"threshold\": 0.978, \"p\": 342, \"fpr\": 0.0, \"tpr\": 0.0, \"n\": 549}, {\"threshold\": 0.979, \"p\": 342, \"fpr\": 0.0, \"tpr\": 0.0, \"n\": 549}, {\"threshold\": 0.98, \"p\": 342, \"fpr\": 0.0, \"tpr\": 0.0, \"n\": 549}, {\"threshold\": 0.981, \"p\": 342, \"fpr\": 0.0, \"tpr\": 0.0, \"n\": 549}, {\"threshold\": 0.982, \"p\": 342, \"fpr\": 0.0, \"tpr\": 0.0, \"n\": 549}, {\"threshold\": 0.983, \"p\": 342, \"fpr\": 0.0, \"tpr\": 0.0, \"n\": 549}, {\"threshold\": 0.984, \"p\": 342, \"fpr\": 0.0, \"tpr\": 0.0, \"n\": 549}, {\"threshold\": 0.985, \"p\": 342, \"fpr\": 0.0, \"tpr\": 0.0, \"n\": 549}, {\"threshold\": 0.986, \"p\": 342, \"fpr\": 0.0, \"tpr\": 0.0, \"n\": 549}, {\"threshold\": 0.987, \"p\": 342, \"fpr\": 0.0, \"tpr\": 0.0, \"n\": 549}, {\"threshold\": 0.988, \"p\": 342, \"fpr\": 0.0, \"tpr\": 0.0, \"n\": 549}, {\"threshold\": 0.989, \"p\": 342, \"fpr\": 0.0, \"tpr\": 0.0, \"n\": 549}, {\"threshold\": 0.99, \"p\": 342, \"fpr\": 0.0, \"tpr\": 0.0, \"n\": 549}, {\"threshold\": 0.991, \"p\": 342, \"fpr\": 0.0, \"tpr\": 0.0, \"n\": 549}, {\"threshold\": 0.992, \"p\": 342, \"fpr\": 0.0, \"tpr\": 0.0, \"n\": 549}, {\"threshold\": 0.993, \"p\": 342, \"fpr\": 0.0, \"tpr\": 0.0, \"n\": 549}, {\"threshold\": 0.994, \"p\": 342, \"fpr\": 0.0, \"tpr\": 0.0, \"n\": 549}, {\"threshold\": 0.995, \"p\": 342, \"fpr\": 0.0, \"tpr\": 0.0, \"n\": 549}, {\"threshold\": 0.996, \"p\": 342, \"fpr\": 0.0, \"tpr\": 0.0, \"n\": 549}, {\"threshold\": 0.997, \"p\": 342, \"fpr\": 0.0, \"tpr\": 0.0, \"n\": 549}, {\"threshold\": 0.998, \"p\": 342, \"fpr\": 0.0, \"tpr\": 0.0, \"n\": 549}, {\"threshold\": 0.999, \"p\": 342, \"fpr\": 0.0, \"tpr\": 0.0, \"n\": 549}, {\"threshold\": 1.0, \"p\": 342, \"fpr\": 0.0, \"tpr\": 0.0, \"n\": 549}]}]]}, e);\n",
       "                });\n",
       "            })();\n",
       "        "
      ]
     },
     "metadata": {},
     "output_type": "display_data"
    }
   ],
   "source": [
    "Decision_Tree.show(view = \"Evaluation\")"
   ]
  },
  {
   "cell_type": "markdown",
   "metadata": {},
   "source": [
    "## Predict the survival by decision tree"
   ]
  },
  {
   "cell_type": "code",
   "execution_count": 16,
   "metadata": {
    "collapsed": true
   },
   "outputs": [],
   "source": [
    "prediction = Decision_Tree.predict(test)"
   ]
  },
  {
   "cell_type": "code",
   "execution_count": 18,
   "metadata": {
    "collapsed": false
   },
   "outputs": [],
   "source": [
    "prediction = graphlab.SFrame(prediction)"
   ]
  },
  {
   "cell_type": "code",
   "execution_count": 24,
   "metadata": {
    "collapsed": false
   },
   "outputs": [],
   "source": [
    "prediction['PassengerId'] = test['PassengerId']"
   ]
  },
  {
   "cell_type": "code",
   "execution_count": 26,
   "metadata": {
    "collapsed": false
   },
   "outputs": [
    {
     "data": {
      "text/html": [
       "<div style=\"max-height:1000px;max-width:1500px;overflow:auto;\"><table frame=\"box\" rules=\"cols\">\n",
       "    <tr>\n",
       "        <th style=\"padding-left: 1em; padding-right: 1em; text-align: center\">Survived</th>\n",
       "        <th style=\"padding-left: 1em; padding-right: 1em; text-align: center\">PassengerId</th>\n",
       "    </tr>\n",
       "    <tr>\n",
       "        <td style=\"padding-left: 1em; padding-right: 1em; text-align: center; vertical-align: top\">0</td>\n",
       "        <td style=\"padding-left: 1em; padding-right: 1em; text-align: center; vertical-align: top\">892</td>\n",
       "    </tr>\n",
       "    <tr>\n",
       "        <td style=\"padding-left: 1em; padding-right: 1em; text-align: center; vertical-align: top\">0</td>\n",
       "        <td style=\"padding-left: 1em; padding-right: 1em; text-align: center; vertical-align: top\">893</td>\n",
       "    </tr>\n",
       "    <tr>\n",
       "        <td style=\"padding-left: 1em; padding-right: 1em; text-align: center; vertical-align: top\">0</td>\n",
       "        <td style=\"padding-left: 1em; padding-right: 1em; text-align: center; vertical-align: top\">894</td>\n",
       "    </tr>\n",
       "    <tr>\n",
       "        <td style=\"padding-left: 1em; padding-right: 1em; text-align: center; vertical-align: top\">0</td>\n",
       "        <td style=\"padding-left: 1em; padding-right: 1em; text-align: center; vertical-align: top\">895</td>\n",
       "    </tr>\n",
       "    <tr>\n",
       "        <td style=\"padding-left: 1em; padding-right: 1em; text-align: center; vertical-align: top\">0</td>\n",
       "        <td style=\"padding-left: 1em; padding-right: 1em; text-align: center; vertical-align: top\">896</td>\n",
       "    </tr>\n",
       "    <tr>\n",
       "        <td style=\"padding-left: 1em; padding-right: 1em; text-align: center; vertical-align: top\">0</td>\n",
       "        <td style=\"padding-left: 1em; padding-right: 1em; text-align: center; vertical-align: top\">897</td>\n",
       "    </tr>\n",
       "    <tr>\n",
       "        <td style=\"padding-left: 1em; padding-right: 1em; text-align: center; vertical-align: top\">0</td>\n",
       "        <td style=\"padding-left: 1em; padding-right: 1em; text-align: center; vertical-align: top\">898</td>\n",
       "    </tr>\n",
       "    <tr>\n",
       "        <td style=\"padding-left: 1em; padding-right: 1em; text-align: center; vertical-align: top\">0</td>\n",
       "        <td style=\"padding-left: 1em; padding-right: 1em; text-align: center; vertical-align: top\">899</td>\n",
       "    </tr>\n",
       "    <tr>\n",
       "        <td style=\"padding-left: 1em; padding-right: 1em; text-align: center; vertical-align: top\">1</td>\n",
       "        <td style=\"padding-left: 1em; padding-right: 1em; text-align: center; vertical-align: top\">900</td>\n",
       "    </tr>\n",
       "    <tr>\n",
       "        <td style=\"padding-left: 1em; padding-right: 1em; text-align: center; vertical-align: top\">0</td>\n",
       "        <td style=\"padding-left: 1em; padding-right: 1em; text-align: center; vertical-align: top\">901</td>\n",
       "    </tr>\n",
       "</table>\n",
       "[418 rows x 2 columns]<br/>Note: Only the head of the SFrame is printed.<br/>You can use print_rows(num_rows=m, num_columns=n) to print more rows and columns.\n",
       "</div>"
      ],
      "text/plain": [
       "Columns:\n",
       "\tSurvived\tint\n",
       "\tPassengerId\tint\n",
       "\n",
       "Rows: 418\n",
       "\n",
       "Data:\n",
       "+----------+-------------+\n",
       "| Survived | PassengerId |\n",
       "+----------+-------------+\n",
       "|    0     |     892     |\n",
       "|    0     |     893     |\n",
       "|    0     |     894     |\n",
       "|    0     |     895     |\n",
       "|    0     |     896     |\n",
       "|    0     |     897     |\n",
       "|    0     |     898     |\n",
       "|    0     |     899     |\n",
       "|    1     |     900     |\n",
       "|    0     |     901     |\n",
       "+----------+-------------+\n",
       "[418 rows x 2 columns]\n",
       "Note: Only the head of the SFrame is printed.\n",
       "You can use print_rows(num_rows=m, num_columns=n) to print more rows and columns."
      ]
     },
     "execution_count": 26,
     "metadata": {},
     "output_type": "execute_result"
    }
   ],
   "source": [
    "prediction.rename({'X1':'Survived'})"
   ]
  },
  {
   "cell_type": "code",
   "execution_count": 27,
   "metadata": {
    "collapsed": true
   },
   "outputs": [],
   "source": [
    "graphlab.SFrame.export_csv(prediction, filename=\"Titanic_Predictions\")"
   ]
  },
  {
   "cell_type": "markdown",
   "metadata": {},
   "source": [
    "# Build a Random Forest model"
   ]
  },
  {
   "cell_type": "code",
   "execution_count": 71,
   "metadata": {
    "collapsed": false
   },
   "outputs": [
    {
     "name": "stdout",
     "output_type": "stream",
     "text": [
      "PROGRESS: Creating a validation set from 5 percent of training data. This may take a while.\n",
      "          You can set ``validation_set=None`` to disable validation tracking.\n",
      "\n"
     ]
    },
    {
     "data": {
      "text/html": [
       "<pre>Random forest classifier:</pre>"
      ],
      "text/plain": [
       "Random forest classifier:"
      ]
     },
     "metadata": {},
     "output_type": "display_data"
    },
    {
     "data": {
      "text/html": [
       "<pre>--------------------------------------------------------</pre>"
      ],
      "text/plain": [
       "--------------------------------------------------------"
      ]
     },
     "metadata": {},
     "output_type": "display_data"
    },
    {
     "data": {
      "text/html": [
       "<pre>Number of examples          : 843</pre>"
      ],
      "text/plain": [
       "Number of examples          : 843"
      ]
     },
     "metadata": {},
     "output_type": "display_data"
    },
    {
     "data": {
      "text/html": [
       "<pre>Number of classes           : 2</pre>"
      ],
      "text/plain": [
       "Number of classes           : 2"
      ]
     },
     "metadata": {},
     "output_type": "display_data"
    },
    {
     "data": {
      "text/html": [
       "<pre>Number of feature columns   : 4</pre>"
      ],
      "text/plain": [
       "Number of feature columns   : 4"
      ]
     },
     "metadata": {},
     "output_type": "display_data"
    },
    {
     "data": {
      "text/html": [
       "<pre>Number of unpacked features : 4</pre>"
      ],
      "text/plain": [
       "Number of unpacked features : 4"
      ]
     },
     "metadata": {},
     "output_type": "display_data"
    },
    {
     "data": {
      "text/html": [
       "<pre>+-----------+--------------+-------------------+-------------------+---------------------+---------------------+</pre>"
      ],
      "text/plain": [
       "+-----------+--------------+-------------------+-------------------+---------------------+---------------------+"
      ]
     },
     "metadata": {},
     "output_type": "display_data"
    },
    {
     "data": {
      "text/html": [
       "<pre>| Iteration | Elapsed Time | Training-accuracy | Training-log_loss | Validation-accuracy | Validation-log_loss |</pre>"
      ],
      "text/plain": [
       "| Iteration | Elapsed Time | Training-accuracy | Training-log_loss | Validation-accuracy | Validation-log_loss |"
      ]
     },
     "metadata": {},
     "output_type": "display_data"
    },
    {
     "data": {
      "text/html": [
       "<pre>+-----------+--------------+-------------------+-------------------+---------------------+---------------------+</pre>"
      ],
      "text/plain": [
       "+-----------+--------------+-------------------+-------------------+---------------------+---------------------+"
      ]
     },
     "metadata": {},
     "output_type": "display_data"
    },
    {
     "data": {
      "text/html": [
       "<pre>| 1         | 0.003002     | 0.833926          | 0.422539          | 0.875000            | 0.331297            |</pre>"
      ],
      "text/plain": [
       "| 1         | 0.003002     | 0.833926          | 0.422539          | 0.875000            | 0.331297            |"
      ]
     },
     "metadata": {},
     "output_type": "display_data"
    },
    {
     "data": {
      "text/html": [
       "<pre>| 2         | 0.004003     | 0.854093          | 0.407730          | 0.916667            | 0.316783            |</pre>"
      ],
      "text/plain": [
       "| 2         | 0.004003     | 0.854093          | 0.407730          | 0.916667            | 0.316783            |"
      ]
     },
     "metadata": {},
     "output_type": "display_data"
    },
    {
     "data": {
      "text/html": [
       "<pre>| 3         | 0.005003     | 0.855279          | 0.414304          | 0.916667            | 0.327994            |</pre>"
      ],
      "text/plain": [
       "| 3         | 0.005003     | 0.855279          | 0.414304          | 0.916667            | 0.327994            |"
      ]
     },
     "metadata": {},
     "output_type": "display_data"
    },
    {
     "data": {
      "text/html": [
       "<pre>| 4         | 0.006004     | 0.858837          | 0.411585          | 0.916667            | 0.334474            |</pre>"
      ],
      "text/plain": [
       "| 4         | 0.006004     | 0.858837          | 0.411585          | 0.916667            | 0.334474            |"
      ]
     },
     "metadata": {},
     "output_type": "display_data"
    },
    {
     "data": {
      "text/html": [
       "<pre>| 5         | 0.007005     | 0.856465          | 0.416804          | 0.916667            | 0.338576            |</pre>"
      ],
      "text/plain": [
       "| 5         | 0.007005     | 0.856465          | 0.416804          | 0.916667            | 0.338576            |"
      ]
     },
     "metadata": {},
     "output_type": "display_data"
    },
    {
     "data": {
      "text/html": [
       "<pre>| 6         | 0.008006     | 0.856465          | 0.415022          | 0.895833            | 0.344103            |</pre>"
      ],
      "text/plain": [
       "| 6         | 0.008006     | 0.856465          | 0.415022          | 0.895833            | 0.344103            |"
      ]
     },
     "metadata": {},
     "output_type": "display_data"
    },
    {
     "data": {
      "text/html": [
       "<pre>+-----------+--------------+-------------------+-------------------+---------------------+---------------------+</pre>"
      ],
      "text/plain": [
       "+-----------+--------------+-------------------+-------------------+---------------------+---------------------+"
      ]
     },
     "metadata": {},
     "output_type": "display_data"
    }
   ],
   "source": [
    "RF_model = graphlab.classifier.random_forest_classifier.create(train, target = 'Survived', features=features)"
   ]
  },
  {
   "cell_type": "markdown",
   "metadata": {},
   "source": [
    "## Predicting the survival by random forest"
   ]
  },
  {
   "cell_type": "code",
   "execution_count": 72,
   "metadata": {
    "collapsed": true
   },
   "outputs": [],
   "source": [
    "prediction['Survived'] = RF_model.predict(test)"
   ]
  },
  {
   "cell_type": "code",
   "execution_count": 73,
   "metadata": {
    "collapsed": true
   },
   "outputs": [],
   "source": [
    "graphlab.SFrame.export_csv(prediction, filename=\"Titanic_Predictions.csv\")"
   ]
  },
  {
   "cell_type": "code",
   "execution_count": 38,
   "metadata": {
    "collapsed": false
   },
   "outputs": [
    {
     "data": {
      "text/html": [
       "<div style=\"max-height:1000px;max-width:1500px;overflow:auto;\"><table frame=\"box\" rules=\"cols\">\n",
       "    <tr>\n",
       "        <th style=\"padding-left: 1em; padding-right: 1em; text-align: center\">Survived</th>\n",
       "        <th style=\"padding-left: 1em; padding-right: 1em; text-align: center\">PassengerId</th>\n",
       "    </tr>\n",
       "    <tr>\n",
       "        <td style=\"padding-left: 1em; padding-right: 1em; text-align: center; vertical-align: top\">0</td>\n",
       "        <td style=\"padding-left: 1em; padding-right: 1em; text-align: center; vertical-align: top\">892</td>\n",
       "    </tr>\n",
       "    <tr>\n",
       "        <td style=\"padding-left: 1em; padding-right: 1em; text-align: center; vertical-align: top\">1</td>\n",
       "        <td style=\"padding-left: 1em; padding-right: 1em; text-align: center; vertical-align: top\">893</td>\n",
       "    </tr>\n",
       "    <tr>\n",
       "        <td style=\"padding-left: 1em; padding-right: 1em; text-align: center; vertical-align: top\">0</td>\n",
       "        <td style=\"padding-left: 1em; padding-right: 1em; text-align: center; vertical-align: top\">894</td>\n",
       "    </tr>\n",
       "    <tr>\n",
       "        <td style=\"padding-left: 1em; padding-right: 1em; text-align: center; vertical-align: top\">0</td>\n",
       "        <td style=\"padding-left: 1em; padding-right: 1em; text-align: center; vertical-align: top\">895</td>\n",
       "    </tr>\n",
       "    <tr>\n",
       "        <td style=\"padding-left: 1em; padding-right: 1em; text-align: center; vertical-align: top\">1</td>\n",
       "        <td style=\"padding-left: 1em; padding-right: 1em; text-align: center; vertical-align: top\">896</td>\n",
       "    </tr>\n",
       "    <tr>\n",
       "        <td style=\"padding-left: 1em; padding-right: 1em; text-align: center; vertical-align: top\">0</td>\n",
       "        <td style=\"padding-left: 1em; padding-right: 1em; text-align: center; vertical-align: top\">897</td>\n",
       "    </tr>\n",
       "    <tr>\n",
       "        <td style=\"padding-left: 1em; padding-right: 1em; text-align: center; vertical-align: top\">1</td>\n",
       "        <td style=\"padding-left: 1em; padding-right: 1em; text-align: center; vertical-align: top\">898</td>\n",
       "    </tr>\n",
       "    <tr>\n",
       "        <td style=\"padding-left: 1em; padding-right: 1em; text-align: center; vertical-align: top\">0</td>\n",
       "        <td style=\"padding-left: 1em; padding-right: 1em; text-align: center; vertical-align: top\">899</td>\n",
       "    </tr>\n",
       "    <tr>\n",
       "        <td style=\"padding-left: 1em; padding-right: 1em; text-align: center; vertical-align: top\">1</td>\n",
       "        <td style=\"padding-left: 1em; padding-right: 1em; text-align: center; vertical-align: top\">900</td>\n",
       "    </tr>\n",
       "    <tr>\n",
       "        <td style=\"padding-left: 1em; padding-right: 1em; text-align: center; vertical-align: top\">0</td>\n",
       "        <td style=\"padding-left: 1em; padding-right: 1em; text-align: center; vertical-align: top\">901</td>\n",
       "    </tr>\n",
       "</table>\n",
       "[418 rows x 2 columns]<br/>Note: Only the head of the SFrame is printed.<br/>You can use print_rows(num_rows=m, num_columns=n) to print more rows and columns.\n",
       "</div>"
      ],
      "text/plain": [
       "Columns:\n",
       "\tSurvived\tint\n",
       "\tPassengerId\tint\n",
       "\n",
       "Rows: 418\n",
       "\n",
       "Data:\n",
       "+----------+-------------+\n",
       "| Survived | PassengerId |\n",
       "+----------+-------------+\n",
       "|    0     |     892     |\n",
       "|    1     |     893     |\n",
       "|    0     |     894     |\n",
       "|    0     |     895     |\n",
       "|    1     |     896     |\n",
       "|    0     |     897     |\n",
       "|    1     |     898     |\n",
       "|    0     |     899     |\n",
       "|    1     |     900     |\n",
       "|    0     |     901     |\n",
       "+----------+-------------+\n",
       "[418 rows x 2 columns]\n",
       "Note: Only the head of the SFrame is printed.\n",
       "You can use print_rows(num_rows=m, num_columns=n) to print more rows and columns."
      ]
     },
     "execution_count": 38,
     "metadata": {},
     "output_type": "execute_result"
    }
   ],
   "source": [
    "prediction"
   ]
  },
  {
   "cell_type": "code",
   "execution_count": 45,
   "metadata": {
    "collapsed": false
   },
   "outputs": [
    {
     "name": "stdout",
     "output_type": "stream",
     "text": [
      "PROGRESS: Creating a validation set from 5 percent of training data. This may take a while.\n",
      "          You can set ``validation_set=None`` to disable validation tracking.\n",
      "\n"
     ]
    },
    {
     "data": {
      "text/html": [
       "<pre>Boosted trees classifier:</pre>"
      ],
      "text/plain": [
       "Boosted trees classifier:"
      ]
     },
     "metadata": {},
     "output_type": "display_data"
    },
    {
     "data": {
      "text/html": [
       "<pre>--------------------------------------------------------</pre>"
      ],
      "text/plain": [
       "--------------------------------------------------------"
      ]
     },
     "metadata": {},
     "output_type": "display_data"
    },
    {
     "data": {
      "text/html": [
       "<pre>Number of examples          : 847</pre>"
      ],
      "text/plain": [
       "Number of examples          : 847"
      ]
     },
     "metadata": {},
     "output_type": "display_data"
    },
    {
     "data": {
      "text/html": [
       "<pre>Number of classes           : 2</pre>"
      ],
      "text/plain": [
       "Number of classes           : 2"
      ]
     },
     "metadata": {},
     "output_type": "display_data"
    },
    {
     "data": {
      "text/html": [
       "<pre>Number of feature columns   : 6</pre>"
      ],
      "text/plain": [
       "Number of feature columns   : 6"
      ]
     },
     "metadata": {},
     "output_type": "display_data"
    },
    {
     "data": {
      "text/html": [
       "<pre>Number of unpacked features : 6</pre>"
      ],
      "text/plain": [
       "Number of unpacked features : 6"
      ]
     },
     "metadata": {},
     "output_type": "display_data"
    },
    {
     "data": {
      "text/html": [
       "<pre>+-----------+--------------+-------------------+-------------------+---------------------+---------------------+</pre>"
      ],
      "text/plain": [
       "+-----------+--------------+-------------------+-------------------+---------------------+---------------------+"
      ]
     },
     "metadata": {},
     "output_type": "display_data"
    },
    {
     "data": {
      "text/html": [
       "<pre>| Iteration | Elapsed Time | Training-accuracy | Training-log_loss | Validation-accuracy | Validation-log_loss |</pre>"
      ],
      "text/plain": [
       "| Iteration | Elapsed Time | Training-accuracy | Training-log_loss | Validation-accuracy | Validation-log_loss |"
      ]
     },
     "metadata": {},
     "output_type": "display_data"
    },
    {
     "data": {
      "text/html": [
       "<pre>+-----------+--------------+-------------------+-------------------+---------------------+---------------------+</pre>"
      ],
      "text/plain": [
       "+-----------+--------------+-------------------+-------------------+---------------------+---------------------+"
      ]
     },
     "metadata": {},
     "output_type": "display_data"
    },
    {
     "data": {
      "text/html": [
       "<pre>| 1         | 0.003001     | 0.865407          | 0.551892          | 0.818182            | 0.565352            |</pre>"
      ],
      "text/plain": [
       "| 1         | 0.003001     | 0.865407          | 0.551892          | 0.818182            | 0.565352            |"
      ]
     },
     "metadata": {},
     "output_type": "display_data"
    },
    {
     "data": {
      "text/html": [
       "<pre>+-----------+--------------+-------------------+-------------------+---------------------+---------------------+</pre>"
      ],
      "text/plain": [
       "+-----------+--------------+-------------------+-------------------+---------------------+---------------------+"
      ]
     },
     "metadata": {},
     "output_type": "display_data"
    }
   ],
   "source": [
    "boosted_tree = graphlab.classifier.boosted_trees_classifier.create(train, target = 'Survived', features=features)"
   ]
  },
  {
   "cell_type": "code",
   "execution_count": 46,
   "metadata": {
    "collapsed": true
   },
   "outputs": [],
   "source": [
    "prediction['Survived'] = boosted_tree.predict(test)"
   ]
  },
  {
   "cell_type": "code",
   "execution_count": 47,
   "metadata": {
    "collapsed": true
   },
   "outputs": [],
   "source": [
    "graphlab.SFrame.export_csv(prediction, filename=\"Titanic_Predictions.csv\")"
   ]
  },
  {
   "cell_type": "code",
   "execution_count": 48,
   "metadata": {
    "collapsed": false
   },
   "outputs": [
    {
     "data": {
      "text/plain": [
       "6L"
      ]
     },
     "execution_count": 48,
     "metadata": {},
     "output_type": "execute_result"
    }
   ],
   "source": [
    "RF_model.max_depth"
   ]
  }
 ],
 "metadata": {
  "kernelspec": {
   "display_name": "Python 2",
   "language": "python",
   "name": "python2"
  },
  "language_info": {
   "codemirror_mode": {
    "name": "ipython",
    "version": 2
   },
   "file_extension": ".py",
   "mimetype": "text/x-python",
   "name": "python",
   "nbconvert_exporter": "python",
   "pygments_lexer": "ipython2",
   "version": "2.7.11"
  }
 },
 "nbformat": 4,
 "nbformat_minor": 0
}
